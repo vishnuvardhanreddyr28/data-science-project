{
 "cells": [
  {
   "cell_type": "markdown",
   "metadata": {
    "papermill": {
     "duration": 0.079741,
     "end_time": "2020-12-11T15:55:36.393834",
     "exception": false,
     "start_time": "2020-12-11T15:55:36.314093",
     "status": "completed"
    },
    "tags": []
   },
   "source": [
    "Link to the dataset \n",
    "https://www.kaggle.com/c/costa-rican-household-poverty-prediction/data"
   ]
  },
  {
   "cell_type": "markdown",
   "metadata": {
    "papermill": {
     "duration": 0.079308,
     "end_time": "2020-12-11T15:55:36.552582",
     "exception": false,
     "start_time": "2020-12-11T15:55:36.473274",
     "status": "completed"
    },
    "tags": []
   },
   "source": [
    "\n",
    "Data Information\n",
    "\n",
    "The dataset is given in the form of a CSV file. The CSV file contains 142 columns. Each row has a unique person ID. Based on the attributes we have to classify that person into one of the 4 classes\n",
    "\n",
    "1 = extreme poverty\n",
    "\n",
    "2 = moderate poverty\n",
    "\n",
    "3 = vulnerable households\n",
    "\n",
    "4 = non vulnerable households\n",
    "\n",
    "Columns \n",
    "\n",
    "v2a1, Monthly rent payment\n",
    "\n",
    "hacdor, =1 Overcrowding by bedrooms\n",
    "\n",
    "rooms,  number of all rooms in the house\n",
    "\n",
    "hacapo, =1 Overcrowding by rooms\n",
    "\n",
    "v14a, =1 has bathroom in the household\n",
    "\n",
    "refrig, =1 if the household has refrigerator\n",
    "\n",
    "v18q, owns a tablet\n",
    "\n",
    "v18q1, number of tablets household owns\n",
    "\n",
    "r4h1, Males younger than 12 years of age\n",
    "\n",
    "r4h2, Males 12 years of age and older\n",
    "\n",
    "r4h3, Total males in the household\n",
    "\n",
    "r4m1, Females younger than 12 years of age\n",
    "\n",
    "r4m2, Females 12 years of age and older\n",
    "\n",
    "r4m3, Total females in the household\n",
    "\n",
    "r4t1, persons younger than 12 years of age\n",
    "\n",
    "r4t2, persons 12 years of age and older\n",
    "\n",
    "r4t3, Total persons in the household\n",
    "\n",
    "tamhog, size of the household\n",
    "\n",
    "tamviv, number of persons living in the household\n",
    "\n",
    "escolari, years of schooling\n",
    "\n",
    "rez_esc, Years behind in school\n",
    "\n",
    "hhsize, household size\n",
    "\n",
    "paredblolad, =1 if predominant material on the outside wall is block or brick\n",
    "\n",
    "paredzocalo, \"=1 if predominant material on the outside wall is socket (wood,  zinc or absbesto\"\n",
    "\n",
    "paredpreb, =1 if predominant material on the outside wall is prefabricated or cement\n",
    "\n",
    "pareddes, =1 if predominant material on the outside wall is waste material\n",
    "\n",
    "paredmad, =1 if predominant material on the outside wall is wood\n",
    "\n",
    "paredzinc, =1 if predominant material on the outside wall is zink\n",
    "\n",
    "paredfibras, =1 if predominant material on the outside wall is natural fibers\n",
    "\n",
    "paredother, =1 if predominant material on the outside wall is other\n",
    "\n",
    "pisomoscer, \"=1 if predominant material on the floor is mosaic,  ceramic,  terrazo\"\n",
    "\n",
    "pisocemento, =1 if predominant material on the floor is cement\n",
    "\n",
    "pisoother, =1 if predominant material on the floor is other\n",
    "\n",
    "pisonatur, =1 if predominant material on the floor is  natural material\n",
    "\n",
    "pisonotiene, =1 if no floor at the household\n",
    "\n",
    "pisomadera, =1 if predominant material on the floor is wood\n",
    "\n",
    "techozinc, =1 if predominant material on the roof is metal foil or zink\n",
    "\n",
    "techoentrepiso, \"=1 if predominant material on the roof is fiber cement,  mezzanine \"\n",
    "\n",
    "techocane, =1 if predominant material on the roof is natural fibers\n",
    "\n",
    "techootro, =1 if predominant material on the roof is other\n",
    "\n",
    "cielorazo, =1 if the house has ceiling\n",
    "\n",
    "abastaguadentro, =1 if water provision inside the dwelling\n",
    "\n",
    "abastaguafuera, =1 if water provision outside the dwelling\n",
    "\n",
    "abastaguano, =1 if no water provision\n",
    "\n",
    "public, \"=1 electricity from CNFL,  ICE,  ESPH/JASEC\"\n",
    "\n",
    "planpri, =1 electricity from private plant\n",
    "\n",
    "noelec, =1 no electricity in the dwelling\n",
    "\n",
    "coopele, =1 electricity from cooperative\n",
    "\n",
    "sanitario1, =1 no toilet in the dwelling\n",
    "\n",
    "sanitario2, =1 toilet connected to sewer or cesspool\n",
    "\n",
    "sanitario3, =1 toilet connected to  septic tank\n",
    "\n",
    "sanitario5, =1 toilet connected to black hole or letrine\n",
    "\n",
    "sanitario6, =1 toilet connected to other system\n",
    "\n",
    "energcocinar1, =1 no main source of energy used for cooking (no kitchen)\n",
    "\n",
    "energcocinar2, =1 main source of energy used for cooking electricity\n",
    "\n",
    "energcocinar3, =1 main source of energy used for cooking gas\n",
    "\n",
    "energcocinar4, =1 main source of energy used for cooking wood charcoal\n",
    "\n",
    "elimbasu1, =1 if rubbish disposal mainly by tanker truck\n",
    "\n",
    "elimbasu2, =1 if rubbish disposal mainly by botan hollow or buried\n",
    "\n",
    "elimbasu3, =1 if rubbish disposal mainly by burning\n",
    "\n",
    "elimbasu4, =1 if rubbish disposal mainly by throwing in an unoccupied space\n",
    "\n",
    "elimbasu5, \"=1 if rubbish disposal mainly by throwing in river,  creek or sea\"\n",
    "\n",
    "elimbasu6, =1 if rubbish disposal mainly other\n",
    "\n",
    "epared1, =1 if walls are bad\n",
    "\n",
    "epared2, =1 if walls are regular\n",
    "\n",
    "epared3, =1 if walls are good\n",
    "\n",
    "etecho1, =1 if roof are bad\n",
    "\n",
    "etecho2, =1 if roof are regular\n",
    "\n",
    "etecho3, =1 if roof are good\n",
    "\n",
    "eviv1, =1 if floor are bad\n",
    "\n",
    "eviv2, =1 if floor are regular\n",
    "\n",
    "eviv3, =1 if floor are good\n",
    "\n",
    "dis, =1 if disable person\n",
    "\n",
    "male, =1 if male\n",
    "\n",
    "female, =1 if female\n",
    "\n",
    "estadocivil1, =1 if less than 10 years old\n",
    "\n",
    "estadocivil2, =1 if free or coupled uunion\n",
    "\n",
    "estadocivil3, =1 if married\n",
    "\n",
    "estadocivil4, =1 if divorced\n",
    "\n",
    "estadocivil5, =1 if separated\n",
    "\n",
    "estadocivil6, =1 if widow/er\n",
    "\n",
    "estadocivil7, =1 if single\n",
    "\n",
    "parentesco1, =1 if household head\n",
    "\n",
    "parentesco2, =1 if spouse/partner\n",
    "\n",
    "parentesco3, =1 if son/doughter\n",
    "\n",
    "parentesco4, =1 if stepson/doughter\n",
    "\n",
    "parentesco5, =1 if son/doughter in law\n",
    "\n",
    "parentesco6, =1 if grandson/doughter\n",
    "\n",
    "parentesco7, =1 if mother/father\n",
    "\n",
    "parentesco8, =1 if father/mother in law\n",
    "\n",
    "parentesco9, =1 if brother/sister\n",
    "\n",
    "parentesco10, =1 if brother/sister in law\n",
    "\n",
    "parentesco11, =1 if other family member\n",
    "\n",
    "parentesco12, =1 if other non family member\n",
    "\n",
    "idhogar, Household level identifier\n",
    "\n",
    "hogar_nin, Number of children 0 to 19 in household\n",
    "\n",
    "hogar_adul, Number of adults in household\n",
    "\n",
    "hogar_mayor, # of individuals 65+ in the household\n",
    "\n",
    "hogar_total, # of total individuals in the household\n",
    "\n",
    "dependency, Dependency rate, calculated = (number of members of the household younger than 19 or older than 64)/(number of \n",
    "member of household between 19 and 64)\n",
    "\n",
    "edjefe, years of education of male head of household, based on the interaction of escolari (years of education), head of \n",
    "household and gender, yes=1 and no=0\n",
    "\n",
    "edjefa, years of education of female head of household, based on the interaction of escolari (years of education), head of \n",
    "household and gender, yes=1 and no=0\n",
    "\n",
    "meaneduc,average years of education for adults (18+)\n",
    "\n",
    "instlevel1, =1 no level of education\n",
    "\n",
    "instlevel2, =1 incomplete primary\n",
    "\n",
    "instlevel3, =1 complete primary\n",
    "\n",
    "instlevel4, =1 incomplete academic secondary level\n",
    "\n",
    "instlevel5, =1 complete academic secondary level\n",
    "\n",
    "instlevel6, =1 incomplete technical secondary level\n",
    "\n",
    "instlevel7, =1 complete technical secondary level\n",
    "\n",
    "instlevel8, =1 undergraduate and higher education\n",
    "\n",
    "instlevel9, =1 postgraduate higher education\n",
    "\n",
    "bedrooms, number of bedrooms\n",
    "\n",
    "overcrowding, # persons per room\n",
    "\n",
    "tipovivi1, =1 own and fully paid house\n",
    "\n",
    "tipovivi2, \"=1 own,  paying in installments\"\n",
    "\n",
    "tipovivi3, =1 rented\n",
    "\n",
    "tipovivi4, =1 precarious\n",
    "\n",
    "tipovivi5, \"=1 other(assigned,  borrowed)\"\n",
    "\n",
    "computer, =1 if the household has notebook or desktop computer\n",
    "\n",
    "television, =1 if the household has TV\n",
    "\n",
    "mobilephone, =1 if mobile phone\n",
    "\n",
    "qmobilephone, # of mobile phones\n",
    "\n",
    "lugar1, =1 region Central\n",
    "\n",
    "lugar2, =1 region Chorotega\n",
    "\n",
    "lugar3, =1 region PacÃƒ ­fico central\n",
    "\n",
    "lugar4, =1 region Brunca\n",
    "\n",
    "lugar5, =1 region Huetar AtlÃƒ ¡ntica\n",
    "\n",
    "lugar6, =1 region Huetar Norte\n",
    "\n",
    "area1, =1 zona urbana\n",
    "\n",
    "area2, =2 zona rural\n",
    "\n",
    "age, Age in years\n",
    "\n",
    "SQBescolari, escolari squared\n",
    "\n",
    "SQBage, age squared\n",
    "\n",
    "SQBhogar_total, hogar_total squared\n",
    "\n",
    "SQBedjefe, edjefe squared\n",
    "\n",
    "SQBhogar_nin, hogar_nin squared\n",
    "\n",
    "SQBovercrowding, overcrowding squared\n",
    "\n",
    "SQBdependency, dependency squared\n",
    "\n",
    "SQBmeaned, square of the mean years of education of adults (>=18) in the household\n",
    "\n",
    "agesq, Age squared\n"
   ]
  },
  {
   "cell_type": "markdown",
   "metadata": {
    "papermill": {
     "duration": 0.078742,
     "end_time": "2020-12-11T15:55:36.709836",
     "exception": false,
     "start_time": "2020-12-11T15:55:36.631094",
     "status": "completed"
    },
    "tags": []
   },
   "source": []
  },
  {
   "cell_type": "markdown",
   "metadata": {
    "papermill": {
     "duration": 0.080244,
     "end_time": "2020-12-11T15:55:36.868376",
     "exception": false,
     "start_time": "2020-12-11T15:55:36.788132",
     "status": "completed"
    },
    "tags": []
   },
   "source": []
  },
  {
   "cell_type": "markdown",
   "metadata": {
    "papermill": {
     "duration": 0.081328,
     "end_time": "2020-12-11T15:55:37.032155",
     "exception": false,
     "start_time": "2020-12-11T15:55:36.950827",
     "status": "completed"
    },
    "tags": []
   },
   "source": [
    "**Expected outcome from the project**\n",
    "\n",
    "1) Perform EDA and extract important features\n",
    "\n",
    "2) Perform data preprocessing steps\n",
    "\n",
    "3) Applying different machine learning models to classify a person id into one of the 4 classes\n",
    "\n"
   ]
  },
  {
   "cell_type": "code",
   "execution_count": 1,
   "metadata": {
    "_cell_guid": "b1076dfc-b9ad-4769-8c92-a6c4dae69d19",
    "_uuid": "8f2839f25d086af736a60e9eeb907d3b93b6e0e5",
    "execution": {
     "iopub.execute_input": "2020-12-11T15:55:37.200991Z",
     "iopub.status.busy": "2020-12-11T15:55:37.200143Z",
     "iopub.status.idle": "2020-12-11T15:55:37.204557Z",
     "shell.execute_reply": "2020-12-11T15:55:37.203933Z"
    },
    "papermill": {
     "duration": 0.090302,
     "end_time": "2020-12-11T15:55:37.204685",
     "exception": false,
     "start_time": "2020-12-11T15:55:37.114383",
     "status": "completed"
    },
    "tags": []
   },
   "outputs": [],
   "source": [
    "# This Python 3 environment comes with many helpful analytics libraries installed\n",
    "# It is defined by the kaggle/python Docker image: https://github.com/kaggle/docker-python\n",
    "# For example, here's several helpful packages to load\n",
    "\n",
    "import numpy as np # linear algebra\n",
    "import pandas as pd # data processing, CSV file I/O (e.g. pd.read_csv)\n",
    "\n",
    "# Input data files are available in the read-only \"../input/\" directory\n",
    "# For example, running this (by clicking run or pressing Shift+Enter) will list all files under the input directory\n",
    "\n",
    "import os\n",
    "\n",
    "# You can write up to 20GB to the current directory (/kaggle/working/) that gets preserved as output when you create a version using \"Save & Run All\" \n",
    "# You can also write temporary files to /kaggle/temp/, but they won't be saved outside of the current session"
   ]
  },
  {
   "cell_type": "markdown",
   "metadata": {
    "papermill": {
     "duration": 0.07937,
     "end_time": "2020-12-11T15:55:37.365623",
     "exception": false,
     "start_time": "2020-12-11T15:55:37.286253",
     "status": "completed"
    },
    "tags": []
   },
   "source": [
    "Extracting features with high covariance"
   ]
  },
  {
   "cell_type": "code",
   "execution_count": 2,
   "metadata": {
    "_cell_guid": "79c7e3d0-c299-4dcb-8224-4455121ee9b0",
    "_uuid": "d629ff2d2480ee46fbb7e2d37f6b5fab8052498a",
    "execution": {
     "iopub.execute_input": "2020-12-11T15:55:37.529845Z",
     "iopub.status.busy": "2020-12-11T15:55:37.529151Z",
     "iopub.status.idle": "2020-12-11T15:55:37.818391Z",
     "shell.execute_reply": "2020-12-11T15:55:37.819003Z"
    },
    "papermill": {
     "duration": 0.375274,
     "end_time": "2020-12-11T15:55:37.819156",
     "exception": false,
     "start_time": "2020-12-11T15:55:37.443882",
     "status": "completed"
    },
    "tags": []
   },
   "outputs": [
    {
     "data": {
      "text/html": [
       "<div>\n",
       "<style scoped>\n",
       "    .dataframe tbody tr th:only-of-type {\n",
       "        vertical-align: middle;\n",
       "    }\n",
       "\n",
       "    .dataframe tbody tr th {\n",
       "        vertical-align: top;\n",
       "    }\n",
       "\n",
       "    .dataframe thead th {\n",
       "        text-align: right;\n",
       "    }\n",
       "</style>\n",
       "<table border=\"1\" class=\"dataframe\">\n",
       "  <thead>\n",
       "    <tr style=\"text-align: right;\">\n",
       "      <th></th>\n",
       "      <th>Id</th>\n",
       "      <th>v2a1</th>\n",
       "      <th>hacdor</th>\n",
       "      <th>rooms</th>\n",
       "      <th>hacapo</th>\n",
       "      <th>v14a</th>\n",
       "      <th>refrig</th>\n",
       "      <th>v18q</th>\n",
       "      <th>v18q1</th>\n",
       "      <th>r4h1</th>\n",
       "      <th>r4h2</th>\n",
       "      <th>r4h3</th>\n",
       "      <th>r4m1</th>\n",
       "      <th>r4m2</th>\n",
       "      <th>r4m3</th>\n",
       "      <th>r4t1</th>\n",
       "      <th>r4t2</th>\n",
       "      <th>r4t3</th>\n",
       "      <th>tamhog</th>\n",
       "      <th>tamviv</th>\n",
       "      <th>escolari</th>\n",
       "      <th>rez_esc</th>\n",
       "      <th>hhsize</th>\n",
       "      <th>paredblolad</th>\n",
       "      <th>paredzocalo</th>\n",
       "      <th>paredpreb</th>\n",
       "      <th>pareddes</th>\n",
       "      <th>paredmad</th>\n",
       "      <th>paredzinc</th>\n",
       "      <th>paredfibras</th>\n",
       "      <th>paredother</th>\n",
       "      <th>pisomoscer</th>\n",
       "      <th>pisocemento</th>\n",
       "      <th>pisoother</th>\n",
       "      <th>pisonatur</th>\n",
       "      <th>pisonotiene</th>\n",
       "      <th>pisomadera</th>\n",
       "      <th>techozinc</th>\n",
       "      <th>techoentrepiso</th>\n",
       "      <th>techocane</th>\n",
       "      <th>techootro</th>\n",
       "      <th>cielorazo</th>\n",
       "      <th>abastaguadentro</th>\n",
       "      <th>abastaguafuera</th>\n",
       "      <th>abastaguano</th>\n",
       "      <th>public</th>\n",
       "      <th>planpri</th>\n",
       "      <th>noelec</th>\n",
       "      <th>coopele</th>\n",
       "      <th>sanitario1</th>\n",
       "      <th>sanitario2</th>\n",
       "      <th>sanitario3</th>\n",
       "      <th>sanitario5</th>\n",
       "      <th>sanitario6</th>\n",
       "      <th>energcocinar1</th>\n",
       "      <th>energcocinar2</th>\n",
       "      <th>energcocinar3</th>\n",
       "      <th>energcocinar4</th>\n",
       "      <th>elimbasu1</th>\n",
       "      <th>elimbasu2</th>\n",
       "      <th>elimbasu3</th>\n",
       "      <th>elimbasu4</th>\n",
       "      <th>elimbasu5</th>\n",
       "      <th>elimbasu6</th>\n",
       "      <th>epared1</th>\n",
       "      <th>epared2</th>\n",
       "      <th>epared3</th>\n",
       "      <th>etecho1</th>\n",
       "      <th>etecho2</th>\n",
       "      <th>etecho3</th>\n",
       "      <th>eviv1</th>\n",
       "      <th>eviv2</th>\n",
       "      <th>eviv3</th>\n",
       "      <th>dis</th>\n",
       "      <th>male</th>\n",
       "      <th>female</th>\n",
       "      <th>estadocivil1</th>\n",
       "      <th>estadocivil2</th>\n",
       "      <th>estadocivil3</th>\n",
       "      <th>estadocivil4</th>\n",
       "      <th>estadocivil5</th>\n",
       "      <th>estadocivil6</th>\n",
       "      <th>estadocivil7</th>\n",
       "      <th>parentesco1</th>\n",
       "      <th>parentesco2</th>\n",
       "      <th>parentesco3</th>\n",
       "      <th>parentesco4</th>\n",
       "      <th>parentesco5</th>\n",
       "      <th>parentesco6</th>\n",
       "      <th>parentesco7</th>\n",
       "      <th>parentesco8</th>\n",
       "      <th>parentesco9</th>\n",
       "      <th>parentesco10</th>\n",
       "      <th>parentesco11</th>\n",
       "      <th>parentesco12</th>\n",
       "      <th>idhogar</th>\n",
       "      <th>hogar_nin</th>\n",
       "      <th>hogar_adul</th>\n",
       "      <th>hogar_mayor</th>\n",
       "      <th>hogar_total</th>\n",
       "      <th>dependency</th>\n",
       "      <th>edjefe</th>\n",
       "      <th>edjefa</th>\n",
       "      <th>meaneduc</th>\n",
       "      <th>instlevel1</th>\n",
       "      <th>instlevel2</th>\n",
       "      <th>instlevel3</th>\n",
       "      <th>instlevel4</th>\n",
       "      <th>instlevel5</th>\n",
       "      <th>instlevel6</th>\n",
       "      <th>instlevel7</th>\n",
       "      <th>instlevel8</th>\n",
       "      <th>instlevel9</th>\n",
       "      <th>bedrooms</th>\n",
       "      <th>overcrowding</th>\n",
       "      <th>tipovivi1</th>\n",
       "      <th>tipovivi2</th>\n",
       "      <th>tipovivi3</th>\n",
       "      <th>tipovivi4</th>\n",
       "      <th>tipovivi5</th>\n",
       "      <th>computer</th>\n",
       "      <th>television</th>\n",
       "      <th>mobilephone</th>\n",
       "      <th>qmobilephone</th>\n",
       "      <th>lugar1</th>\n",
       "      <th>lugar2</th>\n",
       "      <th>lugar3</th>\n",
       "      <th>lugar4</th>\n",
       "      <th>lugar5</th>\n",
       "      <th>lugar6</th>\n",
       "      <th>area1</th>\n",
       "      <th>area2</th>\n",
       "      <th>age</th>\n",
       "      <th>SQBescolari</th>\n",
       "      <th>SQBage</th>\n",
       "      <th>SQBhogar_total</th>\n",
       "      <th>SQBedjefe</th>\n",
       "      <th>SQBhogar_nin</th>\n",
       "      <th>SQBovercrowding</th>\n",
       "      <th>SQBdependency</th>\n",
       "      <th>SQBmeaned</th>\n",
       "      <th>agesq</th>\n",
       "      <th>Target</th>\n",
       "    </tr>\n",
       "  </thead>\n",
       "  <tbody>\n",
       "    <tr>\n",
       "      <th>0</th>\n",
       "      <td>ID_279628684</td>\n",
       "      <td>190000.0</td>\n",
       "      <td>0</td>\n",
       "      <td>3</td>\n",
       "      <td>0</td>\n",
       "      <td>1</td>\n",
       "      <td>1</td>\n",
       "      <td>0</td>\n",
       "      <td>NaN</td>\n",
       "      <td>0</td>\n",
       "      <td>1</td>\n",
       "      <td>1</td>\n",
       "      <td>0</td>\n",
       "      <td>0</td>\n",
       "      <td>0</td>\n",
       "      <td>0</td>\n",
       "      <td>1</td>\n",
       "      <td>1</td>\n",
       "      <td>1</td>\n",
       "      <td>1</td>\n",
       "      <td>10</td>\n",
       "      <td>NaN</td>\n",
       "      <td>1</td>\n",
       "      <td>1</td>\n",
       "      <td>0</td>\n",
       "      <td>0</td>\n",
       "      <td>0</td>\n",
       "      <td>0</td>\n",
       "      <td>0</td>\n",
       "      <td>0</td>\n",
       "      <td>0</td>\n",
       "      <td>1</td>\n",
       "      <td>0</td>\n",
       "      <td>0</td>\n",
       "      <td>0</td>\n",
       "      <td>0</td>\n",
       "      <td>0</td>\n",
       "      <td>0</td>\n",
       "      <td>1</td>\n",
       "      <td>0</td>\n",
       "      <td>0</td>\n",
       "      <td>1</td>\n",
       "      <td>1</td>\n",
       "      <td>0</td>\n",
       "      <td>0</td>\n",
       "      <td>1</td>\n",
       "      <td>0</td>\n",
       "      <td>0</td>\n",
       "      <td>0</td>\n",
       "      <td>0</td>\n",
       "      <td>1</td>\n",
       "      <td>0</td>\n",
       "      <td>0</td>\n",
       "      <td>0</td>\n",
       "      <td>0</td>\n",
       "      <td>0</td>\n",
       "      <td>1</td>\n",
       "      <td>0</td>\n",
       "      <td>1</td>\n",
       "      <td>0</td>\n",
       "      <td>0</td>\n",
       "      <td>0</td>\n",
       "      <td>0</td>\n",
       "      <td>0</td>\n",
       "      <td>0</td>\n",
       "      <td>1</td>\n",
       "      <td>0</td>\n",
       "      <td>1</td>\n",
       "      <td>0</td>\n",
       "      <td>0</td>\n",
       "      <td>1</td>\n",
       "      <td>0</td>\n",
       "      <td>0</td>\n",
       "      <td>0</td>\n",
       "      <td>1</td>\n",
       "      <td>0</td>\n",
       "      <td>0</td>\n",
       "      <td>0</td>\n",
       "      <td>0</td>\n",
       "      <td>1</td>\n",
       "      <td>0</td>\n",
       "      <td>0</td>\n",
       "      <td>0</td>\n",
       "      <td>1</td>\n",
       "      <td>0</td>\n",
       "      <td>0</td>\n",
       "      <td>0</td>\n",
       "      <td>0</td>\n",
       "      <td>0</td>\n",
       "      <td>0</td>\n",
       "      <td>0</td>\n",
       "      <td>0</td>\n",
       "      <td>0</td>\n",
       "      <td>0</td>\n",
       "      <td>0</td>\n",
       "      <td>21eb7fcc1</td>\n",
       "      <td>0</td>\n",
       "      <td>1</td>\n",
       "      <td>0</td>\n",
       "      <td>1</td>\n",
       "      <td>no</td>\n",
       "      <td>10</td>\n",
       "      <td>no</td>\n",
       "      <td>10.0</td>\n",
       "      <td>0</td>\n",
       "      <td>0</td>\n",
       "      <td>0</td>\n",
       "      <td>1</td>\n",
       "      <td>0</td>\n",
       "      <td>0</td>\n",
       "      <td>0</td>\n",
       "      <td>0</td>\n",
       "      <td>0</td>\n",
       "      <td>1</td>\n",
       "      <td>1.000000</td>\n",
       "      <td>0</td>\n",
       "      <td>0</td>\n",
       "      <td>1</td>\n",
       "      <td>0</td>\n",
       "      <td>0</td>\n",
       "      <td>0</td>\n",
       "      <td>0</td>\n",
       "      <td>1</td>\n",
       "      <td>1</td>\n",
       "      <td>1</td>\n",
       "      <td>0</td>\n",
       "      <td>0</td>\n",
       "      <td>0</td>\n",
       "      <td>0</td>\n",
       "      <td>0</td>\n",
       "      <td>1</td>\n",
       "      <td>0</td>\n",
       "      <td>43</td>\n",
       "      <td>100</td>\n",
       "      <td>1849</td>\n",
       "      <td>1</td>\n",
       "      <td>100</td>\n",
       "      <td>0</td>\n",
       "      <td>1.000000</td>\n",
       "      <td>0.0</td>\n",
       "      <td>100.0</td>\n",
       "      <td>1849</td>\n",
       "      <td>4</td>\n",
       "    </tr>\n",
       "    <tr>\n",
       "      <th>1</th>\n",
       "      <td>ID_f29eb3ddd</td>\n",
       "      <td>135000.0</td>\n",
       "      <td>0</td>\n",
       "      <td>4</td>\n",
       "      <td>0</td>\n",
       "      <td>1</td>\n",
       "      <td>1</td>\n",
       "      <td>1</td>\n",
       "      <td>1.0</td>\n",
       "      <td>0</td>\n",
       "      <td>1</td>\n",
       "      <td>1</td>\n",
       "      <td>0</td>\n",
       "      <td>0</td>\n",
       "      <td>0</td>\n",
       "      <td>0</td>\n",
       "      <td>1</td>\n",
       "      <td>1</td>\n",
       "      <td>1</td>\n",
       "      <td>1</td>\n",
       "      <td>12</td>\n",
       "      <td>NaN</td>\n",
       "      <td>1</td>\n",
       "      <td>0</td>\n",
       "      <td>0</td>\n",
       "      <td>0</td>\n",
       "      <td>0</td>\n",
       "      <td>1</td>\n",
       "      <td>0</td>\n",
       "      <td>0</td>\n",
       "      <td>0</td>\n",
       "      <td>0</td>\n",
       "      <td>0</td>\n",
       "      <td>0</td>\n",
       "      <td>0</td>\n",
       "      <td>0</td>\n",
       "      <td>1</td>\n",
       "      <td>1</td>\n",
       "      <td>0</td>\n",
       "      <td>0</td>\n",
       "      <td>0</td>\n",
       "      <td>1</td>\n",
       "      <td>1</td>\n",
       "      <td>0</td>\n",
       "      <td>0</td>\n",
       "      <td>1</td>\n",
       "      <td>0</td>\n",
       "      <td>0</td>\n",
       "      <td>0</td>\n",
       "      <td>0</td>\n",
       "      <td>1</td>\n",
       "      <td>0</td>\n",
       "      <td>0</td>\n",
       "      <td>0</td>\n",
       "      <td>0</td>\n",
       "      <td>1</td>\n",
       "      <td>0</td>\n",
       "      <td>0</td>\n",
       "      <td>1</td>\n",
       "      <td>0</td>\n",
       "      <td>0</td>\n",
       "      <td>0</td>\n",
       "      <td>0</td>\n",
       "      <td>0</td>\n",
       "      <td>0</td>\n",
       "      <td>1</td>\n",
       "      <td>0</td>\n",
       "      <td>0</td>\n",
       "      <td>1</td>\n",
       "      <td>0</td>\n",
       "      <td>0</td>\n",
       "      <td>1</td>\n",
       "      <td>0</td>\n",
       "      <td>0</td>\n",
       "      <td>1</td>\n",
       "      <td>0</td>\n",
       "      <td>0</td>\n",
       "      <td>0</td>\n",
       "      <td>0</td>\n",
       "      <td>1</td>\n",
       "      <td>0</td>\n",
       "      <td>0</td>\n",
       "      <td>0</td>\n",
       "      <td>1</td>\n",
       "      <td>0</td>\n",
       "      <td>0</td>\n",
       "      <td>0</td>\n",
       "      <td>0</td>\n",
       "      <td>0</td>\n",
       "      <td>0</td>\n",
       "      <td>0</td>\n",
       "      <td>0</td>\n",
       "      <td>0</td>\n",
       "      <td>0</td>\n",
       "      <td>0</td>\n",
       "      <td>0e5d7a658</td>\n",
       "      <td>0</td>\n",
       "      <td>1</td>\n",
       "      <td>1</td>\n",
       "      <td>1</td>\n",
       "      <td>8</td>\n",
       "      <td>12</td>\n",
       "      <td>no</td>\n",
       "      <td>12.0</td>\n",
       "      <td>0</td>\n",
       "      <td>0</td>\n",
       "      <td>0</td>\n",
       "      <td>0</td>\n",
       "      <td>0</td>\n",
       "      <td>0</td>\n",
       "      <td>0</td>\n",
       "      <td>1</td>\n",
       "      <td>0</td>\n",
       "      <td>1</td>\n",
       "      <td>1.000000</td>\n",
       "      <td>0</td>\n",
       "      <td>0</td>\n",
       "      <td>1</td>\n",
       "      <td>0</td>\n",
       "      <td>0</td>\n",
       "      <td>0</td>\n",
       "      <td>0</td>\n",
       "      <td>1</td>\n",
       "      <td>1</td>\n",
       "      <td>1</td>\n",
       "      <td>0</td>\n",
       "      <td>0</td>\n",
       "      <td>0</td>\n",
       "      <td>0</td>\n",
       "      <td>0</td>\n",
       "      <td>1</td>\n",
       "      <td>0</td>\n",
       "      <td>67</td>\n",
       "      <td>144</td>\n",
       "      <td>4489</td>\n",
       "      <td>1</td>\n",
       "      <td>144</td>\n",
       "      <td>0</td>\n",
       "      <td>1.000000</td>\n",
       "      <td>64.0</td>\n",
       "      <td>144.0</td>\n",
       "      <td>4489</td>\n",
       "      <td>4</td>\n",
       "    </tr>\n",
       "    <tr>\n",
       "      <th>2</th>\n",
       "      <td>ID_68de51c94</td>\n",
       "      <td>NaN</td>\n",
       "      <td>0</td>\n",
       "      <td>8</td>\n",
       "      <td>0</td>\n",
       "      <td>1</td>\n",
       "      <td>1</td>\n",
       "      <td>0</td>\n",
       "      <td>NaN</td>\n",
       "      <td>0</td>\n",
       "      <td>0</td>\n",
       "      <td>0</td>\n",
       "      <td>0</td>\n",
       "      <td>1</td>\n",
       "      <td>1</td>\n",
       "      <td>0</td>\n",
       "      <td>1</td>\n",
       "      <td>1</td>\n",
       "      <td>1</td>\n",
       "      <td>1</td>\n",
       "      <td>11</td>\n",
       "      <td>NaN</td>\n",
       "      <td>1</td>\n",
       "      <td>0</td>\n",
       "      <td>0</td>\n",
       "      <td>0</td>\n",
       "      <td>0</td>\n",
       "      <td>1</td>\n",
       "      <td>0</td>\n",
       "      <td>0</td>\n",
       "      <td>0</td>\n",
       "      <td>1</td>\n",
       "      <td>0</td>\n",
       "      <td>0</td>\n",
       "      <td>0</td>\n",
       "      <td>0</td>\n",
       "      <td>0</td>\n",
       "      <td>1</td>\n",
       "      <td>0</td>\n",
       "      <td>0</td>\n",
       "      <td>0</td>\n",
       "      <td>1</td>\n",
       "      <td>1</td>\n",
       "      <td>0</td>\n",
       "      <td>0</td>\n",
       "      <td>1</td>\n",
       "      <td>0</td>\n",
       "      <td>0</td>\n",
       "      <td>0</td>\n",
       "      <td>0</td>\n",
       "      <td>1</td>\n",
       "      <td>0</td>\n",
       "      <td>0</td>\n",
       "      <td>0</td>\n",
       "      <td>0</td>\n",
       "      <td>1</td>\n",
       "      <td>0</td>\n",
       "      <td>0</td>\n",
       "      <td>1</td>\n",
       "      <td>0</td>\n",
       "      <td>0</td>\n",
       "      <td>0</td>\n",
       "      <td>0</td>\n",
       "      <td>0</td>\n",
       "      <td>0</td>\n",
       "      <td>1</td>\n",
       "      <td>0</td>\n",
       "      <td>0</td>\n",
       "      <td>0</td>\n",
       "      <td>1</td>\n",
       "      <td>0</td>\n",
       "      <td>0</td>\n",
       "      <td>1</td>\n",
       "      <td>1</td>\n",
       "      <td>0</td>\n",
       "      <td>1</td>\n",
       "      <td>0</td>\n",
       "      <td>0</td>\n",
       "      <td>0</td>\n",
       "      <td>0</td>\n",
       "      <td>0</td>\n",
       "      <td>1</td>\n",
       "      <td>0</td>\n",
       "      <td>1</td>\n",
       "      <td>0</td>\n",
       "      <td>0</td>\n",
       "      <td>0</td>\n",
       "      <td>0</td>\n",
       "      <td>0</td>\n",
       "      <td>0</td>\n",
       "      <td>0</td>\n",
       "      <td>0</td>\n",
       "      <td>0</td>\n",
       "      <td>0</td>\n",
       "      <td>0</td>\n",
       "      <td>2c7317ea8</td>\n",
       "      <td>0</td>\n",
       "      <td>1</td>\n",
       "      <td>1</td>\n",
       "      <td>1</td>\n",
       "      <td>8</td>\n",
       "      <td>no</td>\n",
       "      <td>11</td>\n",
       "      <td>11.0</td>\n",
       "      <td>0</td>\n",
       "      <td>0</td>\n",
       "      <td>0</td>\n",
       "      <td>0</td>\n",
       "      <td>1</td>\n",
       "      <td>0</td>\n",
       "      <td>0</td>\n",
       "      <td>0</td>\n",
       "      <td>0</td>\n",
       "      <td>2</td>\n",
       "      <td>0.500000</td>\n",
       "      <td>1</td>\n",
       "      <td>0</td>\n",
       "      <td>0</td>\n",
       "      <td>0</td>\n",
       "      <td>0</td>\n",
       "      <td>0</td>\n",
       "      <td>0</td>\n",
       "      <td>0</td>\n",
       "      <td>0</td>\n",
       "      <td>1</td>\n",
       "      <td>0</td>\n",
       "      <td>0</td>\n",
       "      <td>0</td>\n",
       "      <td>0</td>\n",
       "      <td>0</td>\n",
       "      <td>1</td>\n",
       "      <td>0</td>\n",
       "      <td>92</td>\n",
       "      <td>121</td>\n",
       "      <td>8464</td>\n",
       "      <td>1</td>\n",
       "      <td>0</td>\n",
       "      <td>0</td>\n",
       "      <td>0.250000</td>\n",
       "      <td>64.0</td>\n",
       "      <td>121.0</td>\n",
       "      <td>8464</td>\n",
       "      <td>4</td>\n",
       "    </tr>\n",
       "    <tr>\n",
       "      <th>3</th>\n",
       "      <td>ID_d671db89c</td>\n",
       "      <td>180000.0</td>\n",
       "      <td>0</td>\n",
       "      <td>5</td>\n",
       "      <td>0</td>\n",
       "      <td>1</td>\n",
       "      <td>1</td>\n",
       "      <td>1</td>\n",
       "      <td>1.0</td>\n",
       "      <td>0</td>\n",
       "      <td>2</td>\n",
       "      <td>2</td>\n",
       "      <td>1</td>\n",
       "      <td>1</td>\n",
       "      <td>2</td>\n",
       "      <td>1</td>\n",
       "      <td>3</td>\n",
       "      <td>4</td>\n",
       "      <td>4</td>\n",
       "      <td>4</td>\n",
       "      <td>9</td>\n",
       "      <td>1.0</td>\n",
       "      <td>4</td>\n",
       "      <td>1</td>\n",
       "      <td>0</td>\n",
       "      <td>0</td>\n",
       "      <td>0</td>\n",
       "      <td>0</td>\n",
       "      <td>0</td>\n",
       "      <td>0</td>\n",
       "      <td>0</td>\n",
       "      <td>1</td>\n",
       "      <td>0</td>\n",
       "      <td>0</td>\n",
       "      <td>0</td>\n",
       "      <td>0</td>\n",
       "      <td>0</td>\n",
       "      <td>1</td>\n",
       "      <td>0</td>\n",
       "      <td>0</td>\n",
       "      <td>0</td>\n",
       "      <td>1</td>\n",
       "      <td>1</td>\n",
       "      <td>0</td>\n",
       "      <td>0</td>\n",
       "      <td>1</td>\n",
       "      <td>0</td>\n",
       "      <td>0</td>\n",
       "      <td>0</td>\n",
       "      <td>0</td>\n",
       "      <td>1</td>\n",
       "      <td>0</td>\n",
       "      <td>0</td>\n",
       "      <td>0</td>\n",
       "      <td>0</td>\n",
       "      <td>1</td>\n",
       "      <td>0</td>\n",
       "      <td>0</td>\n",
       "      <td>1</td>\n",
       "      <td>0</td>\n",
       "      <td>0</td>\n",
       "      <td>0</td>\n",
       "      <td>0</td>\n",
       "      <td>0</td>\n",
       "      <td>0</td>\n",
       "      <td>0</td>\n",
       "      <td>1</td>\n",
       "      <td>0</td>\n",
       "      <td>0</td>\n",
       "      <td>1</td>\n",
       "      <td>0</td>\n",
       "      <td>0</td>\n",
       "      <td>1</td>\n",
       "      <td>0</td>\n",
       "      <td>1</td>\n",
       "      <td>0</td>\n",
       "      <td>0</td>\n",
       "      <td>0</td>\n",
       "      <td>0</td>\n",
       "      <td>0</td>\n",
       "      <td>0</td>\n",
       "      <td>0</td>\n",
       "      <td>1</td>\n",
       "      <td>0</td>\n",
       "      <td>0</td>\n",
       "      <td>1</td>\n",
       "      <td>0</td>\n",
       "      <td>0</td>\n",
       "      <td>0</td>\n",
       "      <td>0</td>\n",
       "      <td>0</td>\n",
       "      <td>0</td>\n",
       "      <td>0</td>\n",
       "      <td>0</td>\n",
       "      <td>0</td>\n",
       "      <td>2b58d945f</td>\n",
       "      <td>2</td>\n",
       "      <td>2</td>\n",
       "      <td>0</td>\n",
       "      <td>4</td>\n",
       "      <td>yes</td>\n",
       "      <td>11</td>\n",
       "      <td>no</td>\n",
       "      <td>11.0</td>\n",
       "      <td>0</td>\n",
       "      <td>0</td>\n",
       "      <td>0</td>\n",
       "      <td>1</td>\n",
       "      <td>0</td>\n",
       "      <td>0</td>\n",
       "      <td>0</td>\n",
       "      <td>0</td>\n",
       "      <td>0</td>\n",
       "      <td>3</td>\n",
       "      <td>1.333333</td>\n",
       "      <td>0</td>\n",
       "      <td>0</td>\n",
       "      <td>1</td>\n",
       "      <td>0</td>\n",
       "      <td>0</td>\n",
       "      <td>0</td>\n",
       "      <td>0</td>\n",
       "      <td>1</td>\n",
       "      <td>3</td>\n",
       "      <td>1</td>\n",
       "      <td>0</td>\n",
       "      <td>0</td>\n",
       "      <td>0</td>\n",
       "      <td>0</td>\n",
       "      <td>0</td>\n",
       "      <td>1</td>\n",
       "      <td>0</td>\n",
       "      <td>17</td>\n",
       "      <td>81</td>\n",
       "      <td>289</td>\n",
       "      <td>16</td>\n",
       "      <td>121</td>\n",
       "      <td>4</td>\n",
       "      <td>1.777778</td>\n",
       "      <td>1.0</td>\n",
       "      <td>121.0</td>\n",
       "      <td>289</td>\n",
       "      <td>4</td>\n",
       "    </tr>\n",
       "    <tr>\n",
       "      <th>4</th>\n",
       "      <td>ID_d56d6f5f5</td>\n",
       "      <td>180000.0</td>\n",
       "      <td>0</td>\n",
       "      <td>5</td>\n",
       "      <td>0</td>\n",
       "      <td>1</td>\n",
       "      <td>1</td>\n",
       "      <td>1</td>\n",
       "      <td>1.0</td>\n",
       "      <td>0</td>\n",
       "      <td>2</td>\n",
       "      <td>2</td>\n",
       "      <td>1</td>\n",
       "      <td>1</td>\n",
       "      <td>2</td>\n",
       "      <td>1</td>\n",
       "      <td>3</td>\n",
       "      <td>4</td>\n",
       "      <td>4</td>\n",
       "      <td>4</td>\n",
       "      <td>11</td>\n",
       "      <td>NaN</td>\n",
       "      <td>4</td>\n",
       "      <td>1</td>\n",
       "      <td>0</td>\n",
       "      <td>0</td>\n",
       "      <td>0</td>\n",
       "      <td>0</td>\n",
       "      <td>0</td>\n",
       "      <td>0</td>\n",
       "      <td>0</td>\n",
       "      <td>1</td>\n",
       "      <td>0</td>\n",
       "      <td>0</td>\n",
       "      <td>0</td>\n",
       "      <td>0</td>\n",
       "      <td>0</td>\n",
       "      <td>1</td>\n",
       "      <td>0</td>\n",
       "      <td>0</td>\n",
       "      <td>0</td>\n",
       "      <td>1</td>\n",
       "      <td>1</td>\n",
       "      <td>0</td>\n",
       "      <td>0</td>\n",
       "      <td>1</td>\n",
       "      <td>0</td>\n",
       "      <td>0</td>\n",
       "      <td>0</td>\n",
       "      <td>0</td>\n",
       "      <td>1</td>\n",
       "      <td>0</td>\n",
       "      <td>0</td>\n",
       "      <td>0</td>\n",
       "      <td>0</td>\n",
       "      <td>1</td>\n",
       "      <td>0</td>\n",
       "      <td>0</td>\n",
       "      <td>1</td>\n",
       "      <td>0</td>\n",
       "      <td>0</td>\n",
       "      <td>0</td>\n",
       "      <td>0</td>\n",
       "      <td>0</td>\n",
       "      <td>0</td>\n",
       "      <td>0</td>\n",
       "      <td>1</td>\n",
       "      <td>0</td>\n",
       "      <td>0</td>\n",
       "      <td>1</td>\n",
       "      <td>0</td>\n",
       "      <td>0</td>\n",
       "      <td>1</td>\n",
       "      <td>0</td>\n",
       "      <td>0</td>\n",
       "      <td>1</td>\n",
       "      <td>0</td>\n",
       "      <td>1</td>\n",
       "      <td>0</td>\n",
       "      <td>0</td>\n",
       "      <td>0</td>\n",
       "      <td>0</td>\n",
       "      <td>0</td>\n",
       "      <td>0</td>\n",
       "      <td>1</td>\n",
       "      <td>0</td>\n",
       "      <td>0</td>\n",
       "      <td>0</td>\n",
       "      <td>0</td>\n",
       "      <td>0</td>\n",
       "      <td>0</td>\n",
       "      <td>0</td>\n",
       "      <td>0</td>\n",
       "      <td>0</td>\n",
       "      <td>0</td>\n",
       "      <td>2b58d945f</td>\n",
       "      <td>2</td>\n",
       "      <td>2</td>\n",
       "      <td>0</td>\n",
       "      <td>4</td>\n",
       "      <td>yes</td>\n",
       "      <td>11</td>\n",
       "      <td>no</td>\n",
       "      <td>11.0</td>\n",
       "      <td>0</td>\n",
       "      <td>0</td>\n",
       "      <td>0</td>\n",
       "      <td>0</td>\n",
       "      <td>1</td>\n",
       "      <td>0</td>\n",
       "      <td>0</td>\n",
       "      <td>0</td>\n",
       "      <td>0</td>\n",
       "      <td>3</td>\n",
       "      <td>1.333333</td>\n",
       "      <td>0</td>\n",
       "      <td>0</td>\n",
       "      <td>1</td>\n",
       "      <td>0</td>\n",
       "      <td>0</td>\n",
       "      <td>0</td>\n",
       "      <td>0</td>\n",
       "      <td>1</td>\n",
       "      <td>3</td>\n",
       "      <td>1</td>\n",
       "      <td>0</td>\n",
       "      <td>0</td>\n",
       "      <td>0</td>\n",
       "      <td>0</td>\n",
       "      <td>0</td>\n",
       "      <td>1</td>\n",
       "      <td>0</td>\n",
       "      <td>37</td>\n",
       "      <td>121</td>\n",
       "      <td>1369</td>\n",
       "      <td>16</td>\n",
       "      <td>121</td>\n",
       "      <td>4</td>\n",
       "      <td>1.777778</td>\n",
       "      <td>1.0</td>\n",
       "      <td>121.0</td>\n",
       "      <td>1369</td>\n",
       "      <td>4</td>\n",
       "    </tr>\n",
       "  </tbody>\n",
       "</table>\n",
       "</div>"
      ],
      "text/plain": [
       "             Id      v2a1  hacdor  rooms  hacapo  v14a  refrig  v18q  v18q1  \\\n",
       "0  ID_279628684  190000.0       0      3       0     1       1     0    NaN   \n",
       "1  ID_f29eb3ddd  135000.0       0      4       0     1       1     1    1.0   \n",
       "2  ID_68de51c94       NaN       0      8       0     1       1     0    NaN   \n",
       "3  ID_d671db89c  180000.0       0      5       0     1       1     1    1.0   \n",
       "4  ID_d56d6f5f5  180000.0       0      5       0     1       1     1    1.0   \n",
       "\n",
       "   r4h1  r4h2  r4h3  r4m1  r4m2  r4m3  r4t1  r4t2  r4t3  tamhog  tamviv  \\\n",
       "0     0     1     1     0     0     0     0     1     1       1       1   \n",
       "1     0     1     1     0     0     0     0     1     1       1       1   \n",
       "2     0     0     0     0     1     1     0     1     1       1       1   \n",
       "3     0     2     2     1     1     2     1     3     4       4       4   \n",
       "4     0     2     2     1     1     2     1     3     4       4       4   \n",
       "\n",
       "   escolari  rez_esc  hhsize  paredblolad  paredzocalo  paredpreb  pareddes  \\\n",
       "0        10      NaN       1            1            0          0         0   \n",
       "1        12      NaN       1            0            0          0         0   \n",
       "2        11      NaN       1            0            0          0         0   \n",
       "3         9      1.0       4            1            0          0         0   \n",
       "4        11      NaN       4            1            0          0         0   \n",
       "\n",
       "   paredmad  paredzinc  paredfibras  paredother  pisomoscer  pisocemento  \\\n",
       "0         0          0            0           0           1            0   \n",
       "1         1          0            0           0           0            0   \n",
       "2         1          0            0           0           1            0   \n",
       "3         0          0            0           0           1            0   \n",
       "4         0          0            0           0           1            0   \n",
       "\n",
       "   pisoother  pisonatur  pisonotiene  pisomadera  techozinc  techoentrepiso  \\\n",
       "0          0          0            0           0          0               1   \n",
       "1          0          0            0           1          1               0   \n",
       "2          0          0            0           0          1               0   \n",
       "3          0          0            0           0          1               0   \n",
       "4          0          0            0           0          1               0   \n",
       "\n",
       "   techocane  techootro  cielorazo  abastaguadentro  abastaguafuera  \\\n",
       "0          0          0          1                1               0   \n",
       "1          0          0          1                1               0   \n",
       "2          0          0          1                1               0   \n",
       "3          0          0          1                1               0   \n",
       "4          0          0          1                1               0   \n",
       "\n",
       "   abastaguano  public  planpri  noelec  coopele  sanitario1  sanitario2  \\\n",
       "0            0       1        0       0        0           0           1   \n",
       "1            0       1        0       0        0           0           1   \n",
       "2            0       1        0       0        0           0           1   \n",
       "3            0       1        0       0        0           0           1   \n",
       "4            0       1        0       0        0           0           1   \n",
       "\n",
       "   sanitario3  sanitario5  sanitario6  energcocinar1  energcocinar2  \\\n",
       "0           0           0           0              0              0   \n",
       "1           0           0           0              0              1   \n",
       "2           0           0           0              0              1   \n",
       "3           0           0           0              0              1   \n",
       "4           0           0           0              0              1   \n",
       "\n",
       "   energcocinar3  energcocinar4  elimbasu1  elimbasu2  elimbasu3  elimbasu4  \\\n",
       "0              1              0          1          0          0          0   \n",
       "1              0              0          1          0          0          0   \n",
       "2              0              0          1          0          0          0   \n",
       "3              0              0          1          0          0          0   \n",
       "4              0              0          1          0          0          0   \n",
       "\n",
       "   elimbasu5  elimbasu6  epared1  epared2  epared3  etecho1  etecho2  etecho3  \\\n",
       "0          0          0        0        1        0        1        0        0   \n",
       "1          0          0        0        1        0        0        1        0   \n",
       "2          0          0        0        1        0        0        0        1   \n",
       "3          0          0        0        0        1        0        0        1   \n",
       "4          0          0        0        0        1        0        0        1   \n",
       "\n",
       "   eviv1  eviv2  eviv3  dis  male  female  estadocivil1  estadocivil2  \\\n",
       "0      1      0      0    0     1       0             0             0   \n",
       "1      0      1      0    0     1       0             0             0   \n",
       "2      0      0      1    1     0       1             0             0   \n",
       "3      0      0      1    0     1       0             0             0   \n",
       "4      0      0      1    0     0       1             0             1   \n",
       "\n",
       "   estadocivil3  estadocivil4  estadocivil5  estadocivil6  estadocivil7  \\\n",
       "0             0             1             0             0             0   \n",
       "1             0             1             0             0             0   \n",
       "2             0             0             0             1             0   \n",
       "3             0             0             0             0             1   \n",
       "4             0             0             0             0             0   \n",
       "\n",
       "   parentesco1  parentesco2  parentesco3  parentesco4  parentesco5  \\\n",
       "0            1            0            0            0            0   \n",
       "1            1            0            0            0            0   \n",
       "2            1            0            0            0            0   \n",
       "3            0            0            1            0            0   \n",
       "4            0            1            0            0            0   \n",
       "\n",
       "   parentesco6  parentesco7  parentesco8  parentesco9  parentesco10  \\\n",
       "0            0            0            0            0             0   \n",
       "1            0            0            0            0             0   \n",
       "2            0            0            0            0             0   \n",
       "3            0            0            0            0             0   \n",
       "4            0            0            0            0             0   \n",
       "\n",
       "   parentesco11  parentesco12    idhogar  hogar_nin  hogar_adul  hogar_mayor  \\\n",
       "0             0             0  21eb7fcc1          0           1            0   \n",
       "1             0             0  0e5d7a658          0           1            1   \n",
       "2             0             0  2c7317ea8          0           1            1   \n",
       "3             0             0  2b58d945f          2           2            0   \n",
       "4             0             0  2b58d945f          2           2            0   \n",
       "\n",
       "   hogar_total dependency edjefe edjefa  meaneduc  instlevel1  instlevel2  \\\n",
       "0            1         no     10     no      10.0           0           0   \n",
       "1            1          8     12     no      12.0           0           0   \n",
       "2            1          8     no     11      11.0           0           0   \n",
       "3            4        yes     11     no      11.0           0           0   \n",
       "4            4        yes     11     no      11.0           0           0   \n",
       "\n",
       "   instlevel3  instlevel4  instlevel5  instlevel6  instlevel7  instlevel8  \\\n",
       "0           0           1           0           0           0           0   \n",
       "1           0           0           0           0           0           1   \n",
       "2           0           0           1           0           0           0   \n",
       "3           0           1           0           0           0           0   \n",
       "4           0           0           1           0           0           0   \n",
       "\n",
       "   instlevel9  bedrooms  overcrowding  tipovivi1  tipovivi2  tipovivi3  \\\n",
       "0           0         1      1.000000          0          0          1   \n",
       "1           0         1      1.000000          0          0          1   \n",
       "2           0         2      0.500000          1          0          0   \n",
       "3           0         3      1.333333          0          0          1   \n",
       "4           0         3      1.333333          0          0          1   \n",
       "\n",
       "   tipovivi4  tipovivi5  computer  television  mobilephone  qmobilephone  \\\n",
       "0          0          0         0           0            1             1   \n",
       "1          0          0         0           0            1             1   \n",
       "2          0          0         0           0            0             0   \n",
       "3          0          0         0           0            1             3   \n",
       "4          0          0         0           0            1             3   \n",
       "\n",
       "   lugar1  lugar2  lugar3  lugar4  lugar5  lugar6  area1  area2  age  \\\n",
       "0       1       0       0       0       0       0      1      0   43   \n",
       "1       1       0       0       0       0       0      1      0   67   \n",
       "2       1       0       0       0       0       0      1      0   92   \n",
       "3       1       0       0       0       0       0      1      0   17   \n",
       "4       1       0       0       0       0       0      1      0   37   \n",
       "\n",
       "   SQBescolari  SQBage  SQBhogar_total  SQBedjefe  SQBhogar_nin  \\\n",
       "0          100    1849               1        100             0   \n",
       "1          144    4489               1        144             0   \n",
       "2          121    8464               1          0             0   \n",
       "3           81     289              16        121             4   \n",
       "4          121    1369              16        121             4   \n",
       "\n",
       "   SQBovercrowding  SQBdependency  SQBmeaned  agesq  Target  \n",
       "0         1.000000            0.0      100.0   1849       4  \n",
       "1         1.000000           64.0      144.0   4489       4  \n",
       "2         0.250000           64.0      121.0   8464       4  \n",
       "3         1.777778            1.0      121.0    289       4  \n",
       "4         1.777778            1.0      121.0   1369       4  "
      ]
     },
     "execution_count": 2,
     "metadata": {},
     "output_type": "execute_result"
    }
   ],
   "source": [
    "pd.options.display.max_columns = 150\n",
    "df=pd.read_csv('../input/costa-rican-household-poverty-prediction/train.csv')\n",
    "df.head()"
   ]
  },
  {
   "cell_type": "code",
   "execution_count": 3,
   "metadata": {
    "execution": {
     "iopub.execute_input": "2020-12-11T15:55:37.997226Z",
     "iopub.status.busy": "2020-12-11T15:55:37.996308Z",
     "iopub.status.idle": "2020-12-11T15:55:38.000681Z",
     "shell.execute_reply": "2020-12-11T15:55:37.999977Z"
    },
    "papermill": {
     "duration": 0.095096,
     "end_time": "2020-12-11T15:55:38.000799",
     "exception": false,
     "start_time": "2020-12-11T15:55:37.905703",
     "status": "completed"
    },
    "tags": []
   },
   "outputs": [
    {
     "data": {
      "text/plain": [
       "Index(['Id', 'v2a1', 'hacdor', 'rooms', 'hacapo', 'v14a', 'refrig', 'v18q',\n",
       "       'v18q1', 'r4h1',\n",
       "       ...\n",
       "       'SQBescolari', 'SQBage', 'SQBhogar_total', 'SQBedjefe', 'SQBhogar_nin',\n",
       "       'SQBovercrowding', 'SQBdependency', 'SQBmeaned', 'agesq', 'Target'],\n",
       "      dtype='object', length=143)"
      ]
     },
     "execution_count": 3,
     "metadata": {},
     "output_type": "execute_result"
    }
   ],
   "source": [
    "df.columns"
   ]
  },
  {
   "cell_type": "code",
   "execution_count": 4,
   "metadata": {
    "execution": {
     "iopub.execute_input": "2020-12-11T15:55:38.177829Z",
     "iopub.status.busy": "2020-12-11T15:55:38.176841Z",
     "iopub.status.idle": "2020-12-11T15:55:38.186149Z",
     "shell.execute_reply": "2020-12-11T15:55:38.185305Z"
    },
    "papermill": {
     "duration": 0.102547,
     "end_time": "2020-12-11T15:55:38.186305",
     "exception": false,
     "start_time": "2020-12-11T15:55:38.083758",
     "status": "completed"
    },
    "tags": []
   },
   "outputs": [
    {
     "name": "stdout",
     "output_type": "stream",
     "text": [
      "number of target variables  [4 2 3 1]\n",
      "number of data points  9557\n",
      "number of person data points 9557\n",
      "number of unique identifier for each household 2988\n"
     ]
    }
   ],
   "source": [
    "print('number of target variables ', df['Target'].unique())\n",
    "print('number of data points ', len(df))\n",
    "print('number of person data points' ,df['Id'].nunique())\n",
    "print('number of unique identifier for each household',df['idhogar'].nunique())"
   ]
  },
  {
   "cell_type": "markdown",
   "metadata": {
    "papermill": {
     "duration": 0.083186,
     "end_time": "2020-12-11T15:55:38.357995",
     "exception": false,
     "start_time": "2020-12-11T15:55:38.274809",
     "status": "completed"
    },
    "tags": []
   },
   "source": [
    "idhogar represents the total number of house id's"
   ]
  },
  {
   "cell_type": "code",
   "execution_count": 5,
   "metadata": {
    "execution": {
     "iopub.execute_input": "2020-12-11T15:55:38.531505Z",
     "iopub.status.busy": "2020-12-11T15:55:38.530856Z",
     "iopub.status.idle": "2020-12-11T15:55:38.751052Z",
     "shell.execute_reply": "2020-12-11T15:55:38.750285Z"
    },
    "papermill": {
     "duration": 0.308948,
     "end_time": "2020-12-11T15:55:38.751174",
     "exception": false,
     "start_time": "2020-12-11T15:55:38.442226",
     "status": "completed"
    },
    "tags": []
   },
   "outputs": [
    {
     "data": {
      "image/png": "[encoded data removed]",
      "text/plain": [
       "<Figure size 432x288 with 1 Axes>"
      ]
     },
     "metadata": {
      "needs_background": "light"
     },
     "output_type": "display_data"
    }
   ],
   "source": [
    "import matplotlib.pyplot as plt\n",
    "plt.hist(df['Target'])\n",
    "plt.show()"
   ]
  },
  {
   "cell_type": "markdown",
   "metadata": {
    "papermill": {
     "duration": 0.085904,
     "end_time": "2020-12-11T15:55:38.923118",
     "exception": false,
     "start_time": "2020-12-11T15:55:38.837214",
     "status": "completed"
    },
    "tags": []
   },
   "source": [
    "Extracting important features based on correlation metric. We will only consider correlation between target variable and other parameters"
   ]
  },
  {
   "cell_type": "code",
   "execution_count": 6,
   "metadata": {
    "execution": {
     "iopub.execute_input": "2020-12-11T15:55:39.105693Z",
     "iopub.status.busy": "2020-12-11T15:55:39.104912Z",
     "iopub.status.idle": "2020-12-11T15:55:39.201158Z",
     "shell.execute_reply": "2020-12-11T15:55:39.200437Z"
    },
    "papermill": {
     "duration": 0.191846,
     "end_time": "2020-12-11T15:55:39.201271",
     "exception": false,
     "start_time": "2020-12-11T15:55:39.009425",
     "status": "completed"
    },
    "tags": []
   },
   "outputs": [
    {
     "name": "stdout",
     "output_type": "stream",
     "text": [
      "755\n",
      "1597\n",
      "1209\n",
      "5996\n"
     ]
    }
   ],
   "source": [
    "print(len(df[df['Target']==1]))\n",
    "print(len(df[df['Target']==2]))\n",
    "print(len(df[df['Target']==3]))\n",
    "print(len(df[df['Target']==4]))\n",
    "\n",
    "pie=[]\n",
    "pie.append(len(df[df['Target']==1]))\n",
    "pie.append(len(df[df['Target']==2]))\n",
    "pie.append(len(df[df['Target']==3]))\n",
    "pie.append(len(df[df['Target']==4]))"
   ]
  },
  {
   "cell_type": "code",
   "execution_count": 7,
   "metadata": {
    "execution": {
     "iopub.execute_input": "2020-12-11T15:55:39.396347Z",
     "iopub.status.busy": "2020-12-11T15:55:39.393786Z",
     "iopub.status.idle": "2020-12-11T15:55:39.438087Z",
     "shell.execute_reply": "2020-12-11T15:55:39.437387Z"
    },
    "papermill": {
     "duration": 0.150929,
     "end_time": "2020-12-11T15:55:39.438191",
     "exception": false,
     "start_time": "2020-12-11T15:55:39.287262",
     "status": "completed"
    },
    "tags": []
   },
   "outputs": [
    {
     "data": {
      "image/png": "[encoded data removed]",
      "text/plain": [
       "<Figure size 432x288 with 1 Axes>"
      ]
     },
     "metadata": {},
     "output_type": "display_data"
    }
   ],
   "source": [
    "plt.pie(pie,labels=['extreme poverty','moderate poverty','vulnerable households','non vulnerable households'])\n",
    "plt.show()"
   ]
  },
  {
   "cell_type": "code",
   "execution_count": 8,
   "metadata": {
    "execution": {
     "iopub.execute_input": "2020-12-11T15:55:39.628284Z",
     "iopub.status.busy": "2020-12-11T15:55:39.627413Z",
     "iopub.status.idle": "2020-12-11T15:55:39.630808Z",
     "shell.execute_reply": "2020-12-11T15:55:39.631613Z"
    },
    "papermill": {
     "duration": 0.108394,
     "end_time": "2020-12-11T15:55:39.631805",
     "exception": false,
     "start_time": "2020-12-11T15:55:39.523411",
     "status": "completed"
    },
    "tags": []
   },
   "outputs": [
    {
     "name": "stdout",
     "output_type": "stream",
     "text": [
      "<class 'pandas.core.frame.DataFrame'>\n",
      "RangeIndex: 9557 entries, 0 to 9556\n",
      "Columns: 143 entries, Id to Target\n",
      "dtypes: float64(8), int64(130), object(5)\n",
      "memory usage: 10.4+ MB\n"
     ]
    }
   ],
   "source": [
    "df.info()"
   ]
  },
  {
   "cell_type": "code",
   "execution_count": 9,
   "metadata": {
    "execution": {
     "iopub.execute_input": "2020-12-11T15:55:39.833477Z",
     "iopub.status.busy": "2020-12-11T15:55:39.832779Z",
     "iopub.status.idle": "2020-12-11T15:55:40.004725Z",
     "shell.execute_reply": "2020-12-11T15:55:40.004012Z"
    },
    "papermill": {
     "duration": 0.285417,
     "end_time": "2020-12-11T15:55:40.004846",
     "exception": false,
     "start_time": "2020-12-11T15:55:39.719429",
     "status": "completed"
    },
    "tags": []
   },
   "outputs": [
    {
     "data": {
      "text/plain": [
       "Id                 False\n",
       "v2a1                True\n",
       "hacdor             False\n",
       "rooms              False\n",
       "hacapo             False\n",
       "                   ...  \n",
       "SQBovercrowding    False\n",
       "SQBdependency      False\n",
       "SQBmeaned           True\n",
       "agesq              False\n",
       "Target             False\n",
       "Length: 143, dtype: bool"
      ]
     },
     "execution_count": 9,
     "metadata": {},
     "output_type": "execute_result"
    }
   ],
   "source": [
    "for column in df.columns:\n",
    "    mode=df[column].mode()\n",
    "    df[column]=df[column].fillna(mode)\n",
    "\n",
    "df.isna().any()"
   ]
  },
  {
   "cell_type": "code",
   "execution_count": 10,
   "metadata": {
    "execution": {
     "iopub.execute_input": "2020-12-11T15:55:40.196879Z",
     "iopub.status.busy": "2020-12-11T15:55:40.196166Z",
     "iopub.status.idle": "2020-12-11T15:55:40.589777Z",
     "shell.execute_reply": "2020-12-11T15:55:40.589114Z"
    },
    "papermill": {
     "duration": 0.498109,
     "end_time": "2020-12-11T15:55:40.589924",
     "exception": false,
     "start_time": "2020-12-11T15:55:40.091815",
     "status": "completed"
    },
    "tags": []
   },
   "outputs": [],
   "source": [
    "cordf=df.drop(['Target'],axis=1)\n",
    "\n",
    "# Create correlation matrix\n",
    "corr_matrix = cordf.corr().abs()\n",
    "\n",
    "# Select upper triangle of correlation matrix\n",
    "upper = corr_matrix.where(np.triu(np.ones(corr_matrix.shape), k=1).astype(np.bool))\n",
    "\n",
    "# Find features with correlation greater than 0.95\n",
    "to_drop = [column for column in upper.columns if any(upper[column] > 0.95)]\n",
    "to_drop.append('Id')\n",
    "\n",
    "# Drop features \n",
    "cordf.drop(to_drop, axis=1, inplace=True)"
   ]
  },
  {
   "cell_type": "code",
   "execution_count": 11,
   "metadata": {
    "execution": {
     "iopub.execute_input": "2020-12-11T15:55:40.820682Z",
     "iopub.status.busy": "2020-12-11T15:55:40.819755Z",
     "iopub.status.idle": "2020-12-11T15:55:40.823790Z",
     "shell.execute_reply": "2020-12-11T15:55:40.823102Z"
    },
    "papermill": {
     "duration": 0.125666,
     "end_time": "2020-12-11T15:55:40.823901",
     "exception": false,
     "start_time": "2020-12-11T15:55:40.698235",
     "status": "completed"
    },
    "tags": []
   },
   "outputs": [
    {
     "name": "stdout",
     "output_type": "stream",
     "text": [
      "number of column after removing highly correlated features  132\n"
     ]
    }
   ],
   "source": [
    "print('number of column after removing highly correlated features ',len(cordf.columns))"
   ]
  },
  {
   "cell_type": "code",
   "execution_count": 12,
   "metadata": {
    "execution": {
     "iopub.execute_input": "2020-12-11T15:55:41.013358Z",
     "iopub.status.busy": "2020-12-11T15:55:41.012597Z",
     "iopub.status.idle": "2020-12-11T15:55:41.385085Z",
     "shell.execute_reply": "2020-12-11T15:55:41.386082Z"
    },
    "papermill": {
     "duration": 0.471016,
     "end_time": "2020-12-11T15:55:41.386323",
     "exception": false,
     "start_time": "2020-12-11T15:55:40.915307",
     "status": "completed"
    },
    "tags": []
   },
   "outputs": [
    {
     "name": "stdout",
     "output_type": "stream",
     "text": [
      "idhogar\n",
      "dependency\n",
      "edjefe\n",
      "edjefa\n"
     ]
    }
   ],
   "source": [
    "corr=df.corr().abs()\n",
    "to_drop=[]\n",
    "for column in cordf.columns:\n",
    "    try:\n",
    "        if(corr[column]['Target']<0.1):\n",
    "            to_drop.append(column)\n",
    "    except:\n",
    "        print(column)\n",
    "        to_drop.append(column)\n",
    "cordf.drop(to_drop,axis=1,inplace=True)"
   ]
  },
  {
   "cell_type": "code",
   "execution_count": 13,
   "metadata": {
    "execution": {
     "iopub.execute_input": "2020-12-11T15:55:41.574289Z",
     "iopub.status.busy": "2020-12-11T15:55:41.573279Z",
     "iopub.status.idle": "2020-12-11T15:55:41.578136Z",
     "shell.execute_reply": "2020-12-11T15:55:41.578947Z"
    },
    "papermill": {
     "duration": 0.102185,
     "end_time": "2020-12-11T15:55:41.579129",
     "exception": false,
     "start_time": "2020-12-11T15:55:41.476944",
     "status": "completed"
    },
    "tags": []
   },
   "outputs": [
    {
     "name": "stdout",
     "output_type": "stream",
     "text": [
      "number of column after removing highly correlated features  60\n"
     ]
    },
    {
     "data": {
      "text/plain": [
       "Index(['v2a1', 'hacdor', 'rooms', 'hacapo', 'refrig', 'v18q', 'r4h1', 'r4h2',\n",
       "       'r4m1', 'r4m3', 'r4t1', 'r4t3', 'tamviv', 'escolari', 'paredblolad',\n",
       "       'paredmad', 'pisomoscer', 'pisocemento', 'pisonotiene', 'pisomadera',\n",
       "       'cielorazo', 'sanitario5', 'energcocinar2', 'energcocinar4',\n",
       "       'elimbasu1', 'elimbasu3', 'elimbasu5', 'epared1', 'epared2', 'epared3',\n",
       "       'etecho1', 'etecho2', 'etecho3', 'eviv1', 'eviv2', 'eviv3',\n",
       "       'estadocivil1', 'estadocivil3', 'hogar_nin', 'hogar_adul', 'meaneduc',\n",
       "       'instlevel1', 'instlevel2', 'instlevel8', 'bedrooms', 'overcrowding',\n",
       "       'tipovivi2', 'tipovivi4', 'tipovivi5', 'computer', 'television',\n",
       "       'mobilephone', 'qmobilephone', 'lugar1', 'age', 'SQBescolari',\n",
       "       'SQBedjefe', 'SQBhogar_nin', 'SQBovercrowding', 'SQBmeaned'],\n",
       "      dtype='object')"
      ]
     },
     "execution_count": 13,
     "metadata": {},
     "output_type": "execute_result"
    }
   ],
   "source": [
    "print('number of column after removing highly correlated features ',len(cordf.columns))\n",
    "cordf.columns"
   ]
  },
  {
   "cell_type": "code",
   "execution_count": 14,
   "metadata": {
    "execution": {
     "iopub.execute_input": "2020-12-11T15:55:41.764942Z",
     "iopub.status.busy": "2020-12-11T15:55:41.763869Z",
     "iopub.status.idle": "2020-12-11T15:55:41.772344Z",
     "shell.execute_reply": "2020-12-11T15:55:41.771459Z"
    },
    "papermill": {
     "duration": 0.102052,
     "end_time": "2020-12-11T15:55:41.772489",
     "exception": false,
     "start_time": "2020-12-11T15:55:41.670437",
     "status": "completed"
    },
    "tags": []
   },
   "outputs": [
    {
     "data": {
      "text/plain": [
       "Index(['v2a1', 'meaneduc', 'SQBmeaned'], dtype='object')"
      ]
     },
     "execution_count": 14,
     "metadata": {},
     "output_type": "execute_result"
    }
   ],
   "source": [
    "cordf.columns[cordf.isna().sum()!=0]"
   ]
  },
  {
   "cell_type": "code",
   "execution_count": 15,
   "metadata": {
    "execution": {
     "iopub.execute_input": "2020-12-11T15:55:41.959987Z",
     "iopub.status.busy": "2020-12-11T15:55:41.959275Z",
     "iopub.status.idle": "2020-12-11T15:55:41.964423Z",
     "shell.execute_reply": "2020-12-11T15:55:41.963717Z"
    },
    "papermill": {
     "duration": 0.102682,
     "end_time": "2020-12-11T15:55:41.964568",
     "exception": false,
     "start_time": "2020-12-11T15:55:41.861886",
     "status": "completed"
    },
    "tags": []
   },
   "outputs": [],
   "source": [
    "cordf['v2a1']=cordf['v2a1'].fillna(0)\n",
    "cordf['SQBmeaned']=cordf['SQBmeaned'].fillna(0)\n",
    "cordf['meaneduc']=cordf['meaneduc'].fillna(0)"
   ]
  },
  {
   "cell_type": "code",
   "execution_count": 16,
   "metadata": {
    "execution": {
     "iopub.execute_input": "2020-12-11T15:55:42.155097Z",
     "iopub.status.busy": "2020-12-11T15:55:42.154375Z",
     "iopub.status.idle": "2020-12-11T15:55:52.759960Z",
     "shell.execute_reply": "2020-12-11T15:55:52.759111Z"
    },
    "papermill": {
     "duration": 10.703323,
     "end_time": "2020-12-11T15:55:52.760083",
     "exception": false,
     "start_time": "2020-12-11T15:55:42.056760",
     "status": "completed"
    },
    "tags": []
   },
   "outputs": [
    {
     "data": {
      "text/plain": [
       "Pipeline(steps=[('standardscaler', StandardScaler()),\n",
       "                ('svc', SVC(gamma='auto'))])"
      ]
     },
     "execution_count": 16,
     "metadata": {},
     "output_type": "execute_result"
    }
   ],
   "source": [
    "from sklearn.pipeline import make_pipeline\n",
    "from sklearn.preprocessing import StandardScaler\n",
    "from sklearn.svm import SVC\n",
    "clf = make_pipeline(StandardScaler(), SVC(gamma='auto'))\n",
    "clf.fit(cordf,df['Target'])"
   ]
  },
  {
   "cell_type": "code",
   "execution_count": 17,
   "metadata": {
    "execution": {
     "iopub.execute_input": "2020-12-11T15:55:52.948169Z",
     "iopub.status.busy": "2020-12-11T15:55:52.947412Z",
     "iopub.status.idle": "2020-12-11T15:55:58.723390Z",
     "shell.execute_reply": "2020-12-11T15:55:58.722837Z"
    },
    "papermill": {
     "duration": 5.872252,
     "end_time": "2020-12-11T15:55:58.723505",
     "exception": false,
     "start_time": "2020-12-11T15:55:52.851253",
     "status": "completed"
    },
    "tags": []
   },
   "outputs": [
    {
     "data": {
      "text/plain": [
       "0.8300721983886157"
      ]
     },
     "execution_count": 17,
     "metadata": {},
     "output_type": "execute_result"
    }
   ],
   "source": [
    "clf.score(cordf,df['Target'])"
   ]
  },
  {
   "cell_type": "code",
   "execution_count": 18,
   "metadata": {
    "execution": {
     "iopub.execute_input": "2020-12-11T15:55:58.918345Z",
     "iopub.status.busy": "2020-12-11T15:55:58.917466Z",
     "iopub.status.idle": "2020-12-11T15:55:58.920428Z",
     "shell.execute_reply": "2020-12-11T15:55:58.919900Z"
    },
    "papermill": {
     "duration": 0.103618,
     "end_time": "2020-12-11T15:55:58.920559",
     "exception": false,
     "start_time": "2020-12-11T15:55:58.816941",
     "status": "completed"
    },
    "tags": []
   },
   "outputs": [],
   "source": [
    "def prepare_data(df):\n",
    "    print('number of data points ', len(df))\n",
    "    print('number of person data points' ,df['Id'].nunique())\n",
    "    print('number of unique identifier for each household',df['idhogar'].nunique())\n",
    "    \n",
    "    for column in df.columns:\n",
    "        mode=df[column].mode()\n",
    "        df[column]=df[column].fillna(mode)\n",
    "    \n",
    "    df['v2a1']=df['v2a1'].fillna(0)\n",
    "    df['SQBmeaned']=df['SQBmeaned'].fillna(0)\n",
    "    df['meaneduc']=df['meaneduc'].fillna(0)\n",
    "\n",
    "    \n",
    "    return df"
   ]
  },
  {
   "cell_type": "code",
   "execution_count": 19,
   "metadata": {
    "execution": {
     "iopub.execute_input": "2020-12-11T15:55:59.115207Z",
     "iopub.status.busy": "2020-12-11T15:55:59.114422Z",
     "iopub.status.idle": "2020-12-11T15:56:00.111637Z",
     "shell.execute_reply": "2020-12-11T15:56:00.110853Z"
    },
    "papermill": {
     "duration": 1.098958,
     "end_time": "2020-12-11T15:56:00.111754",
     "exception": false,
     "start_time": "2020-12-11T15:55:59.012796",
     "status": "completed"
    },
    "tags": []
   },
   "outputs": [
    {
     "name": "stdout",
     "output_type": "stream",
     "text": [
      "train data\n",
      "number of data points  9557\n",
      "number of person data points 9557\n",
      "number of unique identifier for each household 2988\n",
      "test data\n",
      "number of data points  23856\n",
      "number of person data points 23856\n",
      "number of unique identifier for each household 7352\n"
     ]
    }
   ],
   "source": [
    "x_train=pd.read_csv('../input/costa-rican-household-poverty-prediction/train.csv')\n",
    "y_train=x_train['Target']\n",
    "\n",
    "x_test=pd.read_csv('../input/costa-rican-household-poverty-prediction/test.csv')\n",
    "\n",
    "print('train data')\n",
    "x_train=prepare_data(x_train)\n",
    "print('test data')\n",
    "x_test=prepare_data(x_test)\n",
    "\n",
    "x_train.drop(['Target','Id','idhogar','dependency','edjefe','edjefa'],axis=1,inplace=True)\n",
    "x_test.drop(['Id','idhogar','dependency','edjefe','edjefa'],axis=1,inplace=True)"
   ]
  },
  {
   "cell_type": "code",
   "execution_count": 20,
   "metadata": {
    "execution": {
     "iopub.execute_input": "2020-12-11T15:56:00.322474Z",
     "iopub.status.busy": "2020-12-11T15:56:00.321613Z",
     "iopub.status.idle": "2020-12-11T15:56:00.325025Z",
     "shell.execute_reply": "2020-12-11T15:56:00.325722Z"
    },
    "papermill": {
     "duration": 0.12002,
     "end_time": "2020-12-11T15:56:00.325864",
     "exception": false,
     "start_time": "2020-12-11T15:56:00.205844",
     "status": "completed"
    },
    "tags": []
   },
   "outputs": [
    {
     "name": "stdout",
     "output_type": "stream",
     "text": [
      "<class 'pandas.core.frame.DataFrame'>\n",
      "RangeIndex: 9557 entries, 0 to 9556\n",
      "Columns: 137 entries, v2a1 to agesq\n",
      "dtypes: float64(8), int64(129)\n",
      "memory usage: 10.0 MB\n"
     ]
    }
   ],
   "source": [
    "x_train.info()"
   ]
  },
  {
   "cell_type": "code",
   "execution_count": 21,
   "metadata": {
    "execution": {
     "iopub.execute_input": "2020-12-11T15:56:00.522626Z",
     "iopub.status.busy": "2020-12-11T15:56:00.521920Z",
     "iopub.status.idle": "2020-12-11T15:56:00.547991Z",
     "shell.execute_reply": "2020-12-11T15:56:00.547309Z"
    },
    "papermill": {
     "duration": 0.127013,
     "end_time": "2020-12-11T15:56:00.548110",
     "exception": false,
     "start_time": "2020-12-11T15:56:00.421097",
     "status": "completed"
    },
    "tags": []
   },
   "outputs": [],
   "source": [
    "to_drop=x_train.columns[x_train.isna().any()].tolist()\n",
    "x_train.drop(to_drop,axis=1,inplace=True)\n",
    "x_test.drop(to_drop,axis=1,inplace=True)"
   ]
  },
  {
   "cell_type": "code",
   "execution_count": 22,
   "metadata": {
    "execution": {
     "iopub.execute_input": "2020-12-11T15:56:00.741060Z",
     "iopub.status.busy": "2020-12-11T15:56:00.740324Z",
     "iopub.status.idle": "2020-12-11T15:56:00.761754Z",
     "shell.execute_reply": "2020-12-11T15:56:00.760997Z"
    },
    "papermill": {
     "duration": 0.122137,
     "end_time": "2020-12-11T15:56:00.761882",
     "exception": false,
     "start_time": "2020-12-11T15:56:00.639745",
     "status": "completed"
    },
    "tags": []
   },
   "outputs": [],
   "source": [
    "from sklearn import preprocessing\n",
    "scaler = preprocessing.MinMaxScaler()\n",
    "x_train=scaler.fit_transform(x_train)"
   ]
  },
  {
   "cell_type": "code",
   "execution_count": 23,
   "metadata": {
    "execution": {
     "iopub.execute_input": "2020-12-11T15:56:00.994127Z",
     "iopub.status.busy": "2020-12-11T15:56:00.993367Z",
     "iopub.status.idle": "2020-12-11T15:56:01.003724Z",
     "shell.execute_reply": "2020-12-11T15:56:01.002994Z"
    },
    "papermill": {
     "duration": 0.147232,
     "end_time": "2020-12-11T15:56:01.003838",
     "exception": false,
     "start_time": "2020-12-11T15:56:00.856606",
     "status": "completed"
    },
    "tags": []
   },
   "outputs": [],
   "source": [
    "from sklearn.model_selection import train_test_split\n",
    "xtrain, xtest, ytrain, ytest = train_test_split(x_train, y_train, test_size=0.33, random_state=42)"
   ]
  },
  {
   "cell_type": "code",
   "execution_count": 24,
   "metadata": {
    "execution": {
     "iopub.execute_input": "2020-12-11T15:56:01.197822Z",
     "iopub.status.busy": "2020-12-11T15:56:01.196172Z",
     "iopub.status.idle": "2020-12-11T15:56:16.140231Z",
     "shell.execute_reply": "2020-12-11T15:56:16.139483Z"
    },
    "papermill": {
     "duration": 15.044305,
     "end_time": "2020-12-11T15:56:16.140344",
     "exception": false,
     "start_time": "2020-12-11T15:56:01.096039",
     "status": "completed"
    },
    "tags": []
   },
   "outputs": [
    {
     "name": "stdout",
     "output_type": "stream",
     "text": [
      "0.7425491439441978\n",
      "0.7425491439441978\n"
     ]
    }
   ],
   "source": [
    "from sklearn.pipeline import make_pipeline\n",
    "from sklearn.preprocessing import StandardScaler\n",
    "from sklearn.svm import SVC\n",
    "from sklearn.metrics import accuracy_score\n",
    "clf = make_pipeline(StandardScaler(), SVC(gamma='auto'))\n",
    "clf.fit(xtrain,ytrain)\n",
    "ypred=clf.predict(xtest)\n",
    "print(clf.score(xtest,ytest))\n",
    "print(accuracy_score(ytest,ypred))"
   ]
  },
  {
   "cell_type": "code",
   "execution_count": 25,
   "metadata": {
    "execution": {
     "iopub.execute_input": "2020-12-11T15:56:16.332335Z",
     "iopub.status.busy": "2020-12-11T15:56:16.331392Z",
     "iopub.status.idle": "2020-12-11T15:56:16.945159Z",
     "shell.execute_reply": "2020-12-11T15:56:16.945840Z"
    },
    "papermill": {
     "duration": 0.712126,
     "end_time": "2020-12-11T15:56:16.945994",
     "exception": false,
     "start_time": "2020-12-11T15:56:16.233868",
     "status": "completed"
    },
    "tags": []
   },
   "outputs": [
    {
     "name": "stdout",
     "output_type": "stream",
     "text": [
      "0.11953075459733671\n"
     ]
    }
   ],
   "source": [
    "from sklearn.cluster import KMeans\n",
    "kmeans = KMeans(n_clusters=4, random_state=0).fit(xtrain)\n",
    "ypred=kmeans.predict(xtest)\n",
    "print(accuracy_score(ytest,ypred))"
   ]
  },
  {
   "cell_type": "code",
   "execution_count": 26,
   "metadata": {
    "execution": {
     "iopub.execute_input": "2020-12-11T15:56:17.171129Z",
     "iopub.status.busy": "2020-12-11T15:56:17.170398Z",
     "iopub.status.idle": "2020-12-11T15:56:17.195381Z",
     "shell.execute_reply": "2020-12-11T15:56:17.194812Z"
    },
    "papermill": {
     "duration": 0.135644,
     "end_time": "2020-12-11T15:56:17.195490",
     "exception": false,
     "start_time": "2020-12-11T15:56:17.059846",
     "status": "completed"
    },
    "tags": []
   },
   "outputs": [
    {
     "name": "stdout",
     "output_type": "stream",
     "text": [
      "0.22986683576410907\n"
     ]
    }
   ],
   "source": [
    "from sklearn.naive_bayes import GaussianNB\n",
    "gnb = GaussianNB()\n",
    "ypred = gnb.fit(xtrain, ytrain).predict(xtest)\n",
    "print(accuracy_score(ytest,ypred))"
   ]
  },
  {
   "cell_type": "markdown",
   "metadata": {
    "papermill": {
     "duration": 0.093221,
     "end_time": "2020-12-11T15:56:17.383995",
     "exception": false,
     "start_time": "2020-12-11T15:56:17.290774",
     "status": "completed"
    },
    "tags": []
   },
   "source": [
    "Feature enginnering steps and EDA since we did not consider only numerical data,we will further clean and process data to extract features"
   ]
  },
  {
   "cell_type": "code",
   "execution_count": 27,
   "metadata": {
    "execution": {
     "iopub.execute_input": "2020-12-11T15:56:17.571337Z",
     "iopub.status.busy": "2020-12-11T15:56:17.570633Z",
     "iopub.status.idle": "2020-12-11T15:56:17.689586Z",
     "shell.execute_reply": "2020-12-11T15:56:17.688940Z"
    },
    "papermill": {
     "duration": 0.216418,
     "end_time": "2020-12-11T15:56:17.689693",
     "exception": false,
     "start_time": "2020-12-11T15:56:17.473275",
     "status": "completed"
    },
    "tags": []
   },
   "outputs": [
    {
     "data": {
      "text/plain": [
       "Index(['Id', 'idhogar', 'dependency', 'edjefe', 'edjefa'], dtype='object')"
      ]
     },
     "execution_count": 27,
     "metadata": {},
     "output_type": "execute_result"
    }
   ],
   "source": [
    "df=pd.read_csv('../input/costa-rican-household-poverty-prediction/train.csv')\n",
    "df.columns[df.dtypes==object]"
   ]
  },
  {
   "cell_type": "markdown",
   "metadata": {
    "papermill": {
     "duration": 0.095296,
     "end_time": "2020-12-11T15:56:17.879137",
     "exception": false,
     "start_time": "2020-12-11T15:56:17.783841",
     "status": "completed"
    },
    "tags": []
   },
   "source": [
    "id - unique identifier\n",
    "idhogar - unique identifer of head of household\n",
    "so we can ignore thest two features\n",
    "\n",
    "\n",
    "dependency- This is an important feature but it is not clean but we have sqbdependency which is clean and we can extarct dependency from sqbdependency\n",
    "\n",
    "edjefe, edjefa - years of education of head of household"
   ]
  },
  {
   "cell_type": "markdown",
   "metadata": {
    "papermill": {
     "duration": 0.1013,
     "end_time": "2020-12-11T15:56:18.075191",
     "exception": false,
     "start_time": "2020-12-11T15:56:17.973891",
     "status": "completed"
    },
    "tags": []
   },
   "source": [
    "# Data preprocessing"
   ]
  },
  {
   "cell_type": "code",
   "execution_count": 28,
   "metadata": {
    "execution": {
     "iopub.execute_input": "2020-12-11T15:56:18.279408Z",
     "iopub.status.busy": "2020-12-11T15:56:18.272602Z",
     "iopub.status.idle": "2020-12-11T15:56:18.287713Z",
     "shell.execute_reply": "2020-12-11T15:56:18.287019Z"
    },
    "papermill": {
     "duration": 0.116002,
     "end_time": "2020-12-11T15:56:18.287829",
     "exception": false,
     "start_time": "2020-12-11T15:56:18.171827",
     "status": "completed"
    },
    "tags": []
   },
   "outputs": [
    {
     "data": {
      "text/plain": [
       "Index(['v2a1', 'v18q1', 'rez_esc', 'meaneduc', 'SQBmeaned'], dtype='object')"
      ]
     },
     "execution_count": 28,
     "metadata": {},
     "output_type": "execute_result"
    }
   ],
   "source": [
    "df.columns[df.isna().sum()!=0]"
   ]
  },
  {
   "cell_type": "markdown",
   "metadata": {
    "papermill": {
     "duration": 0.094018,
     "end_time": "2020-12-11T15:56:18.476081",
     "exception": false,
     "start_time": "2020-12-11T15:56:18.382063",
     "status": "completed"
    },
    "tags": []
   },
   "source": [
    "Columns with null values\n",
    "\n",
    "v2a1 - monthly rent\n",
    "\n",
    "v18q1 - number of tablets\n",
    "\n",
    "rez_esc - years behind school\n",
    "\n",
    "meaneduc - mean education for adults\n",
    "\n",
    "SQBmeaned - square of meaned\n",
    "\n",
    "meaneduc and sqbmeaned are hight correlated"
   ]
  },
  {
   "cell_type": "code",
   "execution_count": 29,
   "metadata": {
    "execution": {
     "iopub.execute_input": "2020-12-11T15:56:18.670156Z",
     "iopub.status.busy": "2020-12-11T15:56:18.669477Z",
     "iopub.status.idle": "2020-12-11T15:56:18.673904Z",
     "shell.execute_reply": "2020-12-11T15:56:18.673191Z"
    },
    "papermill": {
     "duration": 0.104564,
     "end_time": "2020-12-11T15:56:18.674017",
     "exception": false,
     "start_time": "2020-12-11T15:56:18.569453",
     "status": "completed"
    },
    "tags": []
   },
   "outputs": [],
   "source": [
    "df['dependency']=np.sqrt(df['SQBdependency'])"
   ]
  },
  {
   "cell_type": "code",
   "execution_count": 30,
   "metadata": {
    "execution": {
     "iopub.execute_input": "2020-12-11T15:56:18.877286Z",
     "iopub.status.busy": "2020-12-11T15:56:18.876248Z",
     "iopub.status.idle": "2020-12-11T15:56:18.895000Z",
     "shell.execute_reply": "2020-12-11T15:56:18.894354Z"
    },
    "papermill": {
     "duration": 0.124451,
     "end_time": "2020-12-11T15:56:18.895117",
     "exception": false,
     "start_time": "2020-12-11T15:56:18.770666",
     "status": "completed"
    },
    "tags": []
   },
   "outputs": [
    {
     "name": "stdout",
     "output_type": "stream",
     "text": [
      "total  number of rows with meaneduc as null values  5\n",
      "total  number of rows with v2a1 as null values  6860\n",
      "total  number of rows with v18q1 as null values  7342\n",
      "total  number of rows with rez_esc as null values  7928\n",
      "total  number of rows with SQBmeaned as null values  5\n"
     ]
    }
   ],
   "source": [
    "print('total  number of rows with meaneduc as null values ',len(df[df['meaneduc'].isnull()]))\n",
    "print('total  number of rows with v2a1 as null values ',len(df[df['v2a1'].isnull()]))\n",
    "print('total  number of rows with v18q1 as null values ',len(df[df['v18q1'].isnull()]))\n",
    "print('total  number of rows with rez_esc as null values ',len(df[df['rez_esc'].isnull()]))\n",
    "print('total  number of rows with SQBmeaned as null values ',len(df[df['SQBmeaned'].isnull()]))"
   ]
  },
  {
   "cell_type": "markdown",
   "metadata": {
    "papermill": {
     "duration": 0.096945,
     "end_time": "2020-12-11T15:56:19.088196",
     "exception": false,
     "start_time": "2020-12-11T15:56:18.991251",
     "status": "completed"
    },
    "tags": []
   },
   "source": [
    "Handling v2a1 values as there are lot of null values, so we can see whther all these people own there house"
   ]
  },
  {
   "cell_type": "code",
   "execution_count": 31,
   "metadata": {
    "execution": {
     "iopub.execute_input": "2020-12-11T15:56:19.286893Z",
     "iopub.status.busy": "2020-12-11T15:56:19.285735Z",
     "iopub.status.idle": "2020-12-11T15:56:19.297193Z",
     "shell.execute_reply": "2020-12-11T15:56:19.296665Z"
    },
    "papermill": {
     "duration": 0.114672,
     "end_time": "2020-12-11T15:56:19.297305",
     "exception": false,
     "start_time": "2020-12-11T15:56:19.182633",
     "status": "completed"
    },
    "tags": []
   },
   "outputs": [
    {
     "name": "stdout",
     "output_type": "stream",
     "text": [
      "Owns his house: 5911\n"
     ]
    }
   ],
   "source": [
    "norent=df[df['v2a1'].isnull()]\n",
    "print(\"Owns his house:\", norent[norent['tipovivi1']==1]['Id'].count())"
   ]
  },
  {
   "cell_type": "code",
   "execution_count": 32,
   "metadata": {
    "execution": {
     "iopub.execute_input": "2020-12-11T15:56:19.503687Z",
     "iopub.status.busy": "2020-12-11T15:56:19.502785Z",
     "iopub.status.idle": "2020-12-11T15:56:19.506449Z",
     "shell.execute_reply": "2020-12-11T15:56:19.505881Z"
    },
    "papermill": {
     "duration": 0.104801,
     "end_time": "2020-12-11T15:56:19.506609",
     "exception": false,
     "start_time": "2020-12-11T15:56:19.401808",
     "status": "completed"
    },
    "tags": []
   },
   "outputs": [],
   "source": [
    "df['v2a1']=df['v2a1'].fillna(0)"
   ]
  },
  {
   "cell_type": "markdown",
   "metadata": {
    "papermill": {
     "duration": 0.098495,
     "end_time": "2020-12-11T15:56:19.699941",
     "exception": false,
     "start_time": "2020-12-11T15:56:19.601446",
     "status": "completed"
    },
    "tags": []
   },
   "source": [
    "Now lets look at v18q1- Number of tablets"
   ]
  },
  {
   "cell_type": "code",
   "execution_count": 33,
   "metadata": {
    "execution": {
     "iopub.execute_input": "2020-12-11T15:56:19.904029Z",
     "iopub.status.busy": "2020-12-11T15:56:19.903300Z",
     "iopub.status.idle": "2020-12-11T15:56:19.911033Z",
     "shell.execute_reply": "2020-12-11T15:56:19.910312Z"
    },
    "papermill": {
     "duration": 0.111868,
     "end_time": "2020-12-11T15:56:19.911148",
     "exception": false,
     "start_time": "2020-12-11T15:56:19.799280",
     "status": "completed"
    },
    "tags": []
   },
   "outputs": [
    {
     "name": "stdout",
     "output_type": "stream",
     "text": [
      "total  number of rows with v18q1 as null values  7342\n"
     ]
    }
   ],
   "source": [
    "print('total  number of rows with v18q1 as null values ',len(df[df['v18q1'].isnull()]))"
   ]
  },
  {
   "cell_type": "markdown",
   "metadata": {
    "papermill": {
     "duration": 0.097818,
     "end_time": "2020-12-11T15:56:20.105439",
     "exception": false,
     "start_time": "2020-12-11T15:56:20.007621",
     "status": "completed"
    },
    "tags": []
   },
   "source": [
    "we have v18q which indicates whteher there is a teblet in the household or not"
   ]
  },
  {
   "cell_type": "code",
   "execution_count": 34,
   "metadata": {
    "execution": {
     "iopub.execute_input": "2020-12-11T15:56:20.302033Z",
     "iopub.status.busy": "2020-12-11T15:56:20.301256Z",
     "iopub.status.idle": "2020-12-11T15:56:20.313734Z",
     "shell.execute_reply": "2020-12-11T15:56:20.313123Z"
    },
    "papermill": {
     "duration": 0.113817,
     "end_time": "2020-12-11T15:56:20.313848",
     "exception": false,
     "start_time": "2020-12-11T15:56:20.200031",
     "status": "completed"
    },
    "tags": []
   },
   "outputs": [
    {
     "data": {
      "text/plain": [
       "7342"
      ]
     },
     "execution_count": 34,
     "metadata": {},
     "output_type": "execute_result"
    }
   ],
   "source": [
    "tabletnan=df[df['v18q1'].isnull()]\n",
    "tabletnan[tabletnan['v18q']==0]['Id'].count()"
   ]
  },
  {
   "cell_type": "code",
   "execution_count": 35,
   "metadata": {
    "execution": {
     "iopub.execute_input": "2020-12-11T15:56:20.511647Z",
     "iopub.status.busy": "2020-12-11T15:56:20.510884Z",
     "iopub.status.idle": "2020-12-11T15:56:20.514609Z",
     "shell.execute_reply": "2020-12-11T15:56:20.514016Z"
    },
    "papermill": {
     "duration": 0.103034,
     "end_time": "2020-12-11T15:56:20.514728",
     "exception": false,
     "start_time": "2020-12-11T15:56:20.411694",
     "status": "completed"
    },
    "tags": []
   },
   "outputs": [],
   "source": [
    "df['v18q1']=df['v18q1'].fillna(0)"
   ]
  },
  {
   "cell_type": "markdown",
   "metadata": {
    "papermill": {
     "duration": 0.098775,
     "end_time": "2020-12-11T15:56:20.710938",
     "exception": false,
     "start_time": "2020-12-11T15:56:20.612163",
     "status": "completed"
    },
    "tags": []
   },
   "source": [
    "lets look at rez_esc which indicates the number of years a person is behind school"
   ]
  },
  {
   "cell_type": "code",
   "execution_count": 36,
   "metadata": {
    "execution": {
     "iopub.execute_input": "2020-12-11T15:56:20.916249Z",
     "iopub.status.busy": "2020-12-11T15:56:20.915267Z",
     "iopub.status.idle": "2020-12-11T15:56:20.919589Z",
     "shell.execute_reply": "2020-12-11T15:56:20.920345Z"
    },
    "papermill": {
     "duration": 0.11052,
     "end_time": "2020-12-11T15:56:20.920516",
     "exception": false,
     "start_time": "2020-12-11T15:56:20.809996",
     "status": "completed"
    },
    "tags": []
   },
   "outputs": [
    {
     "name": "stdout",
     "output_type": "stream",
     "text": [
      "7928\n"
     ]
    }
   ],
   "source": [
    "print(df['rez_esc'].isnull().sum())\n",
    "df['rez_esc']=df['rez_esc'].fillna(0)"
   ]
  },
  {
   "cell_type": "code",
   "execution_count": 37,
   "metadata": {
    "execution": {
     "iopub.execute_input": "2020-12-11T15:56:21.125074Z",
     "iopub.status.busy": "2020-12-11T15:56:21.124323Z",
     "iopub.status.idle": "2020-12-11T15:56:21.137133Z",
     "shell.execute_reply": "2020-12-11T15:56:21.136496Z"
    },
    "papermill": {
     "duration": 0.1179,
     "end_time": "2020-12-11T15:56:21.137233",
     "exception": false,
     "start_time": "2020-12-11T15:56:21.019333",
     "status": "completed"
    },
    "tags": []
   },
   "outputs": [
    {
     "data": {
      "text/plain": [
       "Index(['meaneduc', 'SQBmeaned'], dtype='object')"
      ]
     },
     "execution_count": 37,
     "metadata": {},
     "output_type": "execute_result"
    }
   ],
   "source": [
    "df.columns[df.isna().sum()!=0]"
   ]
  },
  {
   "cell_type": "code",
   "execution_count": 38,
   "metadata": {
    "execution": {
     "iopub.execute_input": "2020-12-11T15:56:21.350865Z",
     "iopub.status.busy": "2020-12-11T15:56:21.349799Z",
     "iopub.status.idle": "2020-12-11T15:56:21.354181Z",
     "shell.execute_reply": "2020-12-11T15:56:21.353620Z"
    },
    "papermill": {
     "duration": 0.117669,
     "end_time": "2020-12-11T15:56:21.354301",
     "exception": false,
     "start_time": "2020-12-11T15:56:21.236632",
     "status": "completed"
    },
    "tags": []
   },
   "outputs": [
    {
     "data": {
      "text/html": [
       "<div>\n",
       "<style scoped>\n",
       "    .dataframe tbody tr th:only-of-type {\n",
       "        vertical-align: middle;\n",
       "    }\n",
       "\n",
       "    .dataframe tbody tr th {\n",
       "        vertical-align: top;\n",
       "    }\n",
       "\n",
       "    .dataframe thead th {\n",
       "        text-align: right;\n",
       "    }\n",
       "</style>\n",
       "<table border=\"1\" class=\"dataframe\">\n",
       "  <thead>\n",
       "    <tr style=\"text-align: right;\">\n",
       "      <th></th>\n",
       "      <th>meaneduc</th>\n",
       "      <th>SQBmeaned</th>\n",
       "    </tr>\n",
       "  </thead>\n",
       "  <tbody>\n",
       "    <tr>\n",
       "      <th>1291</th>\n",
       "      <td>NaN</td>\n",
       "      <td>NaN</td>\n",
       "    </tr>\n",
       "    <tr>\n",
       "      <th>1840</th>\n",
       "      <td>NaN</td>\n",
       "      <td>NaN</td>\n",
       "    </tr>\n",
       "    <tr>\n",
       "      <th>1841</th>\n",
       "      <td>NaN</td>\n",
       "      <td>NaN</td>\n",
       "    </tr>\n",
       "    <tr>\n",
       "      <th>2049</th>\n",
       "      <td>NaN</td>\n",
       "      <td>NaN</td>\n",
       "    </tr>\n",
       "    <tr>\n",
       "      <th>2050</th>\n",
       "      <td>NaN</td>\n",
       "      <td>NaN</td>\n",
       "    </tr>\n",
       "  </tbody>\n",
       "</table>\n",
       "</div>"
      ],
      "text/plain": [
       "      meaneduc  SQBmeaned\n",
       "1291       NaN        NaN\n",
       "1840       NaN        NaN\n",
       "1841       NaN        NaN\n",
       "2049       NaN        NaN\n",
       "2050       NaN        NaN"
      ]
     },
     "execution_count": 38,
     "metadata": {},
     "output_type": "execute_result"
    }
   ],
   "source": [
    "meaned=df[df['meaneduc'].isnull()]\n",
    "meaned[['meaneduc','SQBmeaned']]"
   ]
  },
  {
   "cell_type": "code",
   "execution_count": 39,
   "metadata": {
    "execution": {
     "iopub.execute_input": "2020-12-11T15:56:21.562239Z",
     "iopub.status.busy": "2020-12-11T15:56:21.557300Z",
     "iopub.status.idle": "2020-12-11T15:56:21.564898Z",
     "shell.execute_reply": "2020-12-11T15:56:21.564336Z"
    },
    "papermill": {
     "duration": 0.111924,
     "end_time": "2020-12-11T15:56:21.565015",
     "exception": false,
     "start_time": "2020-12-11T15:56:21.453091",
     "status": "completed"
    },
    "tags": []
   },
   "outputs": [],
   "source": [
    "df['meaneduc']=df['meaneduc'].fillna(0)\n",
    "df.drop(['SQBmeaned'],axis=1,inplace=True)"
   ]
  },
  {
   "cell_type": "code",
   "execution_count": 40,
   "metadata": {
    "execution": {
     "iopub.execute_input": "2020-12-11T15:56:21.774811Z",
     "iopub.status.busy": "2020-12-11T15:56:21.774069Z",
     "iopub.status.idle": "2020-12-11T15:56:21.782791Z",
     "shell.execute_reply": "2020-12-11T15:56:21.783310Z"
    },
    "papermill": {
     "duration": 0.120048,
     "end_time": "2020-12-11T15:56:21.783464",
     "exception": false,
     "start_time": "2020-12-11T15:56:21.663416",
     "status": "completed"
    },
    "tags": []
   },
   "outputs": [
    {
     "data": {
      "text/plain": [
       "Index([], dtype='object')"
      ]
     },
     "execution_count": 40,
     "metadata": {},
     "output_type": "execute_result"
    }
   ],
   "source": [
    "df.columns[df.isna().sum()!=0]"
   ]
  },
  {
   "cell_type": "markdown",
   "metadata": {
    "papermill": {
     "duration": 0.102304,
     "end_time": "2020-12-11T15:56:21.987075",
     "exception": false,
     "start_time": "2020-12-11T15:56:21.884771",
     "status": "completed"
    },
    "tags": []
   },
   "source": [
    "# EDA on data\n",
    "\n",
    "Most of the features are related to each other like :-\n",
    "\n",
    "* v14a, =1 has bathroom in the household\n",
    "* refrig, =1 if the household has refrigerator\n",
    "* v18q, owns a tablet\n",
    "* v18q1, number of tablets household owns\n",
    "\n",
    "so we will explore only one feature of each category"
   ]
  },
  {
   "cell_type": "markdown",
   "metadata": {
    "papermill": {
     "duration": 0.100242,
     "end_time": "2020-12-11T15:56:22.189658",
     "exception": false,
     "start_time": "2020-12-11T15:56:22.089416",
     "status": "completed"
    },
    "tags": []
   },
   "source": [
    "v2a1 - Monthly rent payment "
   ]
  },
  {
   "cell_type": "code",
   "execution_count": 41,
   "metadata": {
    "execution": {
     "iopub.execute_input": "2020-12-11T15:56:22.397160Z",
     "iopub.status.busy": "2020-12-11T15:56:22.396488Z",
     "iopub.status.idle": "2020-12-11T15:56:22.620743Z",
     "shell.execute_reply": "2020-12-11T15:56:22.621349Z"
    },
    "papermill": {
     "duration": 0.331273,
     "end_time": "2020-12-11T15:56:22.621547",
     "exception": false,
     "start_time": "2020-12-11T15:56:22.290274",
     "status": "completed"
    },
    "tags": []
   },
   "outputs": [
    {
     "data": {
      "image/png": "[encoded data removed]",
      "text/plain": [
       "<Figure size 432x288 with 1 Axes>"
      ]
     },
     "metadata": {
      "needs_background": "light"
     },
     "output_type": "display_data"
    }
   ],
   "source": [
    "plt.hist(df['v2a1'])\n",
    "plt.show()"
   ]
  },
  {
   "cell_type": "markdown",
   "metadata": {
    "papermill": {
     "duration": 0.102458,
     "end_time": "2020-12-11T15:56:22.826550",
     "exception": false,
     "start_time": "2020-12-11T15:56:22.724092",
     "status": "completed"
    },
    "tags": []
   },
   "source": [
    "* tamhog, size of the household\n",
    "* tamviv, number of persons living in the household"
   ]
  },
  {
   "cell_type": "code",
   "execution_count": 42,
   "metadata": {
    "execution": {
     "iopub.execute_input": "2020-12-11T15:56:23.043623Z",
     "iopub.status.busy": "2020-12-11T15:56:23.041274Z",
     "iopub.status.idle": "2020-12-11T15:56:23.192698Z",
     "shell.execute_reply": "2020-12-11T15:56:23.191932Z"
    },
    "papermill": {
     "duration": 0.263665,
     "end_time": "2020-12-11T15:56:23.192818",
     "exception": false,
     "start_time": "2020-12-11T15:56:22.929153",
     "status": "completed"
    },
    "tags": []
   },
   "outputs": [
    {
     "name": "stdout",
     "output_type": "stream",
     "text": [
      "as the size of household increases the nuumber of persons living in the house also increased\n"
     ]
    },
    {
     "data": {
      "image/png": "[encoded data removed]",
      "text/plain": [
       "<Figure size 432x288 with 1 Axes>"
      ]
     },
     "metadata": {
      "needs_background": "light"
     },
     "output_type": "display_data"
    }
   ],
   "source": [
    "plt.plot(df['tamhog'],df['tamviv'])\n",
    "print('as the size of household increases the nuumber of persons living in the house also increased')"
   ]
  },
  {
   "cell_type": "markdown",
   "metadata": {
    "papermill": {
     "duration": 0.107419,
     "end_time": "2020-12-11T15:56:23.405556",
     "exception": false,
     "start_time": "2020-12-11T15:56:23.298137",
     "status": "completed"
    },
    "tags": []
   },
   "source": [
    "* abastaguadentro, =1 if water provision inside the dwelling\n",
    "* abastaguafuera, =1 if water provision outside the dwelling\n",
    "* abastaguano, =1 if no water provision"
   ]
  },
  {
   "cell_type": "code",
   "execution_count": 43,
   "metadata": {
    "execution": {
     "iopub.execute_input": "2020-12-11T15:56:23.616677Z",
     "iopub.status.busy": "2020-12-11T15:56:23.615617Z",
     "iopub.status.idle": "2020-12-11T15:56:23.620226Z",
     "shell.execute_reply": "2020-12-11T15:56:23.620778Z"
    },
    "papermill": {
     "duration": 0.114323,
     "end_time": "2020-12-11T15:56:23.620924",
     "exception": false,
     "start_time": "2020-12-11T15:56:23.506601",
     "status": "completed"
    },
    "tags": []
   },
   "outputs": [
    {
     "name": "stdout",
     "output_type": "stream",
     "text": [
      "water provision inside the dwelling  9220\n",
      "water provision outside the dwelling  303\n",
      "no water provision  34\n"
     ]
    }
   ],
   "source": [
    "print('water provision inside the dwelling ', df['abastaguadentro'].sum())\n",
    "print('water provision outside the dwelling ', df['abastaguafuera'].sum())\n",
    "print('no water provision ', df['abastaguano'].sum())"
   ]
  },
  {
   "cell_type": "code",
   "execution_count": 44,
   "metadata": {
    "execution": {
     "iopub.execute_input": "2020-12-11T15:56:23.841378Z",
     "iopub.status.busy": "2020-12-11T15:56:23.840751Z",
     "iopub.status.idle": "2020-12-11T15:56:23.893183Z",
     "shell.execute_reply": "2020-12-11T15:56:23.894056Z"
    },
    "papermill": {
     "duration": 0.170214,
     "end_time": "2020-12-11T15:56:23.894274",
     "exception": false,
     "start_time": "2020-12-11T15:56:23.724060",
     "status": "completed"
    },
    "tags": []
   },
   "outputs": [
    {
     "data": {
      "image/png": "[encoded data removed]",
      "text/plain": [
       "<Figure size 432x288 with 1 Axes>"
      ]
     },
     "metadata": {},
     "output_type": "display_data"
    }
   ],
   "source": [
    "pie=[df['abastaguadentro'].sum(),df['abastaguafuera'].sum(),df['abastaguano'].sum()]\n",
    "labels=['water provision inside the dwelling',' water provision outside the dwelling',' no water provision']\n",
    "plt.pie(pie,labels=labels)\n",
    "plt.show()"
   ]
  },
  {
   "cell_type": "code",
   "execution_count": 45,
   "metadata": {
    "execution": {
     "iopub.execute_input": "2020-12-11T15:56:24.110242Z",
     "iopub.status.busy": "2020-12-11T15:56:24.109551Z",
     "iopub.status.idle": "2020-12-11T15:56:24.282164Z",
     "shell.execute_reply": "2020-12-11T15:56:24.281381Z"
    },
    "papermill": {
     "duration": 0.282253,
     "end_time": "2020-12-11T15:56:24.282287",
     "exception": false,
     "start_time": "2020-12-11T15:56:24.000034",
     "status": "completed"
    },
    "tags": []
   },
   "outputs": [
    {
     "name": "stdout",
     "output_type": "stream",
     "text": [
      "mean poverty level of households for water provision inside the dwelling  3.3155097613882862\n"
     ]
    },
    {
     "data": {
      "image/png": "[encoded data removed]",
      "text/plain": [
       "<Figure size 432x288 with 1 Axes>"
      ]
     },
     "metadata": {
      "needs_background": "light"
     },
     "output_type": "display_data"
    }
   ],
   "source": [
    "abastaguadentro=df[df['abastaguadentro']==1]\n",
    "print('mean poverty level of households for water provision inside the dwelling ',abastaguadentro['Target'].mean())\n",
    "plt.hist(abastaguadentro['Target'])\n",
    "plt.show()"
   ]
  },
  {
   "cell_type": "code",
   "execution_count": 46,
   "metadata": {
    "execution": {
     "iopub.execute_input": "2020-12-11T15:56:24.506545Z",
     "iopub.status.busy": "2020-12-11T15:56:24.501887Z",
     "iopub.status.idle": "2020-12-11T15:56:24.679694Z",
     "shell.execute_reply": "2020-12-11T15:56:24.680302Z"
    },
    "papermill": {
     "duration": 0.291406,
     "end_time": "2020-12-11T15:56:24.680457",
     "exception": false,
     "start_time": "2020-12-11T15:56:24.389051",
     "status": "completed"
    },
    "tags": []
   },
   "outputs": [
    {
     "name": "stdout",
     "output_type": "stream",
     "text": [
      "mean poverty level of households for water provision outside the dwelling  3.01980198019802\n"
     ]
    },
    {
     "data": {
      "image/png": "[encoded data removed]",
      "text/plain": [
       "<Figure size 432x288 with 1 Axes>"
      ]
     },
     "metadata": {
      "needs_background": "light"
     },
     "output_type": "display_data"
    }
   ],
   "source": [
    "abastaguafuera=df[df['abastaguafuera']==1]\n",
    "print('mean poverty level of households for water provision outside the dwelling ',abastaguafuera['Target'].mean())\n",
    "plt.hist(abastaguafuera['Target'])\n",
    "plt.show()"
   ]
  },
  {
   "cell_type": "code",
   "execution_count": 47,
   "metadata": {
    "execution": {
     "iopub.execute_input": "2020-12-11T15:56:24.927677Z",
     "iopub.status.busy": "2020-12-11T15:56:24.920931Z",
     "iopub.status.idle": "2020-12-11T15:56:25.084796Z",
     "shell.execute_reply": "2020-12-11T15:56:25.084038Z"
    },
    "papermill": {
     "duration": 0.27836,
     "end_time": "2020-12-11T15:56:25.084912",
     "exception": false,
     "start_time": "2020-12-11T15:56:24.806552",
     "status": "completed"
    },
    "tags": []
   },
   "outputs": [
    {
     "name": "stdout",
     "output_type": "stream",
     "text": [
      "mean poverty level of households no water provision   2.235294117647059\n"
     ]
    },
    {
     "data": {
      "image/png": "[encoded data removed]",
      "text/plain": [
       "<Figure size 432x288 with 1 Axes>"
      ]
     },
     "metadata": {
      "needs_background": "light"
     },
     "output_type": "display_data"
    }
   ],
   "source": [
    "abastaguano=df[df['abastaguano']==1]\n",
    "print('mean poverty level of households no water provision  ',abastaguano['Target'].mean())\n",
    "plt.hist(abastaguano['Target'])\n",
    "plt.show()"
   ]
  },
  {
   "cell_type": "markdown",
   "metadata": {
    "papermill": {
     "duration": 0.11035,
     "end_time": "2020-12-11T15:56:25.299751",
     "exception": false,
     "start_time": "2020-12-11T15:56:25.189401",
     "status": "completed"
    },
    "tags": []
   },
   "source": [
    "* public, \"=1 electricity from CNFL,  ICE,  ESPH/JASEC\"\n",
    "* planpri, =1 electricity from private plant\n",
    "* noelec, =1 no electricity in the dwelling\n",
    "* coopele, =1 electricity from cooperative"
   ]
  },
  {
   "cell_type": "code",
   "execution_count": 48,
   "metadata": {
    "execution": {
     "iopub.execute_input": "2020-12-11T15:56:25.517825Z",
     "iopub.status.busy": "2020-12-11T15:56:25.517080Z",
     "iopub.status.idle": "2020-12-11T15:56:25.523219Z",
     "shell.execute_reply": "2020-12-11T15:56:25.522414Z"
    },
    "papermill": {
     "duration": 0.118644,
     "end_time": "2020-12-11T15:56:25.523383",
     "exception": false,
     "start_time": "2020-12-11T15:56:25.404739",
     "status": "completed"
    },
    "tags": []
   },
   "outputs": [
    {
     "name": "stdout",
     "output_type": "stream",
     "text": [
      "electricity from CNFL, ICE, ESPH/JASEC 8459\n",
      "electricity from private plant 3\n",
      "no electricity in the dwelling 21\n",
      "electricity from cooperative 1059\n"
     ]
    }
   ],
   "source": [
    "print('electricity from CNFL, ICE, ESPH/JASEC', df['public'].sum())\n",
    "print('electricity from private plant', df['planpri'].sum())\n",
    "print('no electricity in the dwelling', df['noelec'].sum())\n",
    "print('electricity from cooperative', df['coopele'].sum())"
   ]
  },
  {
   "cell_type": "code",
   "execution_count": 49,
   "metadata": {
    "execution": {
     "iopub.execute_input": "2020-12-11T15:56:25.752967Z",
     "iopub.status.busy": "2020-12-11T15:56:25.748365Z",
     "iopub.status.idle": "2020-12-11T15:56:25.809720Z",
     "shell.execute_reply": "2020-12-11T15:56:25.810191Z"
    },
    "papermill": {
     "duration": 0.179947,
     "end_time": "2020-12-11T15:56:25.810330",
     "exception": false,
     "start_time": "2020-12-11T15:56:25.630383",
     "status": "completed"
    },
    "tags": []
   },
   "outputs": [
    {
     "data": {
      "image/png": "[encoded data removed]",
      "text/plain": [
       "<Figure size 432x288 with 1 Axes>"
      ]
     },
     "metadata": {},
     "output_type": "display_data"
    }
   ],
   "source": [
    "pie=[df['public'].sum(),df['planpri'].sum(),df['noelec'].sum(),df['coopele'].sum()]\n",
    "labels=['electricity from CNFL, ICE, ESPH/JASEC','electricity from private plant','no electricity in the dwelling','electricity from cooperative']\n",
    "plt.pie(pie,labels=labels)\n",
    "plt.show()"
   ]
  },
  {
   "cell_type": "code",
   "execution_count": 50,
   "metadata": {
    "execution": {
     "iopub.execute_input": "2020-12-11T15:56:26.039720Z",
     "iopub.status.busy": "2020-12-11T15:56:26.039055Z",
     "iopub.status.idle": "2020-12-11T15:56:26.213476Z",
     "shell.execute_reply": "2020-12-11T15:56:26.212815Z"
    },
    "papermill": {
     "duration": 0.290602,
     "end_time": "2020-12-11T15:56:26.213632",
     "exception": false,
     "start_time": "2020-12-11T15:56:25.923030",
     "status": "completed"
    },
    "tags": []
   },
   "outputs": [
    {
     "name": "stdout",
     "output_type": "stream",
     "text": [
      "electricity from CNFL, ICE, ESPH/JASEC 3.305591677503251\n"
     ]
    },
    {
     "data": {
      "image/png": "[encoded data removed]",
      "text/plain": [
       "<Figure size 432x288 with 1 Axes>"
      ]
     },
     "metadata": {
      "needs_background": "light"
     },
     "output_type": "display_data"
    }
   ],
   "source": [
    "public=df[df['public']==1]\n",
    "print('electricity from CNFL, ICE, ESPH/JASEC',public['Target'].mean())\n",
    "plt.hist(public['Target'])\n",
    "plt.show()"
   ]
  },
  {
   "cell_type": "code",
   "execution_count": 51,
   "metadata": {
    "execution": {
     "iopub.execute_input": "2020-12-11T15:56:26.450643Z",
     "iopub.status.busy": "2020-12-11T15:56:26.449903Z",
     "iopub.status.idle": "2020-12-11T15:56:26.606846Z",
     "shell.execute_reply": "2020-12-11T15:56:26.606079Z"
    },
    "papermill": {
     "duration": 0.280852,
     "end_time": "2020-12-11T15:56:26.606980",
     "exception": false,
     "start_time": "2020-12-11T15:56:26.326128",
     "status": "completed"
    },
    "tags": []
   },
   "outputs": [
    {
     "name": "stdout",
     "output_type": "stream",
     "text": [
      "no electricity in the dwelling 2.5714285714285716\n"
     ]
    },
    {
     "data": {
      "image/png": "[encoded data removed]",
      "text/plain": [
       "<Figure size 432x288 with 1 Axes>"
      ]
     },
     "metadata": {
      "needs_background": "light"
     },
     "output_type": "display_data"
    }
   ],
   "source": [
    "noelec=df[df['noelec']==1]\n",
    "print('no electricity in the dwelling',noelec['Target'].mean())\n",
    "plt.hist(noelec['Target'])\n",
    "plt.show()"
   ]
  },
  {
   "cell_type": "code",
   "execution_count": 52,
   "metadata": {
    "execution": {
     "iopub.execute_input": "2020-12-11T15:56:26.849301Z",
     "iopub.status.busy": "2020-12-11T15:56:26.841984Z",
     "iopub.status.idle": "2020-12-11T15:56:27.015618Z",
     "shell.execute_reply": "2020-12-11T15:56:27.015021Z"
    },
    "papermill": {
     "duration": 0.294513,
     "end_time": "2020-12-11T15:56:27.015739",
     "exception": false,
     "start_time": "2020-12-11T15:56:26.721226",
     "status": "completed"
    },
    "tags": []
   },
   "outputs": [
    {
     "name": "stdout",
     "output_type": "stream",
     "text": [
      "electricity from cooperative 3.308781869688385\n"
     ]
    },
    {
     "data": {
      "image/png": "[encoded data removed]",
      "text/plain": [
       "<Figure size 432x288 with 1 Axes>"
      ]
     },
     "metadata": {
      "needs_background": "light"
     },
     "output_type": "display_data"
    }
   ],
   "source": [
    "coopele=df[df['coopele']==1]\n",
    "print('electricity from cooperative',coopele['Target'].mean())\n",
    "plt.hist(coopele['Target'])\n",
    "plt.show()"
   ]
  },
  {
   "cell_type": "markdown",
   "metadata": {
    "papermill": {
     "duration": 0.112851,
     "end_time": "2020-12-11T15:56:27.242151",
     "exception": false,
     "start_time": "2020-12-11T15:56:27.129300",
     "status": "completed"
    },
    "tags": []
   },
   "source": [
    "1. sanitario1, =1 no toilet in the dwelling\n",
    "1. sanitario2, =1 toilet connected to sewer or cesspool\n",
    "1. sanitario3, =1 toilet connected to  septic tank\n",
    "1. sanitario5, =1 toilet connected to black hole \n",
    "1. sanitario6, =1 toilet connected to other system"
   ]
  },
  {
   "cell_type": "code",
   "execution_count": 53,
   "metadata": {
    "execution": {
     "iopub.execute_input": "2020-12-11T15:56:27.478284Z",
     "iopub.status.busy": "2020-12-11T15:56:27.477282Z",
     "iopub.status.idle": "2020-12-11T15:56:27.482694Z",
     "shell.execute_reply": "2020-12-11T15:56:27.480739Z"
    },
    "papermill": {
     "duration": 0.126374,
     "end_time": "2020-12-11T15:56:27.482844",
     "exception": false,
     "start_time": "2020-12-11T15:56:27.356470",
     "status": "completed"
    },
    "tags": []
   },
   "outputs": [
    {
     "name": "stdout",
     "output_type": "stream",
     "text": [
      "no toilet in the dwelling 37\n",
      "toilet connected to sewer or cesspool 2045\n",
      "toilet connected to septic tank 7304\n",
      "toilet connected to black hole  147\n",
      "toilet connected to other system 24\n"
     ]
    }
   ],
   "source": [
    "print('no toilet in the dwelling', df['sanitario1'].sum())\n",
    "print('toilet connected to sewer or cesspool', df['sanitario2'].sum())\n",
    "print('toilet connected to septic tank', df['sanitario3'].sum())\n",
    "print('toilet connected to black hole ', df['sanitario5'].sum())\n",
    "print('toilet connected to other system', df['sanitario6'].sum())"
   ]
  },
  {
   "cell_type": "code",
   "execution_count": 54,
   "metadata": {
    "execution": {
     "iopub.execute_input": "2020-12-11T15:56:27.725041Z",
     "iopub.status.busy": "2020-12-11T15:56:27.723996Z",
     "iopub.status.idle": "2020-12-11T15:56:27.783021Z",
     "shell.execute_reply": "2020-12-11T15:56:27.782394Z"
    },
    "papermill": {
     "duration": 0.186812,
     "end_time": "2020-12-11T15:56:27.783128",
     "exception": false,
     "start_time": "2020-12-11T15:56:27.596316",
     "status": "completed"
    },
    "tags": []
   },
   "outputs": [
    {
     "data": {
      "image/png": "[encoded data removed]",
      "text/plain": [
       "<Figure size 432x288 with 1 Axes>"
      ]
     },
     "metadata": {},
     "output_type": "display_data"
    }
   ],
   "source": [
    "pie=[df['sanitario1'].sum(),df['sanitario2'].sum(),df['sanitario3'].sum(),df['sanitario5'].sum(),df['sanitario6'].sum()]\n",
    "labels=['no toilet in the dwelling','toilet connected to sewer','toilet connected to septic tank','toilet connected to back drinage','toilet connected to other system']\n",
    "plt.pie(pie,labels=labels)\n",
    "plt.show()"
   ]
  },
  {
   "cell_type": "code",
   "execution_count": 55,
   "metadata": {
    "execution": {
     "iopub.execute_input": "2020-12-11T15:56:28.028004Z",
     "iopub.status.busy": "2020-12-11T15:56:28.022441Z",
     "iopub.status.idle": "2020-12-11T15:56:28.191775Z",
     "shell.execute_reply": "2020-12-11T15:56:28.191037Z"
    },
    "papermill": {
     "duration": 0.29333,
     "end_time": "2020-12-11T15:56:28.191934",
     "exception": false,
     "start_time": "2020-12-11T15:56:27.898604",
     "status": "completed"
    },
    "tags": []
   },
   "outputs": [
    {
     "name": "stdout",
     "output_type": "stream",
     "text": [
      "no toilet in the dwelling 2.5405405405405403\n"
     ]
    },
    {
     "data": {
      "image/png": "[encoded data removed]",
      "text/plain": [
       "<Figure size 432x288 with 1 Axes>"
      ]
     },
     "metadata": {
      "needs_background": "light"
     },
     "output_type": "display_data"
    }
   ],
   "source": [
    "sanitario1=df[df['sanitario1']==1]\n",
    "print('no toilet in the dwelling',sanitario1['Target'].mean())\n",
    "plt.hist(sanitario1['Target'])\n",
    "plt.show()"
   ]
  },
  {
   "cell_type": "code",
   "execution_count": 56,
   "metadata": {
    "execution": {
     "iopub.execute_input": "2020-12-11T15:56:28.435780Z",
     "iopub.status.busy": "2020-12-11T15:56:28.434611Z",
     "iopub.status.idle": "2020-12-11T15:56:28.608282Z",
     "shell.execute_reply": "2020-12-11T15:56:28.607751Z"
    },
    "papermill": {
     "duration": 0.29827,
     "end_time": "2020-12-11T15:56:28.608398",
     "exception": false,
     "start_time": "2020-12-11T15:56:28.310128",
     "status": "completed"
    },
    "tags": []
   },
   "outputs": [
    {
     "name": "stdout",
     "output_type": "stream",
     "text": [
      "toilet connected to sewer or cesspool 3.473838630806846\n"
     ]
    },
    {
     "data": {
      "image/png": "[encoded data removed]",
      "text/plain": [
       "<Figure size 432x288 with 1 Axes>"
      ]
     },
     "metadata": {
      "needs_background": "light"
     },
     "output_type": "display_data"
    }
   ],
   "source": [
    "sanitario2=df[df['sanitario2']==1]\n",
    "print('toilet connected to sewer or cesspool',sanitario2['Target'].mean())\n",
    "plt.hist(sanitario2['Target'])\n",
    "plt.show()"
   ]
  },
  {
   "cell_type": "code",
   "execution_count": 57,
   "metadata": {
    "execution": {
     "iopub.execute_input": "2020-12-11T15:56:28.858627Z",
     "iopub.status.busy": "2020-12-11T15:56:28.857887Z",
     "iopub.status.idle": "2020-12-11T15:56:29.028421Z",
     "shell.execute_reply": "2020-12-11T15:56:29.027737Z"
    },
    "papermill": {
     "duration": 0.29608,
     "end_time": "2020-12-11T15:56:29.028547",
     "exception": false,
     "start_time": "2020-12-11T15:56:28.732467",
     "status": "completed"
    },
    "tags": []
   },
   "outputs": [
    {
     "name": "stdout",
     "output_type": "stream",
     "text": [
      "toilet connected to septic tank 3.276423877327492\n"
     ]
    },
    {
     "data": {
      "image/png": "[encoded data removed]",
      "text/plain": [
       "<Figure size 432x288 with 1 Axes>"
      ]
     },
     "metadata": {
      "needs_background": "light"
     },
     "output_type": "display_data"
    }
   ],
   "source": [
    "sanitario3=df[df['sanitario3']==1]\n",
    "print('toilet connected to septic tank',sanitario3['Target'].mean())\n",
    "plt.hist(sanitario3['Target'])\n",
    "plt.show()"
   ]
  },
  {
   "cell_type": "code",
   "execution_count": 58,
   "metadata": {
    "execution": {
     "iopub.execute_input": "2020-12-11T15:56:29.284290Z",
     "iopub.status.busy": "2020-12-11T15:56:29.283576Z",
     "iopub.status.idle": "2020-12-11T15:56:29.444788Z",
     "shell.execute_reply": "2020-12-11T15:56:29.444152Z"
    },
    "papermill": {
     "duration": 0.295467,
     "end_time": "2020-12-11T15:56:29.444915",
     "exception": false,
     "start_time": "2020-12-11T15:56:29.149448",
     "status": "completed"
    },
    "tags": []
   },
   "outputs": [
    {
     "name": "stdout",
     "output_type": "stream",
     "text": [
      "toilet connected to black hole 2.435374149659864\n"
     ]
    },
    {
     "data": {
      "image/png": "[encoded data removed]",
      "text/plain": [
       "<Figure size 432x288 with 1 Axes>"
      ]
     },
     "metadata": {
      "needs_background": "light"
     },
     "output_type": "display_data"
    }
   ],
   "source": [
    "sanitario5=df[df['sanitario5']==1]\n",
    "print('toilet connected to black hole',sanitario5['Target'].mean())\n",
    "plt.hist(sanitario5['Target'])\n",
    "plt.show()"
   ]
  },
  {
   "cell_type": "code",
   "execution_count": 59,
   "metadata": {
    "execution": {
     "iopub.execute_input": "2020-12-11T15:56:29.699336Z",
     "iopub.status.busy": "2020-12-11T15:56:29.698289Z",
     "iopub.status.idle": "2020-12-11T15:56:29.866662Z",
     "shell.execute_reply": "2020-12-11T15:56:29.865911Z"
    },
    "papermill": {
     "duration": 0.302098,
     "end_time": "2020-12-11T15:56:29.866836",
     "exception": false,
     "start_time": "2020-12-11T15:56:29.564738",
     "status": "completed"
    },
    "tags": []
   },
   "outputs": [
    {
     "name": "stdout",
     "output_type": "stream",
     "text": [
      "toilet connected to other system 3.0416666666666665\n"
     ]
    },
    {
     "data": {
      "image/png": "[encoded data removed]",
      "text/plain": [
       "<Figure size 432x288 with 1 Axes>"
      ]
     },
     "metadata": {
      "needs_background": "light"
     },
     "output_type": "display_data"
    }
   ],
   "source": [
    "sanitario6=df[df['sanitario6']==1]\n",
    "print('toilet connected to other system',sanitario6['Target'].mean())\n",
    "plt.hist(sanitario6['Target'])\n",
    "plt.show()"
   ]
  },
  {
   "cell_type": "markdown",
   "metadata": {
    "papermill": {
     "duration": 0.123685,
     "end_time": "2020-12-11T15:56:30.116128",
     "exception": false,
     "start_time": "2020-12-11T15:56:29.992443",
     "status": "completed"
    },
    "tags": []
   },
   "source": [
    "* energcocinar1, =1 no main source of energy used for cooking (no kitchen)\n",
    "* energcocinar2, =1 main source of energy used for cooking electricity\n",
    "* energcocinar3, =1 main source of energy used for cooking gas\n",
    "* energcocinar4, =1 main source of energy used for cooking wood charcoal"
   ]
  },
  {
   "cell_type": "code",
   "execution_count": 60,
   "metadata": {
    "execution": {
     "iopub.execute_input": "2020-12-11T15:56:30.371701Z",
     "iopub.status.busy": "2020-12-11T15:56:30.370836Z",
     "iopub.status.idle": "2020-12-11T15:56:30.375158Z",
     "shell.execute_reply": "2020-12-11T15:56:30.374232Z"
    },
    "papermill": {
     "duration": 0.136889,
     "end_time": "2020-12-11T15:56:30.375272",
     "exception": false,
     "start_time": "2020-12-11T15:56:30.238383",
     "status": "completed"
    },
    "tags": []
   },
   "outputs": [
    {
     "name": "stdout",
     "output_type": "stream",
     "text": [
      "no main source of energy used for cooking 18\n",
      "main source of energy used for cooking electricity 4679\n",
      "main source of energy used for cooking gas 4381\n",
      "main source of energy used for cooking wood charcoal 479\n"
     ]
    }
   ],
   "source": [
    "print('no main source of energy used for cooking', df['energcocinar1'].sum())\n",
    "print('main source of energy used for cooking electricity', df['energcocinar2'].sum())\n",
    "print('main source of energy used for cooking gas', df['energcocinar3'].sum())\n",
    "print('main source of energy used for cooking wood charcoal', df['energcocinar4'].sum())"
   ]
  },
  {
   "cell_type": "code",
   "execution_count": 61,
   "metadata": {
    "execution": {
     "iopub.execute_input": "2020-12-11T15:56:30.737589Z",
     "iopub.status.busy": "2020-12-11T15:56:30.736476Z",
     "iopub.status.idle": "2020-12-11T15:56:30.798212Z",
     "shell.execute_reply": "2020-12-11T15:56:30.797617Z"
    },
    "papermill": {
     "duration": 0.301039,
     "end_time": "2020-12-11T15:56:30.798316",
     "exception": false,
     "start_time": "2020-12-11T15:56:30.497277",
     "status": "completed"
    },
    "tags": []
   },
   "outputs": [
    {
     "data": {
      "image/png": "[encoded data removed]",
      "text/plain": [
       "<Figure size 432x288 with 1 Axes>"
      ]
     },
     "metadata": {},
     "output_type": "display_data"
    }
   ],
   "source": [
    "pie=[df['energcocinar1'].sum(),df['energcocinar2'].sum(),df['energcocinar3'].sum(), df['energcocinar4'].sum()]\n",
    "labels=['no main source of energy used for cooking','main source of energy used for cooking electricity','main source of energy used for cooking gas','main source of energy used for cooking wood charcoal']\n",
    "plt.pie(pie,labels=labels)\n",
    "plt.show()"
   ]
  },
  {
   "cell_type": "code",
   "execution_count": 62,
   "metadata": {
    "execution": {
     "iopub.execute_input": "2020-12-11T15:56:31.059651Z",
     "iopub.status.busy": "2020-12-11T15:56:31.058901Z",
     "iopub.status.idle": "2020-12-11T15:56:31.229570Z",
     "shell.execute_reply": "2020-12-11T15:56:31.228847Z"
    },
    "papermill": {
     "duration": 0.304034,
     "end_time": "2020-12-11T15:56:31.229721",
     "exception": false,
     "start_time": "2020-12-11T15:56:30.925687",
     "status": "completed"
    },
    "tags": []
   },
   "outputs": [
    {
     "name": "stdout",
     "output_type": "stream",
     "text": [
      "no main source of energy used for cooking  2.3333333333333335\n"
     ]
    },
    {
     "data": {
      "image/png": "[encoded data removed]",
      "text/plain": [
       "<Figure size 432x288 with 1 Axes>"
      ]
     },
     "metadata": {
      "needs_background": "light"
     },
     "output_type": "display_data"
    }
   ],
   "source": [
    "energcocinar1=df[df['energcocinar1']==1]\n",
    "print('no main source of energy used for cooking ',energcocinar1['Target'].mean())\n",
    "plt.hist(energcocinar1['Target'])\n",
    "plt.show()"
   ]
  },
  {
   "cell_type": "code",
   "execution_count": 63,
   "metadata": {
    "execution": {
     "iopub.execute_input": "2020-12-11T15:56:31.484413Z",
     "iopub.status.busy": "2020-12-11T15:56:31.483708Z",
     "iopub.status.idle": "2020-12-11T15:56:31.651131Z",
     "shell.execute_reply": "2020-12-11T15:56:31.651755Z"
    },
    "papermill": {
     "duration": 0.29862,
     "end_time": "2020-12-11T15:56:31.651942",
     "exception": false,
     "start_time": "2020-12-11T15:56:31.353322",
     "status": "completed"
    },
    "tags": []
   },
   "outputs": [
    {
     "name": "stdout",
     "output_type": "stream",
     "text": [
      "main source of energy used for cooking electricity  3.4635605898696302\n"
     ]
    },
    {
     "data": {
      "image/png": "[encoded data removed]",
      "text/plain": [
       "<Figure size 432x288 with 1 Axes>"
      ]
     },
     "metadata": {
      "needs_background": "light"
     },
     "output_type": "display_data"
    }
   ],
   "source": [
    "energcocinar2=df[df['energcocinar2']==1]\n",
    "print('main source of energy used for cooking electricity ',energcocinar2['Target'].mean())\n",
    "plt.hist(energcocinar2['Target'])\n",
    "plt.show()"
   ]
  },
  {
   "cell_type": "code",
   "execution_count": 64,
   "metadata": {
    "execution": {
     "iopub.execute_input": "2020-12-11T15:56:31.910337Z",
     "iopub.status.busy": "2020-12-11T15:56:31.909192Z",
     "iopub.status.idle": "2020-12-11T15:56:32.079147Z",
     "shell.execute_reply": "2020-12-11T15:56:32.078506Z"
    },
    "papermill": {
     "duration": 0.302947,
     "end_time": "2020-12-11T15:56:32.079274",
     "exception": false,
     "start_time": "2020-12-11T15:56:31.776327",
     "status": "completed"
    },
    "tags": []
   },
   "outputs": [
    {
     "name": "stdout",
     "output_type": "stream",
     "text": [
      "main source of energy used for cooking gas 3.212052042912577\n"
     ]
    },
    {
     "data": {
      "image/png": "[encoded data removed]",
      "text/plain": [
       "<Figure size 432x288 with 1 Axes>"
      ]
     },
     "metadata": {
      "needs_background": "light"
     },
     "output_type": "display_data"
    }
   ],
   "source": [
    "energcocinar3=df[df['energcocinar3']==1]\n",
    "print('main source of energy used for cooking gas',energcocinar3['Target'].mean())\n",
    "plt.hist(energcocinar3['Target'])\n",
    "plt.show()"
   ]
  },
  {
   "cell_type": "code",
   "execution_count": 65,
   "metadata": {
    "execution": {
     "iopub.execute_input": "2020-12-11T15:56:32.345156Z",
     "iopub.status.busy": "2020-12-11T15:56:32.340052Z",
     "iopub.status.idle": "2020-12-11T15:56:32.509667Z",
     "shell.execute_reply": "2020-12-11T15:56:32.509037Z"
    },
    "papermill": {
     "duration": 0.302522,
     "end_time": "2020-12-11T15:56:32.509786",
     "exception": false,
     "start_time": "2020-12-11T15:56:32.207264",
     "status": "completed"
    },
    "tags": []
   },
   "outputs": [
    {
     "name": "stdout",
     "output_type": "stream",
     "text": [
      "main source of energy used for cooking wood charcoal 2.5887265135699375\n"
     ]
    },
    {
     "data": {
      "image/png": "[encoded data removed]",
      "text/plain": [
       "<Figure size 432x288 with 1 Axes>"
      ]
     },
     "metadata": {
      "needs_background": "light"
     },
     "output_type": "display_data"
    }
   ],
   "source": [
    "energcocinar4=df[df['energcocinar4']==1]\n",
    "print('main source of energy used for cooking wood charcoal',energcocinar4['Target'].mean())\n",
    "plt.hist(energcocinar4['Target'])\n",
    "plt.show()"
   ]
  },
  {
   "cell_type": "markdown",
   "metadata": {
    "papermill": {
     "duration": 0.130489,
     "end_time": "2020-12-11T15:56:32.764764",
     "exception": false,
     "start_time": "2020-12-11T15:56:32.634275",
     "status": "completed"
    },
    "tags": []
   },
   "source": [
    "* epared1, =1 if walls are bad\n",
    "* epared2, =1 if walls are regular\n",
    "* epared3, =1 if walls are good"
   ]
  },
  {
   "cell_type": "code",
   "execution_count": 66,
   "metadata": {
    "execution": {
     "iopub.execute_input": "2020-12-11T15:56:33.047388Z",
     "iopub.status.busy": "2020-12-11T15:56:33.046427Z",
     "iopub.status.idle": "2020-12-11T15:56:33.085755Z",
     "shell.execute_reply": "2020-12-11T15:56:33.084992Z"
    },
    "papermill": {
     "duration": 0.19118,
     "end_time": "2020-12-11T15:56:33.085874",
     "exception": false,
     "start_time": "2020-12-11T15:56:32.894694",
     "status": "completed"
    },
    "tags": []
   },
   "outputs": [
    {
     "data": {
      "image/png": "[encoded data removed]",
      "text/plain": [
       "<Figure size 432x288 with 1 Axes>"
      ]
     },
     "metadata": {},
     "output_type": "display_data"
    }
   ],
   "source": [
    "pie=[df['epared1'].sum(),df['epared2'].sum(),df['epared3'].sum()]\n",
    "labels=['walls are bad','walls are regular','walls are good']\n",
    "plt.pie(pie,labels=labels)\n",
    "plt.show()"
   ]
  },
  {
   "cell_type": "code",
   "execution_count": 67,
   "metadata": {
    "execution": {
     "iopub.execute_input": "2020-12-11T15:56:33.356876Z",
     "iopub.status.busy": "2020-12-11T15:56:33.355840Z",
     "iopub.status.idle": "2020-12-11T15:56:33.359117Z",
     "shell.execute_reply": "2020-12-11T15:56:33.358463Z"
    },
    "papermill": {
     "duration": 0.142977,
     "end_time": "2020-12-11T15:56:33.359221",
     "exception": false,
     "start_time": "2020-12-11T15:56:33.216244",
     "status": "completed"
    },
    "tags": []
   },
   "outputs": [],
   "source": [
    "def plot_graph(columns):\n",
    "    fig,axis=plt.subplots(1,3,figsize=(15,5))\n",
    "    for column in range(len(columns)):\n",
    "        gdf=df[df[columns[column]]==1]\n",
    "        print(columns[column],\" \",gdf['Target'].mean())\n",
    "        axis[column].hist(gdf['Target'])\n",
    "    plt.show()"
   ]
  },
  {
   "cell_type": "code",
   "execution_count": 68,
   "metadata": {
    "execution": {
     "iopub.execute_input": "2020-12-11T15:56:33.634085Z",
     "iopub.status.busy": "2020-12-11T15:56:33.631032Z",
     "iopub.status.idle": "2020-12-11T15:56:34.136057Z",
     "shell.execute_reply": "2020-12-11T15:56:34.134949Z"
    },
    "papermill": {
     "duration": 0.645901,
     "end_time": "2020-12-11T15:56:34.136198",
     "exception": false,
     "start_time": "2020-12-11T15:56:33.490297",
     "status": "completed"
    },
    "tags": []
   },
   "outputs": [
    {
     "name": "stdout",
     "output_type": "stream",
     "text": [
      "epared1   2.695607763023493\n",
      "epared2   3.045701502077341\n",
      "epared3   3.5586346118553864\n"
     ]
    },
    {
     "data": {
      "image/png": "[encoded data removed]",
      "text/plain": [
       "<Figure size 1080x360 with 3 Axes>"
      ]
     },
     "metadata": {
      "needs_background": "light"
     },
     "output_type": "display_data"
    }
   ],
   "source": [
    "columns=['epared1','epared2','epared3']\n",
    "plot_graph(columns)"
   ]
  },
  {
   "cell_type": "markdown",
   "metadata": {
    "papermill": {
     "duration": 0.159807,
     "end_time": "2020-12-11T15:56:34.451504",
     "exception": false,
     "start_time": "2020-12-11T15:56:34.291697",
     "status": "completed"
    },
    "tags": []
   },
   "source": [
    "* etecho1, =1 if roof are bad\n",
    "* etecho2, =1 if roof are regular\n",
    "* etecho3, =1 if roof are good"
   ]
  },
  {
   "cell_type": "code",
   "execution_count": 69,
   "metadata": {
    "execution": {
     "iopub.execute_input": "2020-12-11T15:56:34.736599Z",
     "iopub.status.busy": "2020-12-11T15:56:34.734884Z",
     "iopub.status.idle": "2020-12-11T15:56:34.783220Z",
     "shell.execute_reply": "2020-12-11T15:56:34.782508Z"
    },
    "papermill": {
     "duration": 0.197825,
     "end_time": "2020-12-11T15:56:34.783339",
     "exception": false,
     "start_time": "2020-12-11T15:56:34.585514",
     "status": "completed"
    },
    "tags": []
   },
   "outputs": [
    {
     "data": {
      "image/png": "[encoded data removed]",
      "text/plain": [
       "<Figure size 432x288 with 1 Axes>"
      ]
     },
     "metadata": {},
     "output_type": "display_data"
    }
   ],
   "source": [
    "pie=[df['etecho1'].sum(),df['etecho2'].sum(),df['etecho3'].sum()]\n",
    "labels=['roof are bad','roof are regular','roof are good']\n",
    "plt.pie(pie,labels=labels)\n",
    "plt.show()"
   ]
  },
  {
   "cell_type": "code",
   "execution_count": 70,
   "metadata": {
    "execution": {
     "iopub.execute_input": "2020-12-11T15:56:35.070873Z",
     "iopub.status.busy": "2020-12-11T15:56:35.069875Z",
     "iopub.status.idle": "2020-12-11T15:56:35.549787Z",
     "shell.execute_reply": "2020-12-11T15:56:35.548982Z"
    },
    "papermill": {
     "duration": 0.626094,
     "end_time": "2020-12-11T15:56:35.549910",
     "exception": false,
     "start_time": "2020-12-11T15:56:34.923816",
     "status": "completed"
    },
    "tags": []
   },
   "outputs": [
    {
     "name": "stdout",
     "output_type": "stream",
     "text": [
      "etecho1   2.800325998370008\n",
      "etecho2   3.0813657827824192\n",
      "etecho3   3.521785906401291\n"
     ]
    },
    {
     "data": {
      "image/png": "[encoded data removed]",
      "text/plain": [
       "<Figure size 1080x360 with 3 Axes>"
      ]
     },
     "metadata": {
      "needs_background": "light"
     },
     "output_type": "display_data"
    }
   ],
   "source": [
    "columns=['etecho1','etecho2','etecho3']\n",
    "plot_graph(columns)"
   ]
  },
  {
   "cell_type": "code",
   "execution_count": 71,
   "metadata": {
    "execution": {
     "iopub.execute_input": "2020-12-11T15:56:35.865449Z",
     "iopub.status.busy": "2020-12-11T15:56:35.864775Z",
     "iopub.status.idle": "2020-12-11T15:56:35.867216Z",
     "shell.execute_reply": "2020-12-11T15:56:35.867894Z"
    },
    "papermill": {
     "duration": 0.165223,
     "end_time": "2020-12-11T15:56:35.868034",
     "exception": false,
     "start_time": "2020-12-11T15:56:35.702811",
     "status": "completed"
    },
    "tags": []
   },
   "outputs": [],
   "source": [
    "x_train=df.drop(['Id', 'idhogar', 'Target', 'edjefe', 'edjefa'], axis=1)\n",
    "y_train=df['Target']"
   ]
  },
  {
   "cell_type": "markdown",
   "metadata": {
    "papermill": {
     "duration": 0.134474,
     "end_time": "2020-12-11T15:56:36.138218",
     "exception": false,
     "start_time": "2020-12-11T15:56:36.003744",
     "status": "completed"
    },
    "tags": []
   },
   "source": [
    "* lugar1, =1 region Central\n",
    "* lugar2, =1 region Chorotega\n",
    "* lugar3, =1 region PacÃƒÂ­fico central\n",
    "* lugar4, =1 region Brunca\n",
    "* lugar5, =1 region Huetar AtlÃƒÂ¡ntica\n",
    "* lugar6, =1 region Huetar Norte\n",
    "* area1, =1 zona urbana\n",
    "* area2, =2 zona rural"
   ]
  },
  {
   "cell_type": "code",
   "execution_count": 72,
   "metadata": {
    "execution": {
     "iopub.execute_input": "2020-12-11T15:56:36.418336Z",
     "iopub.status.busy": "2020-12-11T15:56:36.417611Z",
     "iopub.status.idle": "2020-12-11T15:56:36.994722Z",
     "shell.execute_reply": "2020-12-11T15:56:36.993966Z"
    },
    "papermill": {
     "duration": 0.721986,
     "end_time": "2020-12-11T15:56:36.994851",
     "exception": false,
     "start_time": "2020-12-11T15:56:36.272865",
     "status": "completed"
    },
    "tags": []
   },
   "outputs": [
    {
     "name": "stdout",
     "output_type": "stream",
     "text": [
      "lugar1   3.448896011396011\n",
      "lugar2   3.2437923250564333\n",
      "lugar3   2.964765100671141\n"
     ]
    },
    {
     "data": {
      "image/png": "[encoded data removed]",
      "text/plain": [
       "<Figure size 1080x360 with 3 Axes>"
      ]
     },
     "metadata": {
      "needs_background": "light"
     },
     "output_type": "display_data"
    }
   ],
   "source": [
    "columns=['lugar1','lugar2','lugar3']\n",
    "plot_graph(columns)"
   ]
  },
  {
   "cell_type": "code",
   "execution_count": 73,
   "metadata": {
    "execution": {
     "iopub.execute_input": "2020-12-11T15:56:37.283734Z",
     "iopub.status.busy": "2020-12-11T15:56:37.282986Z",
     "iopub.status.idle": "2020-12-11T15:56:37.754052Z",
     "shell.execute_reply": "2020-12-11T15:56:37.753446Z"
    },
    "papermill": {
     "duration": 0.618853,
     "end_time": "2020-12-11T15:56:37.754162",
     "exception": false,
     "start_time": "2020-12-11T15:56:37.135309",
     "status": "completed"
    },
    "tags": []
   },
   "outputs": [
    {
     "name": "stdout",
     "output_type": "stream",
     "text": [
      "lugar4   3.0442477876106193\n",
      "lugar5   3.021181716833891\n",
      "lugar6   3.154345006485084\n"
     ]
    },
    {
     "data": {
      "image/png": "[encoded data removed]",
      "text/plain": [
       "<Figure size 1080x360 with 3 Axes>"
      ]
     },
     "metadata": {
      "needs_background": "light"
     },
     "output_type": "display_data"
    }
   ],
   "source": [
    "columns=['lugar4','lugar5','lugar6']\n",
    "plot_graph(columns)"
   ]
  },
  {
   "cell_type": "code",
   "execution_count": 74,
   "metadata": {
    "execution": {
     "iopub.execute_input": "2020-12-11T15:56:38.036849Z",
     "iopub.status.busy": "2020-12-11T15:56:38.036135Z",
     "iopub.status.idle": "2020-12-11T15:56:38.045229Z",
     "shell.execute_reply": "2020-12-11T15:56:38.044673Z"
    },
    "papermill": {
     "duration": 0.155472,
     "end_time": "2020-12-11T15:56:38.045334",
     "exception": false,
     "start_time": "2020-12-11T15:56:37.889862",
     "status": "completed"
    },
    "tags": []
   },
   "outputs": [],
   "source": [
    "from sklearn.model_selection import train_test_split\n",
    "xtrain, xtest, ytrain, ytest = train_test_split(x_train, y_train, test_size=0.33, random_state=42)"
   ]
  },
  {
   "cell_type": "code",
   "execution_count": 75,
   "metadata": {
    "execution": {
     "iopub.execute_input": "2020-12-11T15:56:38.329418Z",
     "iopub.status.busy": "2020-12-11T15:56:38.328791Z",
     "iopub.status.idle": "2020-12-11T15:56:50.428556Z",
     "shell.execute_reply": "2020-12-11T15:56:50.429094Z"
    },
    "papermill": {
     "duration": 12.247491,
     "end_time": "2020-12-11T15:56:50.429247",
     "exception": false,
     "start_time": "2020-12-11T15:56:38.181756",
     "status": "completed"
    },
    "tags": []
   },
   "outputs": [
    {
     "name": "stdout",
     "output_type": "stream",
     "text": [
      "0.7409638554216867\n"
     ]
    }
   ],
   "source": [
    "from sklearn.pipeline import make_pipeline\n",
    "from sklearn.preprocessing import StandardScaler\n",
    "from sklearn.svm import SVC\n",
    "from sklearn.metrics import accuracy_score\n",
    "clf = make_pipeline(StandardScaler(), SVC(gamma='auto'))\n",
    "clf.fit(xtrain,ytrain)\n",
    "ypred=clf.predict(xtest)\n",
    "print(accuracy_score(ytest,ypred))"
   ]
  },
  {
   "cell_type": "code",
   "execution_count": 76,
   "metadata": {
    "execution": {
     "iopub.execute_input": "2020-12-11T15:56:50.709126Z",
     "iopub.status.busy": "2020-12-11T15:56:50.708210Z",
     "iopub.status.idle": "2020-12-11T15:56:50.718609Z",
     "shell.execute_reply": "2020-12-11T15:56:50.718059Z"
    },
    "papermill": {
     "duration": 0.152935,
     "end_time": "2020-12-11T15:56:50.718723",
     "exception": false,
     "start_time": "2020-12-11T15:56:50.565788",
     "status": "completed"
    },
    "tags": []
   },
   "outputs": [
    {
     "name": "stdout",
     "output_type": "stream",
     "text": [
      "[[  85   43    8  128]\n",
      " [   1  253   17  253]\n",
      " [   5   35   89  293]\n",
      " [   1   29    4 1910]]\n"
     ]
    }
   ],
   "source": [
    "from sklearn.metrics import confusion_matrix\n",
    "print(confusion_matrix(ytest, ypred))"
   ]
  },
  {
   "cell_type": "code",
   "execution_count": 77,
   "metadata": {
    "execution": {
     "iopub.execute_input": "2020-12-11T15:56:51.003415Z",
     "iopub.status.busy": "2020-12-11T15:56:51.002415Z",
     "iopub.status.idle": "2020-12-11T15:56:51.016330Z",
     "shell.execute_reply": "2020-12-11T15:56:51.015094Z"
    },
    "papermill": {
     "duration": 0.15808,
     "end_time": "2020-12-11T15:56:51.016462",
     "exception": false,
     "start_time": "2020-12-11T15:56:50.858382",
     "status": "completed"
    },
    "tags": []
   },
   "outputs": [
    {
     "name": "stdout",
     "output_type": "stream",
     "text": [
      "              precision    recall  f1-score   support\n",
      "\n",
      "           1       0.92      0.32      0.48       264\n",
      "           2       0.70      0.48      0.57       524\n",
      "           3       0.75      0.21      0.33       422\n",
      "           4       0.74      0.98      0.84      1944\n",
      "\n",
      "    accuracy                           0.74      3154\n",
      "   macro avg       0.78      0.50      0.56      3154\n",
      "weighted avg       0.75      0.74      0.70      3154\n",
      "\n"
     ]
    }
   ],
   "source": [
    "from sklearn.metrics import classification_report\n",
    "print(classification_report(ytest, ypred))"
   ]
  },
  {
   "cell_type": "code",
   "execution_count": 78,
   "metadata": {
    "execution": {
     "iopub.execute_input": "2020-12-11T15:56:51.304765Z",
     "iopub.status.busy": "2020-12-11T15:56:51.304033Z",
     "iopub.status.idle": "2020-12-11T15:56:51.938384Z",
     "shell.execute_reply": "2020-12-11T15:56:51.937550Z"
    },
    "papermill": {
     "duration": 0.782794,
     "end_time": "2020-12-11T15:56:51.938580",
     "exception": false,
     "start_time": "2020-12-11T15:56:51.155786",
     "status": "completed"
    },
    "tags": []
   },
   "outputs": [
    {
     "name": "stdout",
     "output_type": "stream",
     "text": [
      "0.5859226379201015\n"
     ]
    }
   ],
   "source": [
    "from sklearn.neighbors import KNeighborsClassifier\n",
    "from sklearn.model_selection import GridSearchCV\n",
    "neigh = KNeighborsClassifier(n_neighbors=6)\n",
    "neigh.fit(xtrain, ytrain)\n",
    "ypred=neigh.predict(xtest)\n",
    "print(accuracy_score(ytest,ypred))"
   ]
  },
  {
   "cell_type": "code",
   "execution_count": 79,
   "metadata": {
    "execution": {
     "iopub.execute_input": "2020-12-11T15:56:52.233046Z",
     "iopub.status.busy": "2020-12-11T15:56:52.232216Z",
     "iopub.status.idle": "2020-12-11T15:58:13.928077Z",
     "shell.execute_reply": "2020-12-11T15:58:13.928650Z"
    },
    "papermill": {
     "duration": 81.843865,
     "end_time": "2020-12-11T15:58:13.928810",
     "exception": false,
     "start_time": "2020-12-11T15:56:52.084945",
     "status": "completed"
    },
    "tags": []
   },
   "outputs": [
    {
     "data": {
      "text/plain": [
       "GridSearchCV(cv=5, estimator=RandomForestClassifier(),\n",
       "             param_grid={'n_estimators': [40, 41, 42, 43, 44, 45, 46, 47, 48,\n",
       "                                          49, 50, 51, 52, 53, 54, 55, 56, 57,\n",
       "                                          58, 59, 60]})"
      ]
     },
     "execution_count": 79,
     "metadata": {},
     "output_type": "execute_result"
    }
   ],
   "source": [
    "from sklearn.ensemble import RandomForestClassifier\n",
    "from sklearn.model_selection import GridSearchCV\n",
    "clf = RandomForestClassifier()\n",
    "params={'n_estimators': list(range(40,61, 1))}\n",
    "rfs = GridSearchCV(clf, params, cv=5)\n",
    "rfs.fit(x_train, y_train)"
   ]
  },
  {
   "cell_type": "code",
   "execution_count": 80,
   "metadata": {
    "execution": {
     "iopub.execute_input": "2020-12-11T15:58:14.224807Z",
     "iopub.status.busy": "2020-12-11T15:58:14.224077Z",
     "iopub.status.idle": "2020-12-11T15:59:16.712045Z",
     "shell.execute_reply": "2020-12-11T15:59:16.712641Z"
    },
    "papermill": {
     "duration": 62.640344,
     "end_time": "2020-12-11T15:59:16.712807",
     "exception": false,
     "start_time": "2020-12-11T15:58:14.072463",
     "status": "completed"
    },
    "tags": []
   },
   "outputs": [
    {
     "data": {
      "text/plain": [
       "GridSearchCV(cv=5, estimator=RandomForestClassifier(),\n",
       "             param_grid={'n_estimators': [40, 41, 42, 43, 44, 45, 46, 47, 48,\n",
       "                                          49, 50, 51, 52, 53, 54, 55, 56, 57,\n",
       "                                          58, 59, 60]})"
      ]
     },
     "execution_count": 80,
     "metadata": {},
     "output_type": "execute_result"
    }
   ],
   "source": [
    "from sklearn.ensemble import RandomForestClassifier\n",
    "from sklearn.model_selection import GridSearchCV\n",
    "clf = RandomForestClassifier()\n",
    "params={'n_estimators': list(range(40,61, 1))}\n",
    "gs = GridSearchCV(clf, params, cv=5)\n",
    "gs.fit(xtrain, ytrain)"
   ]
  },
  {
   "cell_type": "code",
   "execution_count": 81,
   "metadata": {
    "execution": {
     "iopub.execute_input": "2020-12-11T15:59:17.009194Z",
     "iopub.status.busy": "2020-12-11T15:59:17.008390Z",
     "iopub.status.idle": "2020-12-11T15:59:17.049755Z",
     "shell.execute_reply": "2020-12-11T15:59:17.049030Z"
    },
    "papermill": {
     "duration": 0.193981,
     "end_time": "2020-12-11T15:59:17.049887",
     "exception": false,
     "start_time": "2020-12-11T15:59:16.855906",
     "status": "completed"
    },
    "tags": []
   },
   "outputs": [
    {
     "data": {
      "text/plain": [
       "0.8896639188332276"
      ]
     },
     "execution_count": 81,
     "metadata": {},
     "output_type": "execute_result"
    }
   ],
   "source": [
    "ypred=gs.predict(xtest)\n",
    "accuracy_score(ytest,ypred)"
   ]
  },
  {
   "cell_type": "code",
   "execution_count": 82,
   "metadata": {
    "execution": {
     "iopub.execute_input": "2020-12-11T15:59:17.349932Z",
     "iopub.status.busy": "2020-12-11T15:59:17.349229Z",
     "iopub.status.idle": "2020-12-11T15:59:17.359951Z",
     "shell.execute_reply": "2020-12-11T15:59:17.359364Z"
    },
    "papermill": {
     "duration": 0.161972,
     "end_time": "2020-12-11T15:59:17.360097",
     "exception": false,
     "start_time": "2020-12-11T15:59:17.198125",
     "status": "completed"
    },
    "tags": []
   },
   "outputs": [
    {
     "name": "stdout",
     "output_type": "stream",
     "text": [
      "[[ 196   17    3   48]\n",
      " [   8  408   15   93]\n",
      " [   0   18  282  122]\n",
      " [   1   16    7 1920]]\n"
     ]
    }
   ],
   "source": [
    "print(confusion_matrix(ytest, ypred))"
   ]
  },
  {
   "cell_type": "code",
   "execution_count": 83,
   "metadata": {
    "execution": {
     "iopub.execute_input": "2020-12-11T15:59:17.651894Z",
     "iopub.status.busy": "2020-12-11T15:59:17.650871Z",
     "iopub.status.idle": "2020-12-11T15:59:17.664501Z",
     "shell.execute_reply": "2020-12-11T15:59:17.665034Z"
    },
    "papermill": {
     "duration": 0.16293,
     "end_time": "2020-12-11T15:59:17.665176",
     "exception": false,
     "start_time": "2020-12-11T15:59:17.502246",
     "status": "completed"
    },
    "tags": []
   },
   "outputs": [
    {
     "name": "stdout",
     "output_type": "stream",
     "text": [
      "              precision    recall  f1-score   support\n",
      "\n",
      "           1       0.96      0.74      0.84       264\n",
      "           2       0.89      0.78      0.83       524\n",
      "           3       0.92      0.67      0.77       422\n",
      "           4       0.88      0.99      0.93      1944\n",
      "\n",
      "    accuracy                           0.89      3154\n",
      "   macro avg       0.91      0.79      0.84      3154\n",
      "weighted avg       0.89      0.89      0.88      3154\n",
      "\n"
     ]
    }
   ],
   "source": [
    "print(classification_report(ytest, ypred))"
   ]
  },
  {
   "cell_type": "code",
   "execution_count": 84,
   "metadata": {
    "execution": {
     "iopub.execute_input": "2020-12-11T15:59:17.961283Z",
     "iopub.status.busy": "2020-12-11T15:59:17.960562Z",
     "iopub.status.idle": "2020-12-11T15:59:18.317324Z",
     "shell.execute_reply": "2020-12-11T15:59:18.317905Z"
    },
    "papermill": {
     "duration": 0.508415,
     "end_time": "2020-12-11T15:59:18.318053",
     "exception": false,
     "start_time": "2020-12-11T15:59:17.809638",
     "status": "completed"
    },
    "tags": []
   },
   "outputs": [
    {
     "data": {
      "text/html": [
       "<div>\n",
       "<style scoped>\n",
       "    .dataframe tbody tr th:only-of-type {\n",
       "        vertical-align: middle;\n",
       "    }\n",
       "\n",
       "    .dataframe tbody tr th {\n",
       "        vertical-align: top;\n",
       "    }\n",
       "\n",
       "    .dataframe thead th {\n",
       "        text-align: right;\n",
       "    }\n",
       "</style>\n",
       "<table border=\"1\" class=\"dataframe\">\n",
       "  <thead>\n",
       "    <tr style=\"text-align: right;\">\n",
       "      <th></th>\n",
       "      <th>Id</th>\n",
       "      <th>v2a1</th>\n",
       "      <th>hacdor</th>\n",
       "      <th>rooms</th>\n",
       "      <th>hacapo</th>\n",
       "      <th>v14a</th>\n",
       "      <th>refrig</th>\n",
       "      <th>v18q</th>\n",
       "      <th>v18q1</th>\n",
       "      <th>r4h1</th>\n",
       "      <th>r4h2</th>\n",
       "      <th>r4h3</th>\n",
       "      <th>r4m1</th>\n",
       "      <th>r4m2</th>\n",
       "      <th>r4m3</th>\n",
       "      <th>r4t1</th>\n",
       "      <th>r4t2</th>\n",
       "      <th>r4t3</th>\n",
       "      <th>tamhog</th>\n",
       "      <th>tamviv</th>\n",
       "      <th>escolari</th>\n",
       "      <th>rez_esc</th>\n",
       "      <th>hhsize</th>\n",
       "      <th>paredblolad</th>\n",
       "      <th>paredzocalo</th>\n",
       "      <th>paredpreb</th>\n",
       "      <th>pareddes</th>\n",
       "      <th>paredmad</th>\n",
       "      <th>paredzinc</th>\n",
       "      <th>paredfibras</th>\n",
       "      <th>paredother</th>\n",
       "      <th>pisomoscer</th>\n",
       "      <th>pisocemento</th>\n",
       "      <th>pisoother</th>\n",
       "      <th>pisonatur</th>\n",
       "      <th>pisonotiene</th>\n",
       "      <th>pisomadera</th>\n",
       "      <th>techozinc</th>\n",
       "      <th>techoentrepiso</th>\n",
       "      <th>techocane</th>\n",
       "      <th>techootro</th>\n",
       "      <th>cielorazo</th>\n",
       "      <th>abastaguadentro</th>\n",
       "      <th>abastaguafuera</th>\n",
       "      <th>abastaguano</th>\n",
       "      <th>public</th>\n",
       "      <th>planpri</th>\n",
       "      <th>noelec</th>\n",
       "      <th>coopele</th>\n",
       "      <th>sanitario1</th>\n",
       "      <th>sanitario2</th>\n",
       "      <th>sanitario3</th>\n",
       "      <th>sanitario5</th>\n",
       "      <th>sanitario6</th>\n",
       "      <th>energcocinar1</th>\n",
       "      <th>energcocinar2</th>\n",
       "      <th>energcocinar3</th>\n",
       "      <th>energcocinar4</th>\n",
       "      <th>elimbasu1</th>\n",
       "      <th>elimbasu2</th>\n",
       "      <th>elimbasu3</th>\n",
       "      <th>elimbasu4</th>\n",
       "      <th>elimbasu5</th>\n",
       "      <th>elimbasu6</th>\n",
       "      <th>epared1</th>\n",
       "      <th>epared2</th>\n",
       "      <th>epared3</th>\n",
       "      <th>etecho1</th>\n",
       "      <th>etecho2</th>\n",
       "      <th>etecho3</th>\n",
       "      <th>eviv1</th>\n",
       "      <th>eviv2</th>\n",
       "      <th>eviv3</th>\n",
       "      <th>dis</th>\n",
       "      <th>male</th>\n",
       "      <th>female</th>\n",
       "      <th>estadocivil1</th>\n",
       "      <th>estadocivil2</th>\n",
       "      <th>estadocivil3</th>\n",
       "      <th>estadocivil4</th>\n",
       "      <th>estadocivil5</th>\n",
       "      <th>estadocivil6</th>\n",
       "      <th>estadocivil7</th>\n",
       "      <th>parentesco1</th>\n",
       "      <th>parentesco2</th>\n",
       "      <th>parentesco3</th>\n",
       "      <th>parentesco4</th>\n",
       "      <th>parentesco5</th>\n",
       "      <th>parentesco6</th>\n",
       "      <th>parentesco7</th>\n",
       "      <th>parentesco8</th>\n",
       "      <th>parentesco9</th>\n",
       "      <th>parentesco10</th>\n",
       "      <th>parentesco11</th>\n",
       "      <th>parentesco12</th>\n",
       "      <th>idhogar</th>\n",
       "      <th>hogar_nin</th>\n",
       "      <th>hogar_adul</th>\n",
       "      <th>hogar_mayor</th>\n",
       "      <th>hogar_total</th>\n",
       "      <th>dependency</th>\n",
       "      <th>edjefe</th>\n",
       "      <th>edjefa</th>\n",
       "      <th>meaneduc</th>\n",
       "      <th>instlevel1</th>\n",
       "      <th>instlevel2</th>\n",
       "      <th>instlevel3</th>\n",
       "      <th>instlevel4</th>\n",
       "      <th>instlevel5</th>\n",
       "      <th>instlevel6</th>\n",
       "      <th>instlevel7</th>\n",
       "      <th>instlevel8</th>\n",
       "      <th>instlevel9</th>\n",
       "      <th>bedrooms</th>\n",
       "      <th>overcrowding</th>\n",
       "      <th>tipovivi1</th>\n",
       "      <th>tipovivi2</th>\n",
       "      <th>tipovivi3</th>\n",
       "      <th>tipovivi4</th>\n",
       "      <th>tipovivi5</th>\n",
       "      <th>computer</th>\n",
       "      <th>television</th>\n",
       "      <th>mobilephone</th>\n",
       "      <th>qmobilephone</th>\n",
       "      <th>lugar1</th>\n",
       "      <th>lugar2</th>\n",
       "      <th>lugar3</th>\n",
       "      <th>lugar4</th>\n",
       "      <th>lugar5</th>\n",
       "      <th>lugar6</th>\n",
       "      <th>area1</th>\n",
       "      <th>area2</th>\n",
       "      <th>age</th>\n",
       "      <th>SQBescolari</th>\n",
       "      <th>SQBage</th>\n",
       "      <th>SQBhogar_total</th>\n",
       "      <th>SQBedjefe</th>\n",
       "      <th>SQBhogar_nin</th>\n",
       "      <th>SQBovercrowding</th>\n",
       "      <th>SQBdependency</th>\n",
       "      <th>SQBmeaned</th>\n",
       "      <th>agesq</th>\n",
       "    </tr>\n",
       "  </thead>\n",
       "  <tbody>\n",
       "    <tr>\n",
       "      <th>0</th>\n",
       "      <td>ID_2f6873615</td>\n",
       "      <td>NaN</td>\n",
       "      <td>0</td>\n",
       "      <td>5</td>\n",
       "      <td>0</td>\n",
       "      <td>1</td>\n",
       "      <td>1</td>\n",
       "      <td>0</td>\n",
       "      <td>NaN</td>\n",
       "      <td>1</td>\n",
       "      <td>1</td>\n",
       "      <td>2</td>\n",
       "      <td>0</td>\n",
       "      <td>1</td>\n",
       "      <td>1</td>\n",
       "      <td>1</td>\n",
       "      <td>2</td>\n",
       "      <td>3</td>\n",
       "      <td>3</td>\n",
       "      <td>3</td>\n",
       "      <td>0</td>\n",
       "      <td>NaN</td>\n",
       "      <td>3</td>\n",
       "      <td>1</td>\n",
       "      <td>0</td>\n",
       "      <td>0</td>\n",
       "      <td>0</td>\n",
       "      <td>0</td>\n",
       "      <td>0</td>\n",
       "      <td>0</td>\n",
       "      <td>0</td>\n",
       "      <td>1</td>\n",
       "      <td>0</td>\n",
       "      <td>0</td>\n",
       "      <td>0</td>\n",
       "      <td>0</td>\n",
       "      <td>0</td>\n",
       "      <td>1</td>\n",
       "      <td>0</td>\n",
       "      <td>0</td>\n",
       "      <td>0</td>\n",
       "      <td>1</td>\n",
       "      <td>1</td>\n",
       "      <td>0</td>\n",
       "      <td>0</td>\n",
       "      <td>1</td>\n",
       "      <td>0</td>\n",
       "      <td>0</td>\n",
       "      <td>0</td>\n",
       "      <td>0</td>\n",
       "      <td>1</td>\n",
       "      <td>0</td>\n",
       "      <td>0</td>\n",
       "      <td>0</td>\n",
       "      <td>0</td>\n",
       "      <td>0</td>\n",
       "      <td>1</td>\n",
       "      <td>0</td>\n",
       "      <td>1</td>\n",
       "      <td>0</td>\n",
       "      <td>0</td>\n",
       "      <td>0</td>\n",
       "      <td>0</td>\n",
       "      <td>0</td>\n",
       "      <td>0</td>\n",
       "      <td>0</td>\n",
       "      <td>1</td>\n",
       "      <td>0</td>\n",
       "      <td>0</td>\n",
       "      <td>1</td>\n",
       "      <td>0</td>\n",
       "      <td>0</td>\n",
       "      <td>1</td>\n",
       "      <td>0</td>\n",
       "      <td>1</td>\n",
       "      <td>0</td>\n",
       "      <td>1</td>\n",
       "      <td>0</td>\n",
       "      <td>0</td>\n",
       "      <td>0</td>\n",
       "      <td>0</td>\n",
       "      <td>0</td>\n",
       "      <td>0</td>\n",
       "      <td>0</td>\n",
       "      <td>0</td>\n",
       "      <td>1</td>\n",
       "      <td>0</td>\n",
       "      <td>0</td>\n",
       "      <td>0</td>\n",
       "      <td>0</td>\n",
       "      <td>0</td>\n",
       "      <td>0</td>\n",
       "      <td>0</td>\n",
       "      <td>0</td>\n",
       "      <td>0</td>\n",
       "      <td>72958b30c</td>\n",
       "      <td>1</td>\n",
       "      <td>2</td>\n",
       "      <td>0</td>\n",
       "      <td>3</td>\n",
       "      <td>.5</td>\n",
       "      <td>no</td>\n",
       "      <td>17</td>\n",
       "      <td>16.5</td>\n",
       "      <td>1</td>\n",
       "      <td>0</td>\n",
       "      <td>0</td>\n",
       "      <td>0</td>\n",
       "      <td>0</td>\n",
       "      <td>0</td>\n",
       "      <td>0</td>\n",
       "      <td>0</td>\n",
       "      <td>0</td>\n",
       "      <td>2</td>\n",
       "      <td>1.5</td>\n",
       "      <td>1</td>\n",
       "      <td>0</td>\n",
       "      <td>0</td>\n",
       "      <td>0</td>\n",
       "      <td>0</td>\n",
       "      <td>1</td>\n",
       "      <td>0</td>\n",
       "      <td>1</td>\n",
       "      <td>2</td>\n",
       "      <td>1</td>\n",
       "      <td>0</td>\n",
       "      <td>0</td>\n",
       "      <td>0</td>\n",
       "      <td>0</td>\n",
       "      <td>0</td>\n",
       "      <td>1</td>\n",
       "      <td>0</td>\n",
       "      <td>4</td>\n",
       "      <td>0</td>\n",
       "      <td>16</td>\n",
       "      <td>9</td>\n",
       "      <td>0</td>\n",
       "      <td>1</td>\n",
       "      <td>2.25</td>\n",
       "      <td>0.25</td>\n",
       "      <td>272.25</td>\n",
       "      <td>16</td>\n",
       "    </tr>\n",
       "    <tr>\n",
       "      <th>1</th>\n",
       "      <td>ID_1c78846d2</td>\n",
       "      <td>NaN</td>\n",
       "      <td>0</td>\n",
       "      <td>5</td>\n",
       "      <td>0</td>\n",
       "      <td>1</td>\n",
       "      <td>1</td>\n",
       "      <td>0</td>\n",
       "      <td>NaN</td>\n",
       "      <td>1</td>\n",
       "      <td>1</td>\n",
       "      <td>2</td>\n",
       "      <td>0</td>\n",
       "      <td>1</td>\n",
       "      <td>1</td>\n",
       "      <td>1</td>\n",
       "      <td>2</td>\n",
       "      <td>3</td>\n",
       "      <td>3</td>\n",
       "      <td>3</td>\n",
       "      <td>16</td>\n",
       "      <td>NaN</td>\n",
       "      <td>3</td>\n",
       "      <td>1</td>\n",
       "      <td>0</td>\n",
       "      <td>0</td>\n",
       "      <td>0</td>\n",
       "      <td>0</td>\n",
       "      <td>0</td>\n",
       "      <td>0</td>\n",
       "      <td>0</td>\n",
       "      <td>1</td>\n",
       "      <td>0</td>\n",
       "      <td>0</td>\n",
       "      <td>0</td>\n",
       "      <td>0</td>\n",
       "      <td>0</td>\n",
       "      <td>1</td>\n",
       "      <td>0</td>\n",
       "      <td>0</td>\n",
       "      <td>0</td>\n",
       "      <td>1</td>\n",
       "      <td>1</td>\n",
       "      <td>0</td>\n",
       "      <td>0</td>\n",
       "      <td>1</td>\n",
       "      <td>0</td>\n",
       "      <td>0</td>\n",
       "      <td>0</td>\n",
       "      <td>0</td>\n",
       "      <td>1</td>\n",
       "      <td>0</td>\n",
       "      <td>0</td>\n",
       "      <td>0</td>\n",
       "      <td>0</td>\n",
       "      <td>0</td>\n",
       "      <td>1</td>\n",
       "      <td>0</td>\n",
       "      <td>1</td>\n",
       "      <td>0</td>\n",
       "      <td>0</td>\n",
       "      <td>0</td>\n",
       "      <td>0</td>\n",
       "      <td>0</td>\n",
       "      <td>0</td>\n",
       "      <td>0</td>\n",
       "      <td>1</td>\n",
       "      <td>0</td>\n",
       "      <td>0</td>\n",
       "      <td>1</td>\n",
       "      <td>0</td>\n",
       "      <td>0</td>\n",
       "      <td>1</td>\n",
       "      <td>0</td>\n",
       "      <td>1</td>\n",
       "      <td>0</td>\n",
       "      <td>0</td>\n",
       "      <td>0</td>\n",
       "      <td>1</td>\n",
       "      <td>0</td>\n",
       "      <td>0</td>\n",
       "      <td>0</td>\n",
       "      <td>0</td>\n",
       "      <td>0</td>\n",
       "      <td>1</td>\n",
       "      <td>0</td>\n",
       "      <td>0</td>\n",
       "      <td>0</td>\n",
       "      <td>0</td>\n",
       "      <td>0</td>\n",
       "      <td>0</td>\n",
       "      <td>0</td>\n",
       "      <td>0</td>\n",
       "      <td>0</td>\n",
       "      <td>0</td>\n",
       "      <td>72958b30c</td>\n",
       "      <td>1</td>\n",
       "      <td>2</td>\n",
       "      <td>0</td>\n",
       "      <td>3</td>\n",
       "      <td>.5</td>\n",
       "      <td>no</td>\n",
       "      <td>17</td>\n",
       "      <td>16.5</td>\n",
       "      <td>0</td>\n",
       "      <td>0</td>\n",
       "      <td>0</td>\n",
       "      <td>0</td>\n",
       "      <td>0</td>\n",
       "      <td>0</td>\n",
       "      <td>0</td>\n",
       "      <td>1</td>\n",
       "      <td>0</td>\n",
       "      <td>2</td>\n",
       "      <td>1.5</td>\n",
       "      <td>1</td>\n",
       "      <td>0</td>\n",
       "      <td>0</td>\n",
       "      <td>0</td>\n",
       "      <td>0</td>\n",
       "      <td>1</td>\n",
       "      <td>0</td>\n",
       "      <td>1</td>\n",
       "      <td>2</td>\n",
       "      <td>1</td>\n",
       "      <td>0</td>\n",
       "      <td>0</td>\n",
       "      <td>0</td>\n",
       "      <td>0</td>\n",
       "      <td>0</td>\n",
       "      <td>1</td>\n",
       "      <td>0</td>\n",
       "      <td>41</td>\n",
       "      <td>256</td>\n",
       "      <td>1681</td>\n",
       "      <td>9</td>\n",
       "      <td>0</td>\n",
       "      <td>1</td>\n",
       "      <td>2.25</td>\n",
       "      <td>0.25</td>\n",
       "      <td>272.25</td>\n",
       "      <td>1681</td>\n",
       "    </tr>\n",
       "    <tr>\n",
       "      <th>2</th>\n",
       "      <td>ID_e5442cf6a</td>\n",
       "      <td>NaN</td>\n",
       "      <td>0</td>\n",
       "      <td>5</td>\n",
       "      <td>0</td>\n",
       "      <td>1</td>\n",
       "      <td>1</td>\n",
       "      <td>0</td>\n",
       "      <td>NaN</td>\n",
       "      <td>1</td>\n",
       "      <td>1</td>\n",
       "      <td>2</td>\n",
       "      <td>0</td>\n",
       "      <td>1</td>\n",
       "      <td>1</td>\n",
       "      <td>1</td>\n",
       "      <td>2</td>\n",
       "      <td>3</td>\n",
       "      <td>3</td>\n",
       "      <td>3</td>\n",
       "      <td>17</td>\n",
       "      <td>NaN</td>\n",
       "      <td>3</td>\n",
       "      <td>1</td>\n",
       "      <td>0</td>\n",
       "      <td>0</td>\n",
       "      <td>0</td>\n",
       "      <td>0</td>\n",
       "      <td>0</td>\n",
       "      <td>0</td>\n",
       "      <td>0</td>\n",
       "      <td>1</td>\n",
       "      <td>0</td>\n",
       "      <td>0</td>\n",
       "      <td>0</td>\n",
       "      <td>0</td>\n",
       "      <td>0</td>\n",
       "      <td>1</td>\n",
       "      <td>0</td>\n",
       "      <td>0</td>\n",
       "      <td>0</td>\n",
       "      <td>1</td>\n",
       "      <td>1</td>\n",
       "      <td>0</td>\n",
       "      <td>0</td>\n",
       "      <td>1</td>\n",
       "      <td>0</td>\n",
       "      <td>0</td>\n",
       "      <td>0</td>\n",
       "      <td>0</td>\n",
       "      <td>1</td>\n",
       "      <td>0</td>\n",
       "      <td>0</td>\n",
       "      <td>0</td>\n",
       "      <td>0</td>\n",
       "      <td>0</td>\n",
       "      <td>1</td>\n",
       "      <td>0</td>\n",
       "      <td>1</td>\n",
       "      <td>0</td>\n",
       "      <td>0</td>\n",
       "      <td>0</td>\n",
       "      <td>0</td>\n",
       "      <td>0</td>\n",
       "      <td>0</td>\n",
       "      <td>0</td>\n",
       "      <td>1</td>\n",
       "      <td>0</td>\n",
       "      <td>0</td>\n",
       "      <td>1</td>\n",
       "      <td>0</td>\n",
       "      <td>0</td>\n",
       "      <td>1</td>\n",
       "      <td>0</td>\n",
       "      <td>0</td>\n",
       "      <td>1</td>\n",
       "      <td>0</td>\n",
       "      <td>0</td>\n",
       "      <td>1</td>\n",
       "      <td>0</td>\n",
       "      <td>0</td>\n",
       "      <td>0</td>\n",
       "      <td>0</td>\n",
       "      <td>1</td>\n",
       "      <td>0</td>\n",
       "      <td>0</td>\n",
       "      <td>0</td>\n",
       "      <td>0</td>\n",
       "      <td>0</td>\n",
       "      <td>0</td>\n",
       "      <td>0</td>\n",
       "      <td>0</td>\n",
       "      <td>0</td>\n",
       "      <td>0</td>\n",
       "      <td>0</td>\n",
       "      <td>72958b30c</td>\n",
       "      <td>1</td>\n",
       "      <td>2</td>\n",
       "      <td>0</td>\n",
       "      <td>3</td>\n",
       "      <td>.5</td>\n",
       "      <td>no</td>\n",
       "      <td>17</td>\n",
       "      <td>16.5</td>\n",
       "      <td>0</td>\n",
       "      <td>0</td>\n",
       "      <td>0</td>\n",
       "      <td>0</td>\n",
       "      <td>0</td>\n",
       "      <td>0</td>\n",
       "      <td>0</td>\n",
       "      <td>0</td>\n",
       "      <td>1</td>\n",
       "      <td>2</td>\n",
       "      <td>1.5</td>\n",
       "      <td>1</td>\n",
       "      <td>0</td>\n",
       "      <td>0</td>\n",
       "      <td>0</td>\n",
       "      <td>0</td>\n",
       "      <td>1</td>\n",
       "      <td>0</td>\n",
       "      <td>1</td>\n",
       "      <td>2</td>\n",
       "      <td>1</td>\n",
       "      <td>0</td>\n",
       "      <td>0</td>\n",
       "      <td>0</td>\n",
       "      <td>0</td>\n",
       "      <td>0</td>\n",
       "      <td>1</td>\n",
       "      <td>0</td>\n",
       "      <td>41</td>\n",
       "      <td>289</td>\n",
       "      <td>1681</td>\n",
       "      <td>9</td>\n",
       "      <td>0</td>\n",
       "      <td>1</td>\n",
       "      <td>2.25</td>\n",
       "      <td>0.25</td>\n",
       "      <td>272.25</td>\n",
       "      <td>1681</td>\n",
       "    </tr>\n",
       "    <tr>\n",
       "      <th>3</th>\n",
       "      <td>ID_a8db26a79</td>\n",
       "      <td>NaN</td>\n",
       "      <td>0</td>\n",
       "      <td>14</td>\n",
       "      <td>0</td>\n",
       "      <td>1</td>\n",
       "      <td>1</td>\n",
       "      <td>1</td>\n",
       "      <td>1.0</td>\n",
       "      <td>0</td>\n",
       "      <td>1</td>\n",
       "      <td>1</td>\n",
       "      <td>0</td>\n",
       "      <td>0</td>\n",
       "      <td>0</td>\n",
       "      <td>0</td>\n",
       "      <td>1</td>\n",
       "      <td>1</td>\n",
       "      <td>1</td>\n",
       "      <td>1</td>\n",
       "      <td>16</td>\n",
       "      <td>NaN</td>\n",
       "      <td>1</td>\n",
       "      <td>1</td>\n",
       "      <td>0</td>\n",
       "      <td>0</td>\n",
       "      <td>0</td>\n",
       "      <td>0</td>\n",
       "      <td>0</td>\n",
       "      <td>0</td>\n",
       "      <td>0</td>\n",
       "      <td>1</td>\n",
       "      <td>0</td>\n",
       "      <td>0</td>\n",
       "      <td>0</td>\n",
       "      <td>0</td>\n",
       "      <td>0</td>\n",
       "      <td>1</td>\n",
       "      <td>0</td>\n",
       "      <td>0</td>\n",
       "      <td>0</td>\n",
       "      <td>1</td>\n",
       "      <td>1</td>\n",
       "      <td>0</td>\n",
       "      <td>0</td>\n",
       "      <td>1</td>\n",
       "      <td>0</td>\n",
       "      <td>0</td>\n",
       "      <td>0</td>\n",
       "      <td>0</td>\n",
       "      <td>1</td>\n",
       "      <td>0</td>\n",
       "      <td>0</td>\n",
       "      <td>0</td>\n",
       "      <td>0</td>\n",
       "      <td>1</td>\n",
       "      <td>0</td>\n",
       "      <td>0</td>\n",
       "      <td>1</td>\n",
       "      <td>0</td>\n",
       "      <td>0</td>\n",
       "      <td>0</td>\n",
       "      <td>0</td>\n",
       "      <td>0</td>\n",
       "      <td>0</td>\n",
       "      <td>0</td>\n",
       "      <td>1</td>\n",
       "      <td>0</td>\n",
       "      <td>0</td>\n",
       "      <td>1</td>\n",
       "      <td>0</td>\n",
       "      <td>0</td>\n",
       "      <td>1</td>\n",
       "      <td>0</td>\n",
       "      <td>1</td>\n",
       "      <td>0</td>\n",
       "      <td>0</td>\n",
       "      <td>0</td>\n",
       "      <td>0</td>\n",
       "      <td>0</td>\n",
       "      <td>1</td>\n",
       "      <td>0</td>\n",
       "      <td>0</td>\n",
       "      <td>1</td>\n",
       "      <td>0</td>\n",
       "      <td>0</td>\n",
       "      <td>0</td>\n",
       "      <td>0</td>\n",
       "      <td>0</td>\n",
       "      <td>0</td>\n",
       "      <td>0</td>\n",
       "      <td>0</td>\n",
       "      <td>0</td>\n",
       "      <td>0</td>\n",
       "      <td>0</td>\n",
       "      <td>5b598fbc9</td>\n",
       "      <td>0</td>\n",
       "      <td>1</td>\n",
       "      <td>0</td>\n",
       "      <td>1</td>\n",
       "      <td>no</td>\n",
       "      <td>16</td>\n",
       "      <td>no</td>\n",
       "      <td>16.0</td>\n",
       "      <td>0</td>\n",
       "      <td>0</td>\n",
       "      <td>0</td>\n",
       "      <td>0</td>\n",
       "      <td>0</td>\n",
       "      <td>0</td>\n",
       "      <td>0</td>\n",
       "      <td>1</td>\n",
       "      <td>0</td>\n",
       "      <td>1</td>\n",
       "      <td>1.0</td>\n",
       "      <td>1</td>\n",
       "      <td>0</td>\n",
       "      <td>0</td>\n",
       "      <td>0</td>\n",
       "      <td>0</td>\n",
       "      <td>1</td>\n",
       "      <td>0</td>\n",
       "      <td>1</td>\n",
       "      <td>2</td>\n",
       "      <td>1</td>\n",
       "      <td>0</td>\n",
       "      <td>0</td>\n",
       "      <td>0</td>\n",
       "      <td>0</td>\n",
       "      <td>0</td>\n",
       "      <td>1</td>\n",
       "      <td>0</td>\n",
       "      <td>59</td>\n",
       "      <td>256</td>\n",
       "      <td>3481</td>\n",
       "      <td>1</td>\n",
       "      <td>256</td>\n",
       "      <td>0</td>\n",
       "      <td>1.00</td>\n",
       "      <td>0.00</td>\n",
       "      <td>256.00</td>\n",
       "      <td>3481</td>\n",
       "    </tr>\n",
       "    <tr>\n",
       "      <th>4</th>\n",
       "      <td>ID_a62966799</td>\n",
       "      <td>175000.0</td>\n",
       "      <td>0</td>\n",
       "      <td>4</td>\n",
       "      <td>0</td>\n",
       "      <td>1</td>\n",
       "      <td>1</td>\n",
       "      <td>1</td>\n",
       "      <td>1.0</td>\n",
       "      <td>0</td>\n",
       "      <td>0</td>\n",
       "      <td>0</td>\n",
       "      <td>0</td>\n",
       "      <td>1</td>\n",
       "      <td>1</td>\n",
       "      <td>0</td>\n",
       "      <td>1</td>\n",
       "      <td>1</td>\n",
       "      <td>1</td>\n",
       "      <td>1</td>\n",
       "      <td>11</td>\n",
       "      <td>NaN</td>\n",
       "      <td>1</td>\n",
       "      <td>1</td>\n",
       "      <td>0</td>\n",
       "      <td>0</td>\n",
       "      <td>0</td>\n",
       "      <td>0</td>\n",
       "      <td>0</td>\n",
       "      <td>0</td>\n",
       "      <td>0</td>\n",
       "      <td>1</td>\n",
       "      <td>0</td>\n",
       "      <td>0</td>\n",
       "      <td>0</td>\n",
       "      <td>0</td>\n",
       "      <td>0</td>\n",
       "      <td>1</td>\n",
       "      <td>0</td>\n",
       "      <td>0</td>\n",
       "      <td>0</td>\n",
       "      <td>1</td>\n",
       "      <td>1</td>\n",
       "      <td>0</td>\n",
       "      <td>0</td>\n",
       "      <td>1</td>\n",
       "      <td>0</td>\n",
       "      <td>0</td>\n",
       "      <td>0</td>\n",
       "      <td>0</td>\n",
       "      <td>1</td>\n",
       "      <td>0</td>\n",
       "      <td>0</td>\n",
       "      <td>0</td>\n",
       "      <td>0</td>\n",
       "      <td>1</td>\n",
       "      <td>0</td>\n",
       "      <td>0</td>\n",
       "      <td>1</td>\n",
       "      <td>0</td>\n",
       "      <td>0</td>\n",
       "      <td>0</td>\n",
       "      <td>0</td>\n",
       "      <td>0</td>\n",
       "      <td>0</td>\n",
       "      <td>1</td>\n",
       "      <td>0</td>\n",
       "      <td>0</td>\n",
       "      <td>0</td>\n",
       "      <td>1</td>\n",
       "      <td>0</td>\n",
       "      <td>0</td>\n",
       "      <td>1</td>\n",
       "      <td>0</td>\n",
       "      <td>0</td>\n",
       "      <td>1</td>\n",
       "      <td>0</td>\n",
       "      <td>0</td>\n",
       "      <td>0</td>\n",
       "      <td>0</td>\n",
       "      <td>0</td>\n",
       "      <td>0</td>\n",
       "      <td>1</td>\n",
       "      <td>1</td>\n",
       "      <td>0</td>\n",
       "      <td>0</td>\n",
       "      <td>0</td>\n",
       "      <td>0</td>\n",
       "      <td>0</td>\n",
       "      <td>0</td>\n",
       "      <td>0</td>\n",
       "      <td>0</td>\n",
       "      <td>0</td>\n",
       "      <td>0</td>\n",
       "      <td>0</td>\n",
       "      <td>1e2fc704e</td>\n",
       "      <td>1</td>\n",
       "      <td>0</td>\n",
       "      <td>0</td>\n",
       "      <td>1</td>\n",
       "      <td>8</td>\n",
       "      <td>no</td>\n",
       "      <td>11</td>\n",
       "      <td>NaN</td>\n",
       "      <td>0</td>\n",
       "      <td>0</td>\n",
       "      <td>0</td>\n",
       "      <td>0</td>\n",
       "      <td>1</td>\n",
       "      <td>0</td>\n",
       "      <td>0</td>\n",
       "      <td>0</td>\n",
       "      <td>0</td>\n",
       "      <td>2</td>\n",
       "      <td>0.5</td>\n",
       "      <td>0</td>\n",
       "      <td>0</td>\n",
       "      <td>1</td>\n",
       "      <td>0</td>\n",
       "      <td>0</td>\n",
       "      <td>0</td>\n",
       "      <td>0</td>\n",
       "      <td>1</td>\n",
       "      <td>1</td>\n",
       "      <td>1</td>\n",
       "      <td>0</td>\n",
       "      <td>0</td>\n",
       "      <td>0</td>\n",
       "      <td>0</td>\n",
       "      <td>0</td>\n",
       "      <td>1</td>\n",
       "      <td>0</td>\n",
       "      <td>18</td>\n",
       "      <td>121</td>\n",
       "      <td>324</td>\n",
       "      <td>1</td>\n",
       "      <td>0</td>\n",
       "      <td>1</td>\n",
       "      <td>0.25</td>\n",
       "      <td>64.00</td>\n",
       "      <td>NaN</td>\n",
       "      <td>324</td>\n",
       "    </tr>\n",
       "  </tbody>\n",
       "</table>\n",
       "</div>"
      ],
      "text/plain": [
       "             Id      v2a1  hacdor  rooms  hacapo  v14a  refrig  v18q  v18q1  \\\n",
       "0  ID_2f6873615       NaN       0      5       0     1       1     0    NaN   \n",
       "1  ID_1c78846d2       NaN       0      5       0     1       1     0    NaN   \n",
       "2  ID_e5442cf6a       NaN       0      5       0     1       1     0    NaN   \n",
       "3  ID_a8db26a79       NaN       0     14       0     1       1     1    1.0   \n",
       "4  ID_a62966799  175000.0       0      4       0     1       1     1    1.0   \n",
       "\n",
       "   r4h1  r4h2  r4h3  r4m1  r4m2  r4m3  r4t1  r4t2  r4t3  tamhog  tamviv  \\\n",
       "0     1     1     2     0     1     1     1     2     3       3       3   \n",
       "1     1     1     2     0     1     1     1     2     3       3       3   \n",
       "2     1     1     2     0     1     1     1     2     3       3       3   \n",
       "3     0     1     1     0     0     0     0     1     1       1       1   \n",
       "4     0     0     0     0     1     1     0     1     1       1       1   \n",
       "\n",
       "   escolari  rez_esc  hhsize  paredblolad  paredzocalo  paredpreb  pareddes  \\\n",
       "0         0      NaN       3            1            0          0         0   \n",
       "1        16      NaN       3            1            0          0         0   \n",
       "2        17      NaN       3            1            0          0         0   \n",
       "3        16      NaN       1            1            0          0         0   \n",
       "4        11      NaN       1            1            0          0         0   \n",
       "\n",
       "   paredmad  paredzinc  paredfibras  paredother  pisomoscer  pisocemento  \\\n",
       "0         0          0            0           0           1            0   \n",
       "1         0          0            0           0           1            0   \n",
       "2         0          0            0           0           1            0   \n",
       "3         0          0            0           0           1            0   \n",
       "4         0          0            0           0           1            0   \n",
       "\n",
       "   pisoother  pisonatur  pisonotiene  pisomadera  techozinc  techoentrepiso  \\\n",
       "0          0          0            0           0          1               0   \n",
       "1          0          0            0           0          1               0   \n",
       "2          0          0            0           0          1               0   \n",
       "3          0          0            0           0          1               0   \n",
       "4          0          0            0           0          1               0   \n",
       "\n",
       "   techocane  techootro  cielorazo  abastaguadentro  abastaguafuera  \\\n",
       "0          0          0          1                1               0   \n",
       "1          0          0          1                1               0   \n",
       "2          0          0          1                1               0   \n",
       "3          0          0          1                1               0   \n",
       "4          0          0          1                1               0   \n",
       "\n",
       "   abastaguano  public  planpri  noelec  coopele  sanitario1  sanitario2  \\\n",
       "0            0       1        0       0        0           0           1   \n",
       "1            0       1        0       0        0           0           1   \n",
       "2            0       1        0       0        0           0           1   \n",
       "3            0       1        0       0        0           0           1   \n",
       "4            0       1        0       0        0           0           1   \n",
       "\n",
       "   sanitario3  sanitario5  sanitario6  energcocinar1  energcocinar2  \\\n",
       "0           0           0           0              0              0   \n",
       "1           0           0           0              0              0   \n",
       "2           0           0           0              0              0   \n",
       "3           0           0           0              0              1   \n",
       "4           0           0           0              0              1   \n",
       "\n",
       "   energcocinar3  energcocinar4  elimbasu1  elimbasu2  elimbasu3  elimbasu4  \\\n",
       "0              1              0          1          0          0          0   \n",
       "1              1              0          1          0          0          0   \n",
       "2              1              0          1          0          0          0   \n",
       "3              0              0          1          0          0          0   \n",
       "4              0              0          1          0          0          0   \n",
       "\n",
       "   elimbasu5  elimbasu6  epared1  epared2  epared3  etecho1  etecho2  etecho3  \\\n",
       "0          0          0        0        0        1        0        0        1   \n",
       "1          0          0        0        0        1        0        0        1   \n",
       "2          0          0        0        0        1        0        0        1   \n",
       "3          0          0        0        0        1        0        0        1   \n",
       "4          0          0        0        1        0        0        0        1   \n",
       "\n",
       "   eviv1  eviv2  eviv3  dis  male  female  estadocivil1  estadocivil2  \\\n",
       "0      0      0      1    0     1       0             1             0   \n",
       "1      0      0      1    0     1       0             0             0   \n",
       "2      0      0      1    0     0       1             0             0   \n",
       "3      0      0      1    0     1       0             0             0   \n",
       "4      0      0      1    0     0       1             0             0   \n",
       "\n",
       "   estadocivil3  estadocivil4  estadocivil5  estadocivil6  estadocivil7  \\\n",
       "0             0             0             0             0             0   \n",
       "1             1             0             0             0             0   \n",
       "2             1             0             0             0             0   \n",
       "3             0             0             1             0             0   \n",
       "4             0             0             0             0             1   \n",
       "\n",
       "   parentesco1  parentesco2  parentesco3  parentesco4  parentesco5  \\\n",
       "0            0            0            1            0            0   \n",
       "1            0            1            0            0            0   \n",
       "2            1            0            0            0            0   \n",
       "3            1            0            0            0            0   \n",
       "4            1            0            0            0            0   \n",
       "\n",
       "   parentesco6  parentesco7  parentesco8  parentesco9  parentesco10  \\\n",
       "0            0            0            0            0             0   \n",
       "1            0            0            0            0             0   \n",
       "2            0            0            0            0             0   \n",
       "3            0            0            0            0             0   \n",
       "4            0            0            0            0             0   \n",
       "\n",
       "   parentesco11  parentesco12    idhogar  hogar_nin  hogar_adul  hogar_mayor  \\\n",
       "0             0             0  72958b30c          1           2            0   \n",
       "1             0             0  72958b30c          1           2            0   \n",
       "2             0             0  72958b30c          1           2            0   \n",
       "3             0             0  5b598fbc9          0           1            0   \n",
       "4             0             0  1e2fc704e          1           0            0   \n",
       "\n",
       "   hogar_total dependency edjefe edjefa  meaneduc  instlevel1  instlevel2  \\\n",
       "0            3         .5     no     17      16.5           1           0   \n",
       "1            3         .5     no     17      16.5           0           0   \n",
       "2            3         .5     no     17      16.5           0           0   \n",
       "3            1         no     16     no      16.0           0           0   \n",
       "4            1          8     no     11       NaN           0           0   \n",
       "\n",
       "   instlevel3  instlevel4  instlevel5  instlevel6  instlevel7  instlevel8  \\\n",
       "0           0           0           0           0           0           0   \n",
       "1           0           0           0           0           0           1   \n",
       "2           0           0           0           0           0           0   \n",
       "3           0           0           0           0           0           1   \n",
       "4           0           0           1           0           0           0   \n",
       "\n",
       "   instlevel9  bedrooms  overcrowding  tipovivi1  tipovivi2  tipovivi3  \\\n",
       "0           0         2           1.5          1          0          0   \n",
       "1           0         2           1.5          1          0          0   \n",
       "2           1         2           1.5          1          0          0   \n",
       "3           0         1           1.0          1          0          0   \n",
       "4           0         2           0.5          0          0          1   \n",
       "\n",
       "   tipovivi4  tipovivi5  computer  television  mobilephone  qmobilephone  \\\n",
       "0          0          0         1           0            1             2   \n",
       "1          0          0         1           0            1             2   \n",
       "2          0          0         1           0            1             2   \n",
       "3          0          0         1           0            1             2   \n",
       "4          0          0         0           0            1             1   \n",
       "\n",
       "   lugar1  lugar2  lugar3  lugar4  lugar5  lugar6  area1  area2  age  \\\n",
       "0       1       0       0       0       0       0      1      0    4   \n",
       "1       1       0       0       0       0       0      1      0   41   \n",
       "2       1       0       0       0       0       0      1      0   41   \n",
       "3       1       0       0       0       0       0      1      0   59   \n",
       "4       1       0       0       0       0       0      1      0   18   \n",
       "\n",
       "   SQBescolari  SQBage  SQBhogar_total  SQBedjefe  SQBhogar_nin  \\\n",
       "0            0      16               9          0             1   \n",
       "1          256    1681               9          0             1   \n",
       "2          289    1681               9          0             1   \n",
       "3          256    3481               1        256             0   \n",
       "4          121     324               1          0             1   \n",
       "\n",
       "   SQBovercrowding  SQBdependency  SQBmeaned  agesq  \n",
       "0             2.25           0.25     272.25     16  \n",
       "1             2.25           0.25     272.25   1681  \n",
       "2             2.25           0.25     272.25   1681  \n",
       "3             1.00           0.00     256.00   3481  \n",
       "4             0.25          64.00        NaN    324  "
      ]
     },
     "execution_count": 84,
     "metadata": {},
     "output_type": "execute_result"
    }
   ],
   "source": [
    "test=pd.read_csv('../input/costa-rican-household-poverty-prediction/test.csv')\n",
    "test.head()"
   ]
  },
  {
   "cell_type": "code",
   "execution_count": 85,
   "metadata": {
    "execution": {
     "iopub.execute_input": "2020-12-11T15:59:18.624979Z",
     "iopub.status.busy": "2020-12-11T15:59:18.624233Z",
     "iopub.status.idle": "2020-12-11T15:59:18.647886Z",
     "shell.execute_reply": "2020-12-11T15:59:18.647268Z"
    },
    "papermill": {
     "duration": 0.181293,
     "end_time": "2020-12-11T15:59:18.648011",
     "exception": false,
     "start_time": "2020-12-11T15:59:18.466718",
     "status": "completed"
    },
    "tags": []
   },
   "outputs": [],
   "source": [
    "test['dependency']=np.sqrt(test['SQBdependency'])\n",
    "test['v2a1']=test['v2a1'].fillna(0)\n",
    "test['v18q1']=test['v18q1'].fillna(0)\n",
    "test.drop(['SQBmeaned'],axis=1,inplace=True)\n",
    "test['rez_esc']=test['rez_esc'].fillna(0)"
   ]
  },
  {
   "cell_type": "code",
   "execution_count": 86,
   "metadata": {
    "execution": {
     "iopub.execute_input": "2020-12-11T15:59:18.963377Z",
     "iopub.status.busy": "2020-12-11T15:59:18.962654Z",
     "iopub.status.idle": "2020-12-11T15:59:18.966772Z",
     "shell.execute_reply": "2020-12-11T15:59:18.966085Z"
    },
    "papermill": {
     "duration": 0.171367,
     "end_time": "2020-12-11T15:59:18.966908",
     "exception": false,
     "start_time": "2020-12-11T15:59:18.795541",
     "status": "completed"
    },
    "tags": []
   },
   "outputs": [],
   "source": [
    "xtest=test.drop(['Id','idhogar','edjefe', 'edjefa'], axis=1)\n",
    "xtest['meaneduc']=xtest['meaneduc'].fillna(0)"
   ]
  },
  {
   "cell_type": "code",
   "execution_count": 87,
   "metadata": {
    "execution": {
     "iopub.execute_input": "2020-12-11T15:59:19.274874Z",
     "iopub.status.busy": "2020-12-11T15:59:19.274017Z",
     "iopub.status.idle": "2020-12-11T15:59:19.278215Z",
     "shell.execute_reply": "2020-12-11T15:59:19.277495Z"
    },
    "papermill": {
     "duration": 0.161615,
     "end_time": "2020-12-11T15:59:19.278328",
     "exception": false,
     "start_time": "2020-12-11T15:59:19.116713",
     "status": "completed"
    },
    "tags": []
   },
   "outputs": [
    {
     "data": {
      "text/plain": [
       "(23856, 137)"
      ]
     },
     "execution_count": 87,
     "metadata": {},
     "output_type": "execute_result"
    }
   ],
   "source": [
    "xtest.shape"
   ]
  },
  {
   "cell_type": "code",
   "execution_count": 88,
   "metadata": {
    "execution": {
     "iopub.execute_input": "2020-12-11T15:59:19.582915Z",
     "iopub.status.busy": "2020-12-11T15:59:19.582010Z",
     "iopub.status.idle": "2020-12-11T15:59:19.596638Z",
     "shell.execute_reply": "2020-12-11T15:59:19.595833Z"
    },
    "papermill": {
     "duration": 0.169529,
     "end_time": "2020-12-11T15:59:19.596776",
     "exception": false,
     "start_time": "2020-12-11T15:59:19.427247",
     "status": "completed"
    },
    "tags": []
   },
   "outputs": [
    {
     "data": {
      "text/plain": [
       "Index([], dtype='object')"
      ]
     },
     "execution_count": 88,
     "metadata": {},
     "output_type": "execute_result"
    }
   ],
   "source": [
    "xtest.columns[xtest.isna().sum()!=0]"
   ]
  },
  {
   "cell_type": "code",
   "execution_count": 89,
   "metadata": {
    "execution": {
     "iopub.execute_input": "2020-12-11T15:59:19.909409Z",
     "iopub.status.busy": "2020-12-11T15:59:19.908292Z",
     "iopub.status.idle": "2020-12-11T15:59:20.189134Z",
     "shell.execute_reply": "2020-12-11T15:59:20.189743Z"
    },
    "papermill": {
     "duration": 0.436672,
     "end_time": "2020-12-11T15:59:20.189914",
     "exception": false,
     "start_time": "2020-12-11T15:59:19.753242",
     "status": "completed"
    },
    "tags": []
   },
   "outputs": [],
   "source": [
    "ypred=rfs.predict(xtest)"
   ]
  },
  {
   "cell_type": "code",
   "execution_count": 90,
   "metadata": {
    "execution": {
     "iopub.execute_input": "2020-12-11T15:59:20.494630Z",
     "iopub.status.busy": "2020-12-11T15:59:20.493751Z",
     "iopub.status.idle": "2020-12-11T15:59:20.496610Z",
     "shell.execute_reply": "2020-12-11T15:59:20.495908Z"
    },
    "papermill": {
     "duration": 0.155893,
     "end_time": "2020-12-11T15:59:20.496766",
     "exception": false,
     "start_time": "2020-12-11T15:59:20.340873",
     "status": "completed"
    },
    "tags": []
   },
   "outputs": [],
   "source": [
    "from pandas import DataFrame\n",
    "df = DataFrame ()"
   ]
  },
  {
   "cell_type": "code",
   "execution_count": 91,
   "metadata": {
    "execution": {
     "iopub.execute_input": "2020-12-11T15:59:20.829511Z",
     "iopub.status.busy": "2020-12-11T15:59:20.828634Z",
     "iopub.status.idle": "2020-12-11T15:59:20.832369Z",
     "shell.execute_reply": "2020-12-11T15:59:20.831837Z"
    },
    "papermill": {
     "duration": 0.181559,
     "end_time": "2020-12-11T15:59:20.832483",
     "exception": false,
     "start_time": "2020-12-11T15:59:20.650924",
     "status": "completed"
    },
    "tags": []
   },
   "outputs": [],
   "source": [
    "df['Id']=test['Id']\n",
    "df['Target']=ypred.reshape(-1,)"
   ]
  },
  {
   "cell_type": "code",
   "execution_count": 92,
   "metadata": {
    "execution": {
     "iopub.execute_input": "2020-12-11T15:59:21.144393Z",
     "iopub.status.busy": "2020-12-11T15:59:21.143501Z",
     "iopub.status.idle": "2020-12-11T15:59:21.147969Z",
     "shell.execute_reply": "2020-12-11T15:59:21.147370Z"
    },
    "papermill": {
     "duration": 0.165004,
     "end_time": "2020-12-11T15:59:21.148087",
     "exception": false,
     "start_time": "2020-12-11T15:59:20.983083",
     "status": "completed"
    },
    "tags": []
   },
   "outputs": [
    {
     "data": {
      "text/html": [
       "<div>\n",
       "<style scoped>\n",
       "    .dataframe tbody tr th:only-of-type {\n",
       "        vertical-align: middle;\n",
       "    }\n",
       "\n",
       "    .dataframe tbody tr th {\n",
       "        vertical-align: top;\n",
       "    }\n",
       "\n",
       "    .dataframe thead th {\n",
       "        text-align: right;\n",
       "    }\n",
       "</style>\n",
       "<table border=\"1\" class=\"dataframe\">\n",
       "  <thead>\n",
       "    <tr style=\"text-align: right;\">\n",
       "      <th></th>\n",
       "      <th>Id</th>\n",
       "      <th>Target</th>\n",
       "    </tr>\n",
       "  </thead>\n",
       "  <tbody>\n",
       "    <tr>\n",
       "      <th>0</th>\n",
       "      <td>ID_2f6873615</td>\n",
       "      <td>4</td>\n",
       "    </tr>\n",
       "    <tr>\n",
       "      <th>1</th>\n",
       "      <td>ID_1c78846d2</td>\n",
       "      <td>4</td>\n",
       "    </tr>\n",
       "    <tr>\n",
       "      <th>2</th>\n",
       "      <td>ID_e5442cf6a</td>\n",
       "      <td>4</td>\n",
       "    </tr>\n",
       "    <tr>\n",
       "      <th>3</th>\n",
       "      <td>ID_a8db26a79</td>\n",
       "      <td>4</td>\n",
       "    </tr>\n",
       "    <tr>\n",
       "      <th>4</th>\n",
       "      <td>ID_a62966799</td>\n",
       "      <td>4</td>\n",
       "    </tr>\n",
       "  </tbody>\n",
       "</table>\n",
       "</div>"
      ],
      "text/plain": [
       "             Id  Target\n",
       "0  ID_2f6873615       4\n",
       "1  ID_1c78846d2       4\n",
       "2  ID_e5442cf6a       4\n",
       "3  ID_a8db26a79       4\n",
       "4  ID_a62966799       4"
      ]
     },
     "execution_count": 92,
     "metadata": {},
     "output_type": "execute_result"
    }
   ],
   "source": [
    "df.head()"
   ]
  },
  {
   "cell_type": "code",
   "execution_count": 93,
   "metadata": {
    "execution": {
     "iopub.execute_input": "2020-12-11T15:59:21.459622Z",
     "iopub.status.busy": "2020-12-11T15:59:21.458867Z",
     "iopub.status.idle": "2020-12-11T15:59:21.781360Z",
     "shell.execute_reply": "2020-12-11T15:59:21.780618Z"
    },
    "papermill": {
     "duration": 0.479259,
     "end_time": "2020-12-11T15:59:21.781500",
     "exception": false,
     "start_time": "2020-12-11T15:59:21.302241",
     "status": "completed"
    },
    "tags": []
   },
   "outputs": [],
   "source": [
    "df.to_csv('submission.csv',index=False)"
   ]
  },
  {
   "cell_type": "code",
   "execution_count": 94,
   "metadata": {
    "execution": {
     "iopub.execute_input": "2020-12-11T15:59:22.093057Z",
     "iopub.status.busy": "2020-12-11T15:59:22.092258Z",
     "iopub.status.idle": "2020-12-11T15:59:22.096307Z",
     "shell.execute_reply": "2020-12-11T15:59:22.095583Z"
    },
    "papermill": {
     "duration": 0.162016,
     "end_time": "2020-12-11T15:59:22.096425",
     "exception": false,
     "start_time": "2020-12-11T15:59:21.934409",
     "status": "completed"
    },
    "tags": []
   },
   "outputs": [
    {
     "data": {
      "text/plain": [
       "{'n_estimators': 42}"
      ]
     },
     "execution_count": 94,
     "metadata": {},
     "output_type": "execute_result"
    }
   ],
   "source": [
    "gs.best_params_"
   ]
  },
  {
   "cell_type": "code",
   "execution_count": null,
   "metadata": {
    "papermill": {
     "duration": 0.152653,
     "end_time": "2020-12-11T15:59:22.404498",
     "exception": false,
     "start_time": "2020-12-11T15:59:22.251845",
     "status": "completed"
    },
    "tags": []
   },
   "outputs": [],
   "source": []
  }
 ],
 "metadata": {
  "kernelspec": {
   "display_name": "Python 3",
   "language": "python",
   "name": "python3"
  },
  "language_info": {
   "codemirror_mode": {
    "name": "ipython",
    "version": 3
   },
   "file_extension": ".py",
   "mimetype": "text/x-python",
   "name": "python",
   "nbconvert_exporter": "python",
   "pygments_lexer": "ipython3",
   "version": "3.7.6"
  },
  "papermill": {
   "duration": 230.779269,
   "end_time": "2020-12-11T15:59:22.665883",
   "environment_variables": {},
   "exception": null,
   "input_path": "__notebook__.ipynb",
   "output_path": "__notebook__.ipynb",
   "parameters": {},
   "start_time": "2020-12-11T15:55:31.886614",
   "version": "2.1.0"
  }
 },
 "nbformat": 4,
 "nbformat_minor": 4
}
